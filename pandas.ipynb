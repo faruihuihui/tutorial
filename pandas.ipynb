{
 "cells": [
  {
   "cell_type": "markdown",
   "metadata": {},
   "source": [
    "# Pandas\n",
    "## Introduction\n",
    "Pandas contains high-level data structures, and manipulation tools designed to make data analysis fast and easy. "
   ]
  },
  {
   "cell_type": "markdown",
   "metadata": {},
   "source": [
    "## Data structure\n",
    "Pandas has two workhorse data structures, Series and DataFrame. "
   ]
  },
  {
   "cell_type": "code",
   "execution_count": 1,
   "metadata": {
    "collapsed": true
   },
   "outputs": [],
   "source": [
    "from pandas import Series, DataFrame\n",
    "import pandas as pd\n",
    "import numpy as np"
   ]
  },
  {
   "cell_type": "markdown",
   "metadata": {},
   "source": [
    "### Series\n",
    "A Series is a one-dimensional array-like object containing an array of data, and associated array of data labels, so called index."
   ]
  },
  {
   "cell_type": "code",
   "execution_count": 4,
   "metadata": {
    "collapsed": false
   },
   "outputs": [
    {
     "name": "stdout",
     "output_type": "stream",
     "text": [
      "0    4\n",
      "1    7\n",
      "2   -5\n",
      "3    3\n",
      "dtype: int64\n"
     ]
    }
   ],
   "source": [
    "obj = Series([4, 7, -5, 3])\n",
    "print obj"
   ]
  },
  {
   "cell_type": "code",
   "execution_count": 6,
   "metadata": {
    "collapsed": false
   },
   "outputs": [
    {
     "name": "stdout",
     "output_type": "stream",
     "text": [
      "[ 4  7 -5  3]\n",
      "RangeIndex(start=0, stop=4, step=1)\n"
     ]
    }
   ],
   "source": [
    "print obj.values\n",
    "print obj.index"
   ]
  },
  {
   "cell_type": "code",
   "execution_count": 7,
   "metadata": {
    "collapsed": false
   },
   "outputs": [
    {
     "name": "stdout",
     "output_type": "stream",
     "text": [
      "a    4\n",
      "c    7\n",
      "b   -5\n",
      "d    3\n",
      "dtype: int64\n"
     ]
    }
   ],
   "source": [
    "obj2 = Series([4, 7, -5, 3], index=['a', 'c', 'b', 'd'])\n",
    "print obj2"
   ]
  },
  {
   "cell_type": "code",
   "execution_count": 9,
   "metadata": {
    "collapsed": false
   },
   "outputs": [
    {
     "name": "stdout",
     "output_type": "stream",
     "text": [
      "4\n",
      "a    4\n",
      "b   -5\n",
      "c    7\n",
      "dtype: int64\n"
     ]
    }
   ],
   "source": [
    "print obj2['a']\n",
    "print obj2[['a', 'b', 'c']]"
   ]
  },
  {
   "cell_type": "code",
   "execution_count": 13,
   "metadata": {
    "collapsed": false
   },
   "outputs": [
    {
     "name": "stdout",
     "output_type": "stream",
     "text": [
      "1 a    4\n",
      "c    7\n",
      "d    3\n",
      "dtype: int64\n",
      "2 a     8\n",
      "c    14\n",
      "b   -10\n",
      "d     6\n",
      "dtype: int64\n",
      "3 a      54.598150\n",
      "c    1096.633158\n",
      "b       0.006738\n",
      "d      20.085537\n",
      "dtype: float64\n"
     ]
    }
   ],
   "source": [
    "print '1', obj2[obj2 > 0]\n",
    "print '2', obj2 * 2\n",
    "print '3', np.exp(obj2)"
   ]
  },
  {
   "cell_type": "code",
   "execution_count": 14,
   "metadata": {
    "collapsed": false
   },
   "outputs": [
    {
     "name": "stdout",
     "output_type": "stream",
     "text": [
      "4\n",
      "True\n"
     ]
    }
   ],
   "source": [
    "print obj2.a\n",
    "print 'a' in obj2"
   ]
  },
  {
   "cell_type": "code",
   "execution_count": 18,
   "metadata": {
    "collapsed": false
   },
   "outputs": [
    {
     "name": "stdout",
     "output_type": "stream",
     "text": [
      "Ohio      [35000, 23]\n",
      "Oregon     [16000, 4]\n",
      "Texas     [71000, 30]\n",
      "Utah       [5000, 50]\n",
      "dtype: object\n"
     ]
    }
   ],
   "source": [
    "sdata = {'Ohio': [35000, 23], 'Texas': [71000, 30], 'Oregon': [16000, 4], 'Utah': [5000, 50]}\n",
    "obj3 = Series(sdata)\n",
    "print obj3"
   ]
  },
  {
   "cell_type": "code",
   "execution_count": 23,
   "metadata": {
    "collapsed": false
   },
   "outputs": [
    {
     "name": "stdout",
     "output_type": "stream",
     "text": [
      "35000\n"
     ]
    }
   ],
   "source": [
    "states = ['California', 'Ohio', 'Oregon', 'Texas']\n",
    "obj4 = Series(sdata, index=states)\n",
    "print obj4.Ohio[0]"
   ]
  },
  {
   "cell_type": "code",
   "execution_count": 26,
   "metadata": {
    "collapsed": false
   },
   "outputs": [
    {
     "name": "stdout",
     "output_type": "stream",
     "text": [
      "California     True\n",
      "Ohio          False\n",
      "Oregon        False\n",
      "Texas         False\n",
      "dtype: bool\n",
      "California    False\n",
      "Ohio           True\n",
      "Oregon         True\n",
      "Texas          True\n",
      "dtype: bool\n",
      "California     True\n",
      "Ohio          False\n",
      "Oregon        False\n",
      "Texas         False\n",
      "dtype: bool California    False\n",
      "Ohio           True\n",
      "Oregon         True\n",
      "Texas          True\n",
      "dtype: bool\n"
     ]
    }
   ],
   "source": [
    "print pd.isnull(obj4)\n",
    "print pd.notnull(obj4)\n",
    "print obj4.isnull(), obj4.notnull()"
   ]
  },
  {
   "cell_type": "code",
   "execution_count": 27,
   "metadata": {
    "collapsed": false
   },
   "outputs": [
    {
     "name": "stdout",
     "output_type": "stream",
     "text": [
      "California                       NaN\n",
      "Ohio          [35000, 23, 35000, 23]\n",
      "Oregon          [16000, 4, 16000, 4]\n",
      "Texas         [71000, 30, 71000, 30]\n",
      "dtype: object\n"
     ]
    }
   ],
   "source": [
    "obj5 = obj3 + obj4\n",
    "print obj5"
   ]
  },
  {
   "cell_type": "markdown",
   "metadata": {},
   "source": [
    "### DataFrame"
   ]
  },
  {
   "cell_type": "code",
   "execution_count": 30,
   "metadata": {
    "collapsed": false
   },
   "outputs": [
    {
     "name": "stdout",
     "output_type": "stream",
     "text": [
      "    Ohio  Oregon  Texas  Utah\n",
      "0  35000   16000  71000  5000\n",
      "1     23       4     30    50\n"
     ]
    }
   ],
   "source": [
    "df1 = DataFrame(sdata)\n",
    "print df1"
   ]
  },
  {
   "cell_type": "code",
   "execution_count": 31,
   "metadata": {
    "collapsed": false
   },
   "outputs": [
    {
     "name": "stdout",
     "output_type": "stream",
     "text": [
      "   pop   state  year\n",
      "0  1.5    Ohio  2000\n",
      "1  1.7    Ohio  2001\n",
      "2  3.6    Ohio  2002\n",
      "3  2.4  Nevada  2001\n",
      "4  2.9  Nevada  2002\n"
     ]
    }
   ],
   "source": [
    "data = {'state': ['Ohio', 'Ohio', 'Ohio', 'Nevada', 'Nevada'], 'year': [2000, 2001, 2002, 2001, 2002], 'pop': [1.5, 1.7, 3.6, 2.4, 2.9]}\n",
    "frame = DataFrame(data)\n",
    "print frame"
   ]
  },
  {
   "cell_type": "code",
   "execution_count": 32,
   "metadata": {
    "collapsed": false
   },
   "outputs": [
    {
     "name": "stdout",
     "output_type": "stream",
     "text": [
      "       year   state  pop debt\n",
      "one    2000    Ohio  1.5  NaN\n",
      "two    2001    Ohio  1.7  NaN\n",
      "three  2002    Ohio  3.6  NaN\n",
      "four   2001  Nevada  2.4  NaN\n",
      "five   2002  Nevada  2.9  NaN\n"
     ]
    }
   ],
   "source": [
    "frame2 = DataFrame(data, columns=['year', 'state', 'pop', 'debt'], index=['one', 'two', 'three', 'four', 'five'])\n",
    "print frame2"
   ]
  },
  {
   "cell_type": "code",
   "execution_count": 33,
   "metadata": {
    "collapsed": false
   },
   "outputs": [
    {
     "name": "stdout",
     "output_type": "stream",
     "text": [
      "       year   state  pop  debt\n",
      "one    2000    Ohio  1.5   1.6\n",
      "two    2001    Ohio  1.7   1.6\n",
      "three  2002    Ohio  3.6   1.6\n",
      "four   2001  Nevada  2.4   1.6\n",
      "five   2002  Nevada  2.9   1.6\n"
     ]
    }
   ],
   "source": [
    "frame2.debt = 1.6\n",
    "print frame2"
   ]
  },
  {
   "cell_type": "code",
   "execution_count": 34,
   "metadata": {
    "collapsed": false
   },
   "outputs": [
    {
     "name": "stdout",
     "output_type": "stream",
     "text": [
      "       year   state  pop  debt\n",
      "one    2000    Ohio  1.5     0\n",
      "two    2001    Ohio  1.7     1\n",
      "three  2002    Ohio  3.6     2\n",
      "four   2001  Nevada  2.4     3\n",
      "five   2002  Nevada  2.9     4\n"
     ]
    }
   ],
   "source": [
    "frame2.debt = np.arange(5)\n",
    "print frame2"
   ]
  },
  {
   "cell_type": "code",
   "execution_count": 39,
   "metadata": {
    "collapsed": false
   },
   "outputs": [
    {
     "data": {
      "text/plain": [
       "year     2000\n",
       "state    Ohio\n",
       "pop       1.5\n",
       "debt        0\n",
       "Name: one, dtype: object"
      ]
     },
     "execution_count": 39,
     "metadata": {},
     "output_type": "execute_result"
    }
   ],
   "source": [
    "frame2.T.one"
   ]
  },
  {
   "cell_type": "markdown",
   "metadata": {},
   "source": [
    "## Essential Functionality\n",
    "### Reindexing\n",
    "Reindexing means to create a new object with the data conformed to a new index"
   ]
  },
  {
   "cell_type": "code",
   "execution_count": 41,
   "metadata": {
    "collapsed": false
   },
   "outputs": [
    {
     "name": "stdout",
     "output_type": "stream",
     "text": [
      "d    4.5\n",
      "b    7.2\n",
      "a   -5.3\n",
      "c    3.6\n",
      "dtype: float64\n",
      "a   -5.3\n",
      "b    7.2\n",
      "c    3.6\n",
      "d    4.5\n",
      "e    NaN\n",
      "dtype: float64\n",
      "a   -5.3\n",
      "b    7.2\n",
      "c    3.6\n",
      "d    4.5\n",
      "e    0.0\n",
      "dtype: float64\n"
     ]
    }
   ],
   "source": [
    "obj = Series([4.5, 7.2, -5.3, 3.6], index=['d', 'b', 'a', 'c'])\n",
    "print obj\n",
    "obj2 = obj.reindex(['a', 'b', 'c', 'd', 'e'])\n",
    "print obj2\n",
    "obj3 = obj.reindex(['a', 'b', 'c', 'd', 'e'], fill_value=0)\n",
    "print obj3"
   ]
  },
  {
   "cell_type": "code",
   "execution_count": 42,
   "metadata": {
    "collapsed": false
   },
   "outputs": [
    {
     "name": "stdout",
     "output_type": "stream",
     "text": [
      "0      blue\n",
      "1      blue\n",
      "2    purple\n",
      "3    purple\n",
      "4    yellow\n",
      "5    yellow\n",
      "dtype: object\n",
      "0      blue\n",
      "1      blue\n",
      "2    purple\n",
      "3    purple\n",
      "4    yellow\n",
      "5    yellow\n",
      "dtype: object\n",
      "0      blue\n",
      "1    purple\n",
      "2    purple\n",
      "3    yellow\n",
      "4    yellow\n",
      "5       NaN\n",
      "dtype: object\n",
      "0      blue\n",
      "1    purple\n",
      "2    purple\n",
      "3    yellow\n",
      "4    yellow\n",
      "5       NaN\n",
      "dtype: object\n"
     ]
    }
   ],
   "source": [
    "obj4 = Series(['blue', 'purple', 'yellow'], index=[0, 2, 4])\n",
    "print obj4.reindex(range(6), method='ffill')\n",
    "print obj4.reindex(range(6), method='pad')\n",
    "print obj4.reindex(range(6), method='bfill')\n",
    "print obj4.reindex(range(6), method='backfill')"
   ]
  },
  {
   "cell_type": "markdown",
   "metadata": {},
   "source": [
    "DataFrame, columns also can be reindexed"
   ]
  },
  {
   "cell_type": "code",
   "execution_count": 4,
   "metadata": {
    "collapsed": false
   },
   "outputs": [
    {
     "name": "stdout",
     "output_type": "stream",
     "text": [
      "   Ohio  Texas  California\n",
      "a     0      1           2\n",
      "c     3      4           5\n",
      "d     6      7           8\n",
      "   Ohio  Utah  Texas  California\n",
      "a     0   NaN      1           2\n",
      "c     3   NaN      4           5\n",
      "d     6   NaN      7           8\n"
     ]
    }
   ],
   "source": [
    "frame = DataFrame(np.arange(9).reshape((3, 3)), index=['a', 'c', 'd'], columns=['Ohio', 'Texas', 'California'])\n",
    "print frame\n",
    "states = ['Ohio', 'Utah', 'Texas', 'California']\n",
    "print frame.reindex(columns=states)"
   ]
  },
  {
   "cell_type": "code",
   "execution_count": 45,
   "metadata": {
    "collapsed": false
   },
   "outputs": [
    {
     "data": {
      "text/plain": [
       "a    1\n",
       "c    4\n",
       "d    7\n",
       "Name: Texas, dtype: int64"
      ]
     },
     "execution_count": 45,
     "metadata": {},
     "output_type": "execute_result"
    }
   ],
   "source": [
    "frame.ix[:, 'Texas']"
   ]
  },
  {
   "cell_type": "markdown",
   "metadata": {},
   "source": [
    "### Dropping entries from an axis"
   ]
  },
  {
   "cell_type": "code",
   "execution_count": 47,
   "metadata": {
    "collapsed": false
   },
   "outputs": [
    {
     "name": "stdout",
     "output_type": "stream",
     "text": [
      "a    0.0\n",
      "b    1.0\n",
      "d    3.0\n",
      "e    4.0\n",
      "dtype: float64\n",
      "b    1.0\n",
      "d    3.0\n",
      "e    4.0\n",
      "dtype: float64\n"
     ]
    }
   ],
   "source": [
    "obj = Series(np.arange(5.), index=['a', 'b', 'c', 'd', 'e'])\n",
    "print obj.drop('c')\n",
    "print obj.drop(['a', 'c'])"
   ]
  },
  {
   "cell_type": "code",
   "execution_count": 60,
   "metadata": {
    "collapsed": false
   },
   "outputs": [
    {
     "name": "stdout",
     "output_type": "stream",
     "text": [
      "          one  two  three  four\n",
      "Colorado    4    5      6     7\n",
      "Utah        8    9     10    11\n",
      "New York   12   13     14    15\n",
      "          two  three  four\n",
      "Ohio        1      2     3\n",
      "Colorado    5      6     7\n",
      "Utah        9     10    11\n",
      "New York   13     14    15\n"
     ]
    }
   ],
   "source": [
    "data = DataFrame(np.arange(16).reshape((4, 4)), index=['Ohio', 'Colorado', 'Utah', 'New York'], columns=['one', 'two', 'three', 'four'])\n",
    "\n",
    "print data.drop('Ohio')\n",
    "print data.drop('one', axis=1)"
   ]
  },
  {
   "cell_type": "markdown",
   "metadata": {},
   "source": [
    "### Indexing, selection, and filtering"
   ]
  },
  {
   "cell_type": "code",
   "execution_count": 62,
   "metadata": {
    "collapsed": false
   },
   "outputs": [
    {
     "name": "stdout",
     "output_type": "stream",
     "text": [
      "1.0\n",
      "c    2.0\n",
      "d    3.0\n",
      "dtype: float64\n",
      "a    0.0\n",
      "b    1.0\n",
      "dtype: float64\n",
      "b    1.0\n",
      "c    2.0\n",
      "dtype: float64\n"
     ]
    }
   ],
   "source": [
    "obj = Series(np.arange(4.), index=['a', 'b', 'c', 'd'])\n",
    "print obj['b']\n",
    "print obj[2:4]\n",
    "print obj[obj < 2]\n",
    "print obj['b':'c']"
   ]
  },
  {
   "cell_type": "markdown",
   "metadata": {},
   "source": [
    "### Arithmetic methods with fill values"
   ]
  },
  {
   "cell_type": "code",
   "execution_count": 3,
   "metadata": {
    "collapsed": false
   },
   "outputs": [
    {
     "name": "stdout",
     "output_type": "stream",
     "text": [
      "     a    b     c     d\n",
      "0  0.0  1.0   2.0   3.0\n",
      "1  4.0  5.0   6.0   7.0\n",
      "2  8.0  9.0  10.0  11.0       a     b     c     d     e\n",
      "0   0.0   1.0   2.0   3.0   4.0\n",
      "1   5.0   6.0   7.0   8.0   9.0\n",
      "2  10.0  11.0  12.0  13.0  14.0\n",
      "3  15.0  16.0  17.0  18.0  19.0\n"
     ]
    }
   ],
   "source": [
    "df1 = DataFrame(np.arange(12.).reshape((3, 4)), columns=list('abcd'))\n",
    "df2 = DataFrame(np.arange(20.).reshape((4, 5)), columns=list('abcde'))\n",
    "print df1, df2"
   ]
  },
  {
   "cell_type": "code",
   "execution_count": 16,
   "metadata": {
    "collapsed": false
   },
   "outputs": [
    {
     "name": "stdout",
     "output_type": "stream",
     "text": [
      "      a     b     c     d\n",
      "0   0.0   2.0   4.0   6.0\n",
      "1   9.0  11.0  13.0  15.0\n",
      "2  18.0  20.0  22.0  24.0\n"
     ]
    }
   ],
   "source": [
    "print (df1 + df2).dropna(axis=0, how='all').dropna(axis=1, how='all')"
   ]
  },
  {
   "cell_type": "code",
   "execution_count": 18,
   "metadata": {
    "collapsed": false
   },
   "outputs": [
    {
     "name": "stdout",
     "output_type": "stream",
     "text": [
      "0    0.0\n",
      "1    4.0\n",
      "2    8.0\n",
      "Name: a, dtype: float64\n"
     ]
    }
   ],
   "source": [
    "print df1.ix[:,0]"
   ]
  },
  {
   "cell_type": "markdown",
   "metadata": {},
   "source": [
    "### Function application and mapping"
   ]
  },
  {
   "cell_type": "code",
   "execution_count": 23,
   "metadata": {
    "collapsed": false
   },
   "outputs": [
    {
     "name": "stdout",
     "output_type": "stream",
     "text": [
      "               b         d         e\n",
      "Utah    1.155546 -0.264290 -2.136822\n",
      "Ohio   -0.748567 -1.132204  0.120090\n",
      "Texas  -0.111359 -0.070171 -1.772847\n",
      "Oregon  0.751219  1.720155 -0.033606\n",
      "               b         d         e\n",
      "Utah    1.044155 -0.273701 -1.013920\n",
      "Ohio   -1.180178 -0.998683  0.923657\n",
      "Texas  -0.435809 -0.111551 -0.701444\n",
      "Oregon  0.571831  1.383935  0.791708\n"
     ]
    }
   ],
   "source": [
    "f = lambda x: (x - x.mean()) / (x.std())\n",
    "frame = DataFrame(np.random.randn(4, 3), columns=list('bde'), index=['Utah', 'Ohio', 'Texas', 'Oregon'])\n",
    "print frame\n",
    "print frame.apply(f)  # apply function "
   ]
  },
  {
   "cell_type": "code",
   "execution_count": 25,
   "metadata": {
    "collapsed": false
   },
   "outputs": [
    {
     "name": "stdout",
     "output_type": "stream",
     "text": [
      "            b      d      e\n",
      "Utah     1.16  -0.26  -2.14\n",
      "Ohio    -0.75  -1.13   0.12\n",
      "Texas   -0.11  -0.07  -1.77\n",
      "Oregon   0.75   1.72  -0.03\n",
      "Utah      -2.14\n",
      "Ohio       0.12\n",
      "Texas     -1.77\n",
      "Oregon    -0.03\n",
      "Name: e, dtype: object\n"
     ]
    }
   ],
   "source": [
    "# Element-wise python function: applymap\n",
    "format = lambda x: '%.2f' % x\n",
    "print frame.applymap(format)\n",
    "# Series has a map function for applying element-wise function\n",
    "print frame.e.map(format)"
   ]
  },
  {
   "cell_type": "markdown",
   "metadata": {},
   "source": [
    "### Sorting and ranking"
   ]
  },
  {
   "cell_type": "code",
   "execution_count": 32,
   "metadata": {
    "collapsed": false
   },
   "outputs": [
    {
     "name": "stdout",
     "output_type": "stream",
     "text": [
      "a    1\n",
      "b    2\n",
      "c    3\n",
      "d    0\n",
      "dtype: int64\n",
      "c    3\n",
      "b    2\n",
      "a    1\n",
      "d    0\n",
      "dtype: int64\n"
     ]
    }
   ],
   "source": [
    "obj = Series(range(4), index=['d', 'a', 'b', 'c'])\n",
    "print obj.sort_index()\n",
    "print obj.sort_values(ascending=False).index"
   ]
  },
  {
   "cell_type": "code",
   "execution_count": 27,
   "metadata": {
    "collapsed": false
   },
   "outputs": [
    {
     "name": "stdout",
     "output_type": "stream",
     "text": [
      "       a  b  c  d\n",
      "three  1  2  3  0\n",
      "one    5  6  7  4\n"
     ]
    }
   ],
   "source": [
    "frame = DataFrame(np.arange(8).reshape((2, 4)), index=['three', 'one'], columns=['d', 'a', 'b', 'c'])\n",
    "print frame.sort_index(axis=1)"
   ]
  },
  {
   "cell_type": "code",
   "execution_count": 35,
   "metadata": {
    "collapsed": false
   },
   "outputs": [
    {
     "name": "stdout",
     "output_type": "stream",
     "text": [
      "0    1.5\n",
      "1    7.0\n",
      "2    1.5\n",
      "3    3.5\n",
      "4    5.0\n",
      "5    6.0\n",
      "6    3.5\n",
      "dtype: float64\n"
     ]
    }
   ],
   "source": [
    "# ranking, assigning ranks from one through the number of valid data points in an array\n",
    "obj = Series([7, -5, 7, 4, 2, 0, 4])\n",
    "print obj.rank(ascending=False)"
   ]
  },
  {
   "cell_type": "markdown",
   "metadata": {},
   "source": [
    "## Summarzing and Computing Descriptive Statistics"
   ]
  },
  {
   "cell_type": "code",
   "execution_count": 39,
   "metadata": {
    "collapsed": false
   },
   "outputs": [
    {
     "data": {
      "image/png": "[encoded data removed]",
      "text/plain": [
       "<matplotlib.figure.Figure at 0x7fb767f20750>"
      ]
     },
     "metadata": {},
     "output_type": "display_data"
    }
   ],
   "source": [
    "import matplotlib.pyplot as plt\n",
    "import seaborn as sns\n",
    "sns.set_style(\"whitegrid\")\n",
    "tips = sns.load_dataset(\"tips\")\n",
    "ax = sns.violinplot(x=tips[\"total_bill\"])\n",
    "plt.show()"
   ]
  },
  {
   "cell_type": "code",
   "execution_count": 43,
   "metadata": {
    "collapsed": false
   },
   "outputs": [
    {
     "data": {
      "image/png": "[encoded data removed]",
      "text/plain": [
       "<matplotlib.figure.Figure at 0x7fb79c207e10>"
      ]
     },
     "metadata": {},
     "output_type": "display_data"
    }
   ],
   "source": [
    "ax = sns.violinplot(x=\"day\", y=\"total_bill\", data=tips)\n",
    "plt.show()"
   ]
  },
  {
   "cell_type": "code",
   "execution_count": 6,
   "metadata": {
    "collapsed": false
   },
   "outputs": [],
   "source": [
    "fn = '../mtdnn/data/all_data_X.csv'\n",
    "features = pd.read_csv(fn, sep='\\t', header=0, index_col=0)"
   ]
  },
  {
   "cell_type": "code",
   "execution_count": 7,
   "metadata": {
    "collapsed": false
   },
   "outputs": [
    {
     "name": "stdout",
     "output_type": "stream",
     "text": [
      "<class 'pandas.core.frame.DataFrame'>\n",
      "Index: 23595 entries, \"A0A024R214\" to \"X6RKN2\"\n",
      "Columns: 258 entries, \"CC.coil_S1\" to \"SP.signal\"\n",
      "dtypes: float64(258)\n",
      "memory usage: 46.6+ MB\n"
     ]
    }
   ],
   "source": [
    "features.info()"
   ]
  },
  {
   "cell_type": "code",
   "execution_count": 8,
   "metadata": {
    "collapsed": false
   },
   "outputs": [
    {
     "data": {
      "text/html": [
       "<div>\n",
       "<table border=\"1\" class=\"dataframe\">\n",
       "  <thead>\n",
       "    <tr style=\"text-align: right;\">\n",
       "      <th></th>\n",
       "      <th>\"CC.coil_S1\"</th>\n",
       "      <th>\"CC.coil_S2\"</th>\n",
       "      <th>\"CC.coil_S3\"</th>\n",
       "      <th>\"CC.coil_S4\"</th>\n",
       "      <th>\"CC.coil_S5\"</th>\n",
       "      <th>\"CC.coil_S6\"</th>\n",
       "      <th>\"CC.coil_S7\"</th>\n",
       "      <th>\"CC.coil_S8\"</th>\n",
       "      <th>\"CC.coil_cterm\"</th>\n",
       "      <th>\"CC.coil_nterm\"</th>\n",
       "      <th>...</th>\n",
       "      <th>\"SF.surf\"</th>\n",
       "      <th>\"SF.vol\"</th>\n",
       "      <th>\"SP.maxC\"</th>\n",
       "      <th>\"SP.maxCpos\"</th>\n",
       "      <th>\"SP.maxS\"</th>\n",
       "      <th>\"SP.maxSpos\"</th>\n",
       "      <th>\"SP.maxY\"</th>\n",
       "      <th>\"SP.maxYpos\"</th>\n",
       "      <th>\"SP.meanS\"</th>\n",
       "      <th>\"SP.signal\"</th>\n",
       "    </tr>\n",
       "  </thead>\n",
       "  <tbody>\n",
       "    <tr>\n",
       "      <th>count</th>\n",
       "      <td>23595.000000</td>\n",
       "      <td>23595.000000</td>\n",
       "      <td>23595.000000</td>\n",
       "      <td>23595.000000</td>\n",
       "      <td>23595.000000</td>\n",
       "      <td>23595.000000</td>\n",
       "      <td>23595.000000</td>\n",
       "      <td>23595.000000</td>\n",
       "      <td>23595.000000</td>\n",
       "      <td>23595.000000</td>\n",
       "      <td>...</td>\n",
       "      <td>23595.000000</td>\n",
       "      <td>23595.000000</td>\n",
       "      <td>23595.000000</td>\n",
       "      <td>23595.000000</td>\n",
       "      <td>23595.000000</td>\n",
       "      <td>23595.000000</td>\n",
       "      <td>23595.000000</td>\n",
       "      <td>23595.000000</td>\n",
       "      <td>23595.000000</td>\n",
       "      <td>23595.000000</td>\n",
       "    </tr>\n",
       "    <tr>\n",
       "      <th>mean</th>\n",
       "      <td>0.013251</td>\n",
       "      <td>0.017389</td>\n",
       "      <td>0.019896</td>\n",
       "      <td>0.020248</td>\n",
       "      <td>0.018676</td>\n",
       "      <td>0.020154</td>\n",
       "      <td>0.019953</td>\n",
       "      <td>0.019368</td>\n",
       "      <td>0.010405</td>\n",
       "      <td>0.006027</td>\n",
       "      <td>...</td>\n",
       "      <td>0.855551</td>\n",
       "      <td>0.850741</td>\n",
       "      <td>0.211241</td>\n",
       "      <td>0.818237</td>\n",
       "      <td>0.329339</td>\n",
       "      <td>0.559965</td>\n",
       "      <td>0.228456</td>\n",
       "      <td>0.681864</td>\n",
       "      <td>0.265542</td>\n",
       "      <td>0.157491</td>\n",
       "    </tr>\n",
       "    <tr>\n",
       "      <th>std</th>\n",
       "      <td>0.086535</td>\n",
       "      <td>0.100258</td>\n",
       "      <td>0.106815</td>\n",
       "      <td>0.108617</td>\n",
       "      <td>0.103009</td>\n",
       "      <td>0.109986</td>\n",
       "      <td>0.109073</td>\n",
       "      <td>0.105278</td>\n",
       "      <td>0.084393</td>\n",
       "      <td>0.066447</td>\n",
       "      <td>...</td>\n",
       "      <td>0.061577</td>\n",
       "      <td>0.062587</td>\n",
       "      <td>0.185698</td>\n",
       "      <td>0.099991</td>\n",
       "      <td>0.292662</td>\n",
       "      <td>0.260667</td>\n",
       "      <td>0.210045</td>\n",
       "      <td>0.227507</td>\n",
       "      <td>0.268909</td>\n",
       "      <td>0.364271</td>\n",
       "    </tr>\n",
       "    <tr>\n",
       "      <th>min</th>\n",
       "      <td>0.000000</td>\n",
       "      <td>0.000000</td>\n",
       "      <td>0.000000</td>\n",
       "      <td>0.000000</td>\n",
       "      <td>0.000000</td>\n",
       "      <td>0.000000</td>\n",
       "      <td>0.000000</td>\n",
       "      <td>0.000000</td>\n",
       "      <td>0.000000</td>\n",
       "      <td>0.000000</td>\n",
       "      <td>...</td>\n",
       "      <td>0.628450</td>\n",
       "      <td>0.631077</td>\n",
       "      <td>0.105000</td>\n",
       "      <td>0.257728</td>\n",
       "      <td>0.101000</td>\n",
       "      <td>0.162608</td>\n",
       "      <td>0.095000</td>\n",
       "      <td>0.162608</td>\n",
       "      <td>0.000000</td>\n",
       "      <td>0.000000</td>\n",
       "    </tr>\n",
       "    <tr>\n",
       "      <th>25%</th>\n",
       "      <td>0.000000</td>\n",
       "      <td>0.000000</td>\n",
       "      <td>0.000000</td>\n",
       "      <td>0.000000</td>\n",
       "      <td>0.000000</td>\n",
       "      <td>0.000000</td>\n",
       "      <td>0.000000</td>\n",
       "      <td>0.000000</td>\n",
       "      <td>0.000000</td>\n",
       "      <td>0.000000</td>\n",
       "      <td>...</td>\n",
       "      <td>0.811477</td>\n",
       "      <td>0.806091</td>\n",
       "      <td>0.111000</td>\n",
       "      <td>0.745553</td>\n",
       "      <td>0.128000</td>\n",
       "      <td>0.325217</td>\n",
       "      <td>0.111000</td>\n",
       "      <td>0.540173</td>\n",
       "      <td>0.103000</td>\n",
       "      <td>0.000000</td>\n",
       "    </tr>\n",
       "    <tr>\n",
       "      <th>50%</th>\n",
       "      <td>0.000000</td>\n",
       "      <td>0.000000</td>\n",
       "      <td>0.000000</td>\n",
       "      <td>0.000000</td>\n",
       "      <td>0.000000</td>\n",
       "      <td>0.000000</td>\n",
       "      <td>0.000000</td>\n",
       "      <td>0.000000</td>\n",
       "      <td>0.000000</td>\n",
       "      <td>0.000000</td>\n",
       "      <td>...</td>\n",
       "      <td>0.859413</td>\n",
       "      <td>0.854287</td>\n",
       "      <td>0.126000</td>\n",
       "      <td>0.813042</td>\n",
       "      <td>0.176000</td>\n",
       "      <td>0.601722</td>\n",
       "      <td>0.130000</td>\n",
       "      <td>0.745553</td>\n",
       "      <td>0.131000</td>\n",
       "      <td>0.000000</td>\n",
       "    </tr>\n",
       "    <tr>\n",
       "      <th>75%</th>\n",
       "      <td>0.000000</td>\n",
       "      <td>0.000000</td>\n",
       "      <td>0.000000</td>\n",
       "      <td>0.000000</td>\n",
       "      <td>0.000000</td>\n",
       "      <td>0.000000</td>\n",
       "      <td>0.000000</td>\n",
       "      <td>0.000000</td>\n",
       "      <td>0.000000</td>\n",
       "      <td>0.000000</td>\n",
       "      <td>...</td>\n",
       "      <td>0.899771</td>\n",
       "      <td>0.895245</td>\n",
       "      <td>0.194000</td>\n",
       "      <td>0.898177</td>\n",
       "      <td>0.414000</td>\n",
       "      <td>0.781716</td>\n",
       "      <td>0.212000</td>\n",
       "      <td>0.847100</td>\n",
       "      <td>0.282000</td>\n",
       "      <td>0.000000</td>\n",
       "    </tr>\n",
       "    <tr>\n",
       "      <th>max</th>\n",
       "      <td>1.000000</td>\n",
       "      <td>1.000000</td>\n",
       "      <td>1.000000</td>\n",
       "      <td>1.000000</td>\n",
       "      <td>1.000000</td>\n",
       "      <td>1.000000</td>\n",
       "      <td>1.000000</td>\n",
       "      <td>1.000000</td>\n",
       "      <td>1.000000</td>\n",
       "      <td>1.000000</td>\n",
       "      <td>...</td>\n",
       "      <td>0.996704</td>\n",
       "      <td>0.995376</td>\n",
       "      <td>0.924000</td>\n",
       "      <td>1.000000</td>\n",
       "      <td>0.998000</td>\n",
       "      <td>1.000000</td>\n",
       "      <td>0.944000</td>\n",
       "      <td>1.000000</td>\n",
       "      <td>0.991000</td>\n",
       "      <td>1.000000</td>\n",
       "    </tr>\n",
       "  </tbody>\n",
       "</table>\n",
       "<p>8 rows × 258 columns</p>\n",
       "</div>"
      ],
      "text/plain": [
       "       \"CC.coil_S1\"  \"CC.coil_S2\"  \"CC.coil_S3\"  \"CC.coil_S4\"  \"CC.coil_S5\"  \\\n",
       "count  23595.000000  23595.000000  23595.000000  23595.000000  23595.000000   \n",
       "mean       0.013251      0.017389      0.019896      0.020248      0.018676   \n",
       "std        0.086535      0.100258      0.106815      0.108617      0.103009   \n",
       "min        0.000000      0.000000      0.000000      0.000000      0.000000   \n",
       "25%        0.000000      0.000000      0.000000      0.000000      0.000000   \n",
       "50%        0.000000      0.000000      0.000000      0.000000      0.000000   \n",
       "75%        0.000000      0.000000      0.000000      0.000000      0.000000   \n",
       "max        1.000000      1.000000      1.000000      1.000000      1.000000   \n",
       "\n",
       "       \"CC.coil_S6\"  \"CC.coil_S7\"  \"CC.coil_S8\"  \"CC.coil_cterm\"  \\\n",
       "count  23595.000000  23595.000000  23595.000000     23595.000000   \n",
       "mean       0.020154      0.019953      0.019368         0.010405   \n",
       "std        0.109986      0.109073      0.105278         0.084393   \n",
       "min        0.000000      0.000000      0.000000         0.000000   \n",
       "25%        0.000000      0.000000      0.000000         0.000000   \n",
       "50%        0.000000      0.000000      0.000000         0.000000   \n",
       "75%        0.000000      0.000000      0.000000         0.000000   \n",
       "max        1.000000      1.000000      1.000000         1.000000   \n",
       "\n",
       "       \"CC.coil_nterm\"      ...          \"SF.surf\"      \"SF.vol\"  \\\n",
       "count     23595.000000      ...       23595.000000  23595.000000   \n",
       "mean          0.006027      ...           0.855551      0.850741   \n",
       "std           0.066447      ...           0.061577      0.062587   \n",
       "min           0.000000      ...           0.628450      0.631077   \n",
       "25%           0.000000      ...           0.811477      0.806091   \n",
       "50%           0.000000      ...           0.859413      0.854287   \n",
       "75%           0.000000      ...           0.899771      0.895245   \n",
       "max           1.000000      ...           0.996704      0.995376   \n",
       "\n",
       "          \"SP.maxC\"  \"SP.maxCpos\"     \"SP.maxS\"  \"SP.maxSpos\"     \"SP.maxY\"  \\\n",
       "count  23595.000000  23595.000000  23595.000000  23595.000000  23595.000000   \n",
       "mean       0.211241      0.818237      0.329339      0.559965      0.228456   \n",
       "std        0.185698      0.099991      0.292662      0.260667      0.210045   \n",
       "min        0.105000      0.257728      0.101000      0.162608      0.095000   \n",
       "25%        0.111000      0.745553      0.128000      0.325217      0.111000   \n",
       "50%        0.126000      0.813042      0.176000      0.601722      0.130000   \n",
       "75%        0.194000      0.898177      0.414000      0.781716      0.212000   \n",
       "max        0.924000      1.000000      0.998000      1.000000      0.944000   \n",
       "\n",
       "       \"SP.maxYpos\"    \"SP.meanS\"   \"SP.signal\"  \n",
       "count  23595.000000  23595.000000  23595.000000  \n",
       "mean       0.681864      0.265542      0.157491  \n",
       "std        0.227507      0.268909      0.364271  \n",
       "min        0.162608      0.000000      0.000000  \n",
       "25%        0.540173      0.103000      0.000000  \n",
       "50%        0.745553      0.131000      0.000000  \n",
       "75%        0.847100      0.282000      0.000000  \n",
       "max        1.000000      0.991000      1.000000  \n",
       "\n",
       "[8 rows x 258 columns]"
      ]
     },
     "execution_count": 8,
     "metadata": {},
     "output_type": "execute_result"
    }
   ],
   "source": [
    "features.describe()"
   ]
  },
  {
   "cell_type": "code",
   "execution_count": 48,
   "metadata": {
    "collapsed": false
   },
   "outputs": [
    {
     "name": "stdout",
     "output_type": "stream",
     "text": [
      "Index([u'\"CC.coil_S1\"', u'\"CC.coil_S2\"', u'\"CC.coil_S3\"', u'\"CC.coil_S4\"',\n",
      "       u'\"CC.coil_S5\"', u'\"CC.coil_S6\"', u'\"CC.coil_S7\"', u'\"CC.coil_S8\"',\n",
      "       u'\"CC.coil_cterm\"', u'\"CC.coil_nterm\"',\n",
      "       ...\n",
      "       u'\"SF.surf\"', u'\"SF.vol\"', u'\"SP.maxC\"', u'\"SP.maxCpos\"', u'\"SP.maxS\"',\n",
      "       u'\"SP.maxSpos\"', u'\"SP.maxY\"', u'\"SP.maxYpos\"', u'\"SP.meanS\"',\n",
      "       u'\"SP.signal\"'],\n",
      "      dtype='object', length=258)\n"
     ]
    }
   ],
   "source": [
    "types = set({})\n",
    "for c in features.columns:\n",
    "    tmp = c.split('.')\n",
    "    types.add(tmp[0])"
   ]
  },
  {
   "cell_type": "code",
   "execution_count": 52,
   "metadata": {
    "collapsed": false
   },
   "outputs": [],
   "source": [
    "atype = []\n",
    "for c in features.columns:\n",
    "    tmp = c.split('.')\n",
    "    if tmp[0] == list(types)[0]:\n",
    "        atype.append(c)\n",
    "ax = sns.violinplot(data=features[atype])\n",
    "plt.show()"
   ]
  },
  {
   "cell_type": "code",
   "execution_count": 61,
   "metadata": {
    "collapsed": false
   },
   "outputs": [
    {
     "data": {
      "image/png": "[encoded data removed]",
      "text/plain": [
       "<matplotlib.figure.Figure at 0x7fb76307d850>"
      ]
     },
     "metadata": {},
     "output_type": "display_data"
    }
   ],
   "source": [
    "atype = []\n",
    "for c in features.columns:\n",
    "    tmp = c.split('.')\n",
    "    if tmp[0] == list(types)[1]:\n",
    "        atype.append(c)\n",
    "ax = sns.violinplot(data=features[atype])\n",
    "plt.show()"
   ]
  },
  {
   "cell_type": "code",
   "execution_count": 69,
   "metadata": {
    "collapsed": false
   },
   "outputs": [
    {
     "data": {
      "text/plain": [
       "\"TM.glob.tm\"       0.411246\n",
       "\"TM.in.out\"        0.171635\n",
       "\"TM.num_re_hel\"    0.001974\n",
       "\"TM.num_tm_hel\"    0.483340\n",
       "\"TM.num_tm_res\"    0.252659\n",
       "\"TM.tm_S1\"         0.112143\n",
       "\"TM.tm_S2\"         0.103799\n",
       "\"TM.tm_S3\"         0.116914\n",
       "\"TM.tm_S4\"         0.109826\n",
       "\"TM.tm_S5\"         0.105671\n",
       "\"TM.tm_S6\"         0.121651\n",
       "\"TM.tm_S7\"         0.114468\n",
       "\"TM.tm_S8\"         0.099735\n",
       "\"TM.tm_cterm\"      0.059995\n",
       "\"TM.tm_nterm\"      0.046299\n",
       "dtype: float64"
      ]
     },
     "execution_count": 69,
     "metadata": {},
     "output_type": "execute_result"
    }
   ],
   "source": [
    "d = features[atype]\n",
    "d.mad()"
   ]
  },
  {
   "cell_type": "code",
   "execution_count": 80,
   "metadata": {
    "collapsed": false
   },
   "outputs": [
    {
     "name": "stdout",
     "output_type": "stream",
     "text": [
      "             AAPL  BARC.L   MSFT\n",
      "Date                            \n",
      "2000-01-03   4.00     NaN  58.34\n",
      "2000-01-04   3.66  422.32  56.31\n",
      "2000-01-05   3.71  408.00  56.91\n",
      "2000-01-06   3.39  395.21  55.00\n",
      "2000-01-07   3.54  383.85  55.72\n",
      "2000-01-10   3.49  394.04  56.12\n",
      "2000-01-11   3.31  377.04  54.69\n",
      "2000-01-12   3.11  387.60  52.91\n",
      "2000-01-13   3.46  400.34  53.91\n",
      "2000-01-14   3.59  389.46  56.12\n",
      "2000-01-17    NaN  369.76    NaN\n",
      "2000-01-18   3.71  373.32  57.66\n",
      "2000-01-19   3.81  350.37  53.50\n",
      "2000-01-20   4.05  337.78  53.00\n",
      "2000-01-21   3.98  351.46  51.88\n",
      "2000-01-24   3.79  367.96  50.62\n",
      "2000-01-25   4.01  347.25  51.41\n",
      "2000-01-26   3.94  372.00  49.69\n",
      "2000-01-27   3.93  380.18  49.38\n",
      "2000-01-28   3.63  382.00  49.12\n",
      "2000-01-31   3.71  373.13  48.94\n",
      "2000-02-01   3.58  372.60  51.47\n",
      "2000-02-02   3.53  368.97  50.41\n",
      "2000-02-03   3.69  369.21  51.81\n",
      "2000-02-04   3.86  346.00  53.28\n",
      "2000-02-07   4.07  355.46  53.31\n",
      "2000-02-08   4.10  363.40  54.97\n",
      "2000-02-09   4.02  361.21  52.00\n",
      "2000-02-10   4.05  361.96  53.00\n",
      "2000-02-11   3.88  367.90  49.97\n",
      "...           ...     ...    ...\n",
      "2009-11-19  28.64  308.40  29.78\n",
      "2009-11-20  28.56  304.25  29.62\n",
      "2009-11-23  29.41  311.15  29.94\n",
      "2009-11-24  29.21  314.00  29.91\n",
      "2009-11-25  29.17  316.30  29.79\n",
      "2009-11-26    NaN  291.10    NaN\n",
      "2009-11-27  28.66  297.85  29.22\n",
      "2009-11-30  28.56  292.35  29.41\n",
      "2009-12-01  28.14  296.05  30.01\n",
      "2009-12-02  28.03  297.50  29.78\n",
      "2009-12-03  28.07  313.50  29.83\n",
      "2009-12-04  27.62  303.50  29.98\n",
      "2009-12-07  26.99  297.05  29.79\n",
      "2009-12-08  27.12  289.60  29.57\n",
      "2009-12-09  28.26  277.96  29.71\n",
      "2009-12-10  28.06  289.00  29.87\n",
      "2009-12-11  27.81  288.00  29.85\n",
      "2009-12-14  28.14  291.65  30.11\n",
      "2009-12-15  27.74  284.55  30.02\n",
      "2009-12-16  27.86  292.00  30.10\n",
      "2009-12-17  27.41  273.85  29.60\n",
      "2009-12-18  27.92  274.00  30.36\n",
      "2009-12-21  28.32  274.15  30.52\n",
      "2009-12-22  28.62  275.00  30.82\n",
      "2009-12-23  28.87  275.50  30.92\n",
      "2009-12-24  29.86  276.00  31.00\n",
      "2009-12-28  30.23     NaN  31.17\n",
      "2009-12-29  29.87  275.00  31.39\n",
      "2009-12-30  30.23  272.25  30.96\n",
      "2009-12-31  30.10  276.00  30.48\n",
      "\n",
      "[2573 rows x 3 columns]\n",
      "                   AAPL       BARC.L        MSFT\n",
      "Date                                            \n",
      "2000-01-03  130536000.0          NaN  51680600.0\n",
      "2000-01-04  125185200.0   16023616.0  52866600.0\n",
      "2000-01-05  191475200.0   14641064.0  62712600.0\n",
      "2000-01-06  188633200.0   30063340.0  51808000.0\n",
      "2000-01-07  112935200.0   31968460.0  60441600.0\n",
      "2000-01-10  123037600.0   25693248.0  42923600.0\n",
      "2000-01-11  108351600.0   17505332.0  45667000.0\n",
      "2000-01-12  241858400.0   21645288.0  65640400.0\n",
      "2000-01-13  249424000.0   26783192.0  79754200.0\n",
      "2000-01-14   95804800.0   31334784.0  71781600.0\n",
      "2000-01-17          NaN   33602212.0         NaN\n",
      "2000-01-18  108486000.0   21056216.0  75856800.0\n",
      "2000-01-19  140991200.0   33157068.0  95812400.0\n",
      "2000-01-20  454434400.0   54483324.0  54968200.0\n",
      "2000-01-21  120677200.0   59000544.0  65824200.0\n",
      "2000-01-24  107094400.0   17179736.0  61533400.0\n",
      "2000-01-25  122603600.0   15155672.0  58584400.0\n",
      "2000-01-26   89908000.0   21317964.0  47615400.0\n",
      "2000-01-27   81849600.0   27474816.0  61546800.0\n",
      "2000-01-28  103026000.0   21122764.0  56331200.0\n",
      "2000-01-31  170086000.0   12957456.0  70150400.0\n",
      "2000-02-01   75913600.0   15389252.0  66946400.0\n",
      "2000-02-02  115178000.0   17510656.0  48839000.0\n",
      "2000-02-03  116964400.0   11675244.0  48004200.0\n",
      "2000-02-04  103810000.0   21788928.0  53816600.0\n",
      "2000-02-07  107195200.0   26363040.0  39062400.0\n",
      "2000-02-08  100872800.0   25809508.0  53414000.0\n",
      "2000-02-09   72906400.0   28547784.0  52164400.0\n",
      "2000-02-10   74869200.0   38729732.0  53187800.0\n",
      "2000-02-11   51360400.0   39998656.0  13763600.0\n",
      "...                 ...          ...         ...\n",
      "2009-11-19  135581523.0   72771590.0  51967660.0\n",
      "2009-11-20  101722565.0  106598433.0  42648018.0\n",
      "2009-11-23  118793731.0   56631069.0  41836365.0\n",
      "2009-11-24   79609194.0   61998057.0  37341362.0\n",
      "2009-11-25   71662311.0   57048788.0  32036164.0\n",
      "2009-11-26          NaN  116834463.0         NaN\n",
      "2009-11-27   73814244.0  149555965.0  29357892.0\n",
      "2009-11-30  106213926.0   96299436.0  44174645.0\n",
      "2009-12-01  116440583.0  108701306.0  49907182.0\n",
      "2009-12-02  178814706.0  100559200.0  36308524.0\n",
      "2009-12-03  112179578.0   83240999.0  43096326.0\n",
      "2009-12-04  206776668.0   55134694.0  58819960.0\n",
      "2009-12-07  178689658.0   45655596.0  38082612.0\n",
      "2009-12-08  172599280.0   72510478.0  37407912.0\n",
      "2009-12-09  171195185.0   69437648.0  44719350.0\n",
      "2009-12-10  122417155.0   59430747.0  45940703.0\n",
      "2009-12-11  107443378.0   42069653.0  43746588.0\n",
      "2009-12-14  123947124.0   46690912.0  34651154.0\n",
      "2009-12-15  104928453.0   41446290.0  49473151.0\n",
      "2009-12-16   88279674.0   56723085.0  55741169.0\n",
      "2009-12-17   97209056.0   67184554.0  43691182.0\n",
      "2009-12-18  152192516.0  125196884.0  94117968.0\n",
      "2009-12-21  153093108.0   39933634.0  40132875.0\n",
      "2009-12-22   87378543.0   28207707.0  36320920.0\n",
      "2009-12-23   86380987.0   24441379.0  28362689.0\n",
      "2009-12-24  125221985.0    6071385.0  11083867.0\n",
      "2009-12-28  161141050.0          NaN  25385575.0\n",
      "2009-12-29  111301071.0   15600822.0  29722450.0\n",
      "2009-12-30  103020708.0   16867272.0  42007597.0\n",
      "2009-12-31   88102679.0    8431771.0  31929611.0\n",
      "\n",
      "[2573 rows x 3 columns]\n"
     ]
    }
   ],
   "source": [
    "import pandas_datareader.data as web\n",
    "all_data = {}\n",
    "for ticker in ['AAPL', 'MSFT', 'BARC.L']:\n",
    "    all_data[ticker] = web.get_data_google(ticker, '1/1/2000', '1/1/2010')\n",
    "price = DataFrame({tic: data['Close'] for tic, data in all_data.iteritems()})\n",
    "volume = DataFrame({tic: data['Volume'] for tic, data in all_data.iteritems()})\n",
    "print price\n",
    "print volume"
   ]
  },
  {
   "cell_type": "code",
   "execution_count": 86,
   "metadata": {
    "collapsed": false
   },
   "outputs": [
    {
     "name": "stdout",
     "output_type": "stream",
     "text": [
      "            AAPL    BARC.L      MSFT\n",
      "AAPL    1.000000  0.101558  0.411864\n",
      "BARC.L  0.101558  1.000000  0.162153\n",
      "MSFT    0.411864  0.162153  1.000000\n"
     ]
    }
   ],
   "source": [
    "returns = price.dropna(axis=0).pct_change()\n",
    "print returns.corr()"
   ]
  },
  {
   "cell_type": "code",
   "execution_count": 87,
   "metadata": {
    "collapsed": false
   },
   "outputs": [
    {
     "name": "stdout",
     "output_type": "stream",
     "text": [
      "                 \"TM.glob.tm\"  \"TM.in.out\"  \"TM.num_re_hel\"  \"TM.num_tm_hel\"  \\\n",
      "\"TM.glob.tm\"         1.000000     0.255239         0.103454         0.858516   \n",
      "\"TM.in.out\"          0.255239     1.000000        -0.030723         0.114264   \n",
      "\"TM.num_re_hel\"      0.103454    -0.030723         1.000000         0.136935   \n",
      "\"TM.num_tm_hel\"      0.858516     0.114264         0.136935         1.000000   \n",
      "\"TM.num_tm_res\"      0.962498     0.190278         0.126395         0.962999   \n",
      "\"TM.tm_S1\"           0.545657     0.019936         0.064424         0.634294   \n",
      "\"TM.tm_S2\"           0.494251     0.047922         0.093351         0.645423   \n",
      "\"TM.tm_S3\"           0.523275    -0.009633         0.070086         0.699589   \n",
      "\"TM.tm_S4\"           0.534478    -0.018870         0.117782         0.699231   \n",
      "\"TM.tm_S5\"           0.524776     0.021814         0.113798         0.677110   \n",
      "\"TM.tm_S6\"           0.543928    -0.009111         0.060507         0.711591   \n",
      "\"TM.tm_S7\"           0.546947     0.022231         0.061120         0.695018   \n",
      "\"TM.tm_S8\"           0.511962     0.057570         0.019542         0.581578   \n",
      "\"TM.tm_cterm\"        0.347227     0.035331        -0.008437         0.296231   \n",
      "\"TM.tm_nterm\"        0.351589     0.067604         0.053478         0.332909   \n",
      "\n",
      "                 \"TM.num_tm_res\"  \"TM.tm_S1\"  \"TM.tm_S2\"  \"TM.tm_S3\"  \\\n",
      "\"TM.glob.tm\"            0.962498    0.545657    0.494251    0.523275   \n",
      "\"TM.in.out\"             0.190278    0.019936    0.047922   -0.009633   \n",
      "\"TM.num_re_hel\"         0.126395    0.064424    0.093351    0.070086   \n",
      "\"TM.num_tm_hel\"         0.962999    0.634294    0.645423    0.699589   \n",
      "\"TM.num_tm_res\"         1.000000    0.612223    0.591942    0.638077   \n",
      "\"TM.tm_S1\"              0.612223    1.000000    0.604438    0.605128   \n",
      "\"TM.tm_S2\"              0.591942    0.604438    1.000000    0.684446   \n",
      "\"TM.tm_S3\"              0.638077    0.605128    0.684446    1.000000   \n",
      "\"TM.tm_S4\"              0.645129    0.517988    0.558496    0.727677   \n",
      "\"TM.tm_S5\"              0.628151    0.419772    0.495713    0.549457   \n",
      "\"TM.tm_S6\"              0.655583    0.508830    0.485321    0.604194   \n",
      "\"TM.tm_S7\"              0.647739    0.448393    0.474144    0.563448   \n",
      "\"TM.tm_S8\"              0.571948    0.352502    0.393765    0.427427   \n",
      "\"TM.tm_cterm\"           0.331730    0.126648    0.142159    0.154317   \n",
      "\"TM.tm_nterm\"           0.350593    0.436863    0.255179    0.243257   \n",
      "\n",
      "                 \"TM.tm_S4\"  \"TM.tm_S5\"  \"TM.tm_S6\"  \"TM.tm_S7\"  \"TM.tm_S8\"  \\\n",
      "\"TM.glob.tm\"       0.534478    0.524776    0.543928    0.546947    0.511962   \n",
      "\"TM.in.out\"       -0.018870    0.021814   -0.009111    0.022231    0.057570   \n",
      "\"TM.num_re_hel\"    0.117782    0.113798    0.060507    0.061120    0.019542   \n",
      "\"TM.num_tm_hel\"    0.699231    0.677110    0.711591    0.695018    0.581578   \n",
      "\"TM.num_tm_res\"    0.645129    0.628151    0.655583    0.647739    0.571948   \n",
      "\"TM.tm_S1\"         0.517988    0.419772    0.508830    0.448393    0.352502   \n",
      "\"TM.tm_S2\"         0.558496    0.495713    0.485321    0.474144    0.393765   \n",
      "\"TM.tm_S3\"         0.727677    0.549457    0.604194    0.563448    0.427427   \n",
      "\"TM.tm_S4\"         1.000000    0.688083    0.624984    0.567015    0.456522   \n",
      "\"TM.tm_S5\"         0.688083    1.000000    0.664563    0.575535    0.433254   \n",
      "\"TM.tm_S6\"         0.624984    0.664563    1.000000    0.687905    0.470713   \n",
      "\"TM.tm_S7\"         0.567015    0.575535    0.687905    1.000000    0.591893   \n",
      "\"TM.tm_S8\"         0.456522    0.433254    0.470713    0.591893    1.000000   \n",
      "\"TM.tm_cterm\"      0.191389    0.208689    0.197172    0.220171    0.405790   \n",
      "\"TM.tm_nterm\"      0.253404    0.241317    0.194229    0.210580    0.230366   \n",
      "\n",
      "                 \"TM.tm_cterm\"  \"TM.tm_nterm\"  \n",
      "\"TM.glob.tm\"          0.347227       0.351589  \n",
      "\"TM.in.out\"           0.035331       0.067604  \n",
      "\"TM.num_re_hel\"      -0.008437       0.053478  \n",
      "\"TM.num_tm_hel\"       0.296231       0.332909  \n",
      "\"TM.num_tm_res\"       0.331730       0.350593  \n",
      "\"TM.tm_S1\"            0.126648       0.436863  \n",
      "\"TM.tm_S2\"            0.142159       0.255179  \n",
      "\"TM.tm_S3\"            0.154317       0.243257  \n",
      "\"TM.tm_S4\"            0.191389       0.253404  \n",
      "\"TM.tm_S5\"            0.208689       0.241317  \n",
      "\"TM.tm_S6\"            0.197172       0.194229  \n",
      "\"TM.tm_S7\"            0.220171       0.210580  \n",
      "\"TM.tm_S8\"            0.405790       0.230366  \n",
      "\"TM.tm_cterm\"         1.000000       0.119713  \n",
      "\"TM.tm_nterm\"         0.119713       1.000000  \n"
     ]
    }
   ],
   "source": [
    "print d.corr()"
   ]
  },
  {
   "cell_type": "markdown",
   "metadata": {},
   "source": [
    "## Handling Missing Data\n",
    "### Filtering out missing data"
   ]
  },
  {
   "cell_type": "code",
   "execution_count": 6,
   "metadata": {
    "collapsed": false
   },
   "outputs": [
    {
     "name": "stdout",
     "output_type": "stream",
     "text": [
      "   Ohio  Texas  California\n",
      "a     0      1           2\n",
      "c     3      4           5\n",
      "d     6      7           8\n"
     ]
    }
   ],
   "source": [
    "frame = DataFrame(np.arange(9).reshape((3, 3)), index=['a', 'c', 'd'], columns=['Ohio', 'Texas', 'California'])\n",
    "states = ['Ohio', 'Utah', 'Texas', 'California']\n",
    "frame = frame.reindex(columns=states)\n",
    "print frame.dropna(axis=1, how='any')"
   ]
  },
  {
   "cell_type": "markdown",
   "metadata": {},
   "source": [
    "### Filling in missing data"
   ]
  },
  {
   "cell_type": "code",
   "execution_count": 17,
   "metadata": {
    "collapsed": false
   },
   "outputs": [
    {
     "name": "stdout",
     "output_type": "stream",
     "text": [
      "   Ohio  Utah  Texas  California\n",
      "a     0   0.0      1           2\n",
      "c     3   0.0      4           5\n",
      "d     6   0.0      7           8\n",
      "   Ohio  Utah  Texas  California\n",
      "a   0.0   0.5    1.0         2.0\n",
      "c   3.0  -1.0    4.0         5.0\n",
      "d   6.0   NaN    7.0         8.0\n",
      "   Ohio  Utah  Texas  California\n",
      "a   0.0   0.0    1.0         2.0\n",
      "c   3.0   3.0    4.0         5.0\n",
      "d   6.0   6.0    7.0         8.0\n",
      "   Ohio  Utah  Texas  California\n",
      "a   0.0   1.0    1.0         2.0\n",
      "c   3.0   4.0    4.0         5.0\n",
      "d   6.0   7.0    7.0         8.0\n"
     ]
    }
   ],
   "source": [
    "frame = DataFrame(np.arange(9).reshape((3, 3)), index=['a', 'c', 'd'], columns=['Ohio', 'Texas', 'California'])\n",
    "states = ['Ohio', 'Utah', 'Texas', 'California']\n",
    "frame = frame.reindex(columns=states)\n",
    "print frame.fillna(0)\n",
    "print frame.T.fillna({'a':0.5, 'c':-1}).T\n",
    "print frame.T.fillna(method='ffill').T\n",
    "print frame.T.fillna(method='bfill').T"
   ]
  },
  {
   "cell_type": "markdown",
   "metadata": {},
   "source": [
    "## Hierachical indexing"
   ]
  },
  {
   "cell_type": "code",
   "execution_count": 19,
   "metadata": {
    "collapsed": false
   },
   "outputs": [
    {
     "name": "stdout",
     "output_type": "stream",
     "text": [
      "a  1    1.608454\n",
      "   2   -1.962942\n",
      "   3   -0.275167\n",
      "b  1   -0.666931\n",
      "   2   -0.484398\n",
      "   3   -1.141910\n",
      "c  1    0.861093\n",
      "   2   -0.561365\n",
      "d  2   -0.593015\n",
      "   3   -0.555329\n",
      "dtype: float64\n"
     ]
    }
   ],
   "source": [
    "data = Series(np.random.randn(10), index=[['a', 'a', 'a', 'b', 'b', 'b', 'c', 'c', 'd', 'd'], [1, 2, 3, 1, 2, 3, 1, 2, 2, 3]])\n",
    "print data"
   ]
  },
  {
   "cell_type": "code",
   "execution_count": 27,
   "metadata": {
    "collapsed": false
   },
   "outputs": [
    {
     "name": "stdout",
     "output_type": "stream",
     "text": [
      "a  Ohio          0.0\n",
      "   Texas         1.0\n",
      "   California    2.0\n",
      "c  Ohio          3.0\n",
      "   Texas         4.0\n",
      "   California    5.0\n",
      "d  Ohio          6.0\n",
      "   Texas         7.0\n",
      "   California    8.0\n",
      "dtype: float64\n"
     ]
    }
   ],
   "source": [
    "print frame.stack()"
   ]
  },
  {
   "cell_type": "code",
   "execution_count": 2,
   "metadata": {
    "collapsed": false
   },
   "outputs": [
    {
     "name": "stdout",
     "output_type": "stream",
     "text": [
      "   a  b    c  d\n",
      "0  0  7  one  0\n",
      "1  1  6  one  1\n",
      "2  2  5  one  2\n",
      "3  3  4  two  0\n",
      "4  4  3  two  1\n",
      "5  5  2  two  2\n",
      "6  6  1  two  3\n",
      "       a  b\n",
      "c   d      \n",
      "one 0  0  7\n",
      "    1  1  6\n",
      "    2  2  5\n",
      "two 0  3  4\n",
      "    1  4  3\n",
      "    2  5  2\n",
      "    3  6  1\n",
      "       a  b    c  d\n",
      "c   d              \n",
      "one 0  0  7  one  0\n",
      "    1  1  6  one  1\n",
      "    2  2  5  one  2\n",
      "two 0  3  4  two  0\n",
      "    1  4  3  two  1\n",
      "    2  5  2  two  2\n",
      "    3  6  1  two  3\n"
     ]
    }
   ],
   "source": [
    "frame = DataFrame({'a': range(7), 'b': range(7, 0, -1), 'c': ['one', 'one', 'one', 'two', 'two', 'two', 'two'], \n",
    "                   'd': [0, 1, 2, 0, 1, 2, 3]})\n",
    "print frame\n",
    "frame2 = frame.set_index(['c', 'd'])\n",
    "print frame2\n",
    "frame2 = frame.set_index(['c', 'd'], drop=False)\n",
    "print frame2"
   ]
  },
  {
   "cell_type": "code",
   "execution_count": 4,
   "metadata": {
    "collapsed": false
   },
   "outputs": [
    {
     "data": {
      "text/html": [
       "<div>\n",
       "<table border=\"1\" class=\"dataframe\">\n",
       "  <thead>\n",
       "    <tr style=\"text-align: right;\">\n",
       "      <th></th>\n",
       "      <th>a</th>\n",
       "      <th>b</th>\n",
       "      <th>d</th>\n",
       "    </tr>\n",
       "  </thead>\n",
       "  <tbody>\n",
       "    <tr>\n",
       "      <th>count</th>\n",
       "      <td>7.000000</td>\n",
       "      <td>7.000000</td>\n",
       "      <td>7.000000</td>\n",
       "    </tr>\n",
       "    <tr>\n",
       "      <th>mean</th>\n",
       "      <td>3.000000</td>\n",
       "      <td>4.000000</td>\n",
       "      <td>1.285714</td>\n",
       "    </tr>\n",
       "    <tr>\n",
       "      <th>std</th>\n",
       "      <td>2.160247</td>\n",
       "      <td>2.160247</td>\n",
       "      <td>1.112697</td>\n",
       "    </tr>\n",
       "    <tr>\n",
       "      <th>min</th>\n",
       "      <td>0.000000</td>\n",
       "      <td>1.000000</td>\n",
       "      <td>0.000000</td>\n",
       "    </tr>\n",
       "    <tr>\n",
       "      <th>25%</th>\n",
       "      <td>1.500000</td>\n",
       "      <td>2.500000</td>\n",
       "      <td>0.500000</td>\n",
       "    </tr>\n",
       "    <tr>\n",
       "      <th>50%</th>\n",
       "      <td>3.000000</td>\n",
       "      <td>4.000000</td>\n",
       "      <td>1.000000</td>\n",
       "    </tr>\n",
       "    <tr>\n",
       "      <th>75%</th>\n",
       "      <td>4.500000</td>\n",
       "      <td>5.500000</td>\n",
       "      <td>2.000000</td>\n",
       "    </tr>\n",
       "    <tr>\n",
       "      <th>max</th>\n",
       "      <td>6.000000</td>\n",
       "      <td>7.000000</td>\n",
       "      <td>3.000000</td>\n",
       "    </tr>\n",
       "  </tbody>\n",
       "</table>\n",
       "</div>"
      ],
      "text/plain": [
       "              a         b         d\n",
       "count  7.000000  7.000000  7.000000\n",
       "mean   3.000000  4.000000  1.285714\n",
       "std    2.160247  2.160247  1.112697\n",
       "min    0.000000  1.000000  0.000000\n",
       "25%    1.500000  2.500000  0.500000\n",
       "50%    3.000000  4.000000  1.000000\n",
       "75%    4.500000  5.500000  2.000000\n",
       "max    6.000000  7.000000  3.000000"
      ]
     },
     "execution_count": 4,
     "metadata": {},
     "output_type": "execute_result"
    }
   ],
   "source": [
    "frame2.describe()"
   ]
  },
  {
   "cell_type": "code",
   "execution_count": 5,
   "metadata": {
    "collapsed": false
   },
   "outputs": [
    {
     "name": "stdout",
     "output_type": "stream",
     "text": [
      "<class 'pandas.core.frame.DataFrame'>\n",
      "MultiIndex: 7 entries, (one, 0) to (two, 3)\n",
      "Data columns (total 4 columns):\n",
      "a    7 non-null int64\n",
      "b    7 non-null int64\n",
      "c    7 non-null object\n",
      "d    7 non-null int64\n",
      "dtypes: int64(3), object(1)\n",
      "memory usage: 280.0+ bytes\n"
     ]
    }
   ],
   "source": [
    "frame2.info()"
   ]
  },
  {
   "cell_type": "markdown",
   "metadata": {},
   "source": [
    "### Panel data"
   ]
  },
  {
   "cell_type": "code",
   "execution_count": 38,
   "metadata": {
    "collapsed": false
   },
   "outputs": [],
   "source": [
    "import pandas_datareader.data as web\n",
    "pdata = pd.Panel(dict((stk, web.get_data_google(stk, '1/1/2009', '6/1/2012')) \n",
    "                      for stk in ['AAPL', 'BARC.L', 'DELL']))"
   ]
  },
  {
   "cell_type": "code",
   "execution_count": 54,
   "metadata": {
    "collapsed": false
   },
   "outputs": [],
   "source": [
    "pdata = pdata.swapaxes('items', 'minor')\n",
    "stacked = pdata.ix[:, '5/30/2012':'6/30/2012', :].to_frame()"
   ]
  },
  {
   "cell_type": "code",
   "execution_count": 51,
   "metadata": {
    "collapsed": false
   },
   "outputs": [
    {
     "name": "stdout",
     "output_type": "stream",
     "text": [
      "12.07\n"
     ]
    }
   ],
   "source": [
    "print pdata.ix['Close', '6/1/2012', 'DELL']"
   ]
  },
  {
   "cell_type": "code",
   "execution_count": 55,
   "metadata": {
    "collapsed": false
   },
   "outputs": [
    {
     "name": "stdout",
     "output_type": "stream",
     "text": [
      "                     Open    High     Low   Close       Volume\n",
      "Date       minor                                              \n",
      "2012-05-30 AAPL     81.31   82.86   80.94   82.74  132355209.0\n",
      "           BARC.L  179.70  183.17  174.55  179.45   31505133.0\n",
      "           DELL     12.59   12.70   12.46   12.56   19787882.0\n",
      "2012-05-31 AAPL     82.96   83.07   81.64   82.53  122977603.0\n",
      "           BARC.L  180.70  182.13  174.00  176.30   40800637.0\n",
      "           DELL     12.53   12.54   12.33   12.33   19955689.0\n",
      "2012-06-01 AAPL     81.31   81.81   80.07   80.14  130245094.0\n",
      "           BARC.L  177.75  180.38  170.80  173.50   37842938.0\n",
      "           DELL     12.15   12.30   12.04   12.07   19397658.0\n"
     ]
    }
   ],
   "source": [
    "print stacked"
   ]
  },
  {
   "cell_type": "markdown",
   "metadata": {},
   "source": [
    "# A mini tutorial \n",
    "## Create DataFrame"
   ]
  },
  {
   "cell_type": "code",
   "execution_count": 14,
   "metadata": {
    "collapsed": false
   },
   "outputs": [
    {
     "name": "stdout",
     "output_type": "stream",
     "text": [
      "          A         B         C         D\n",
      "0  0.434776  0.056210  0.986901  0.361588\n",
      "1  0.652983  0.281068  0.702196  0.143714\n",
      "2  0.096195  0.679877  0.395507  0.273588\n",
      "3  0.999640  0.012918  0.654644  0.324640\n",
      "4  0.324403  0.433517  0.138114  0.040406\n",
      "5  0.254693  0.054210  0.031243  0.512224\n",
      "                   A         B         C         D\n",
      "2017-01-01  0.251886  0.365267  0.366815  0.797384\n",
      "2017-01-02  0.699199  0.240852  0.357581  0.783473\n",
      "2017-01-03  0.282035  0.554356  0.130219  0.914695\n",
      "2017-01-04  0.837591  0.377526  0.913010  0.671436\n",
      "2017-01-05  0.040433  0.913141  0.150236  0.950166\n",
      "2017-01-06  0.500596  0.892298  0.638178  0.361655\n",
      "          A\n",
      "0  0.813857\n",
      "1 -0.546369\n",
      "2 -0.638997\n",
      "           A         B\n",
      "0 2017-01-01  1.463992\n",
      "1 2017-01-01 -1.039244\n",
      "2 2017-01-01  0.686649\n"
     ]
    }
   ],
   "source": [
    "import pandas as pd\n",
    "import numpy as np\n",
    "\n",
    "# Create a dataframe\n",
    "data_1 = pd.DataFrame(np.random.rand(6,4), columns=list('ABCD'))\n",
    "print data_1\n",
    "\n",
    "# Create a date index\n",
    "dates = pd.date_range(start='20170101', periods=6)\n",
    "data_2 = pd.DataFrame(np.random.rand(6,4), index=dates, columns=list('ABCD'))\n",
    "print data_2\n",
    "\n",
    "# Create dataframe from a dictionary\n",
    "data_3 = pd.DataFrame({'A':np.random.randn(3)})\n",
    "print data_3\n",
    "\n",
    "# Create dataframe from a dictionary\n",
    "data_4 = pd.DataFrame({'A':pd.Timestamp('20170101'), 'B':np.random.randn(3)})\n",
    "print data_4"
   ]
  },
  {
   "cell_type": "markdown",
   "metadata": {},
   "source": [
    "## Display dataframe"
   ]
  },
  {
   "cell_type": "code",
   "execution_count": 15,
   "metadata": {
    "collapsed": false
   },
   "outputs": [
    {
     "name": "stdout",
     "output_type": "stream",
     "text": [
      "A    float64\n",
      "B    float64\n",
      "C    float64\n",
      "D    float64\n",
      "dtype: object\n",
      "          A         B         C         D\n",
      "0  0.434776  0.056210  0.986901  0.361588\n",
      "1  0.652983  0.281068  0.702196  0.143714\n",
      "2  0.096195  0.679877  0.395507  0.273588\n",
      "3  0.999640  0.012918  0.654644  0.324640\n",
      "4  0.324403  0.433517  0.138114  0.040406\n",
      "5  0.254693  0.054210  0.031243  0.512224\n",
      "DatetimeIndex(['2017-01-01', '2017-01-02', '2017-01-03', '2017-01-04',\n",
      "               '2017-01-05', '2017-01-06'],\n",
      "              dtype='datetime64[ns]', freq='D')\n",
      "Index([u'A', u'B', u'C', u'D'], dtype='object')\n",
      "[[ 0.25188644  0.36526658  0.36681518  0.79738404]\n",
      " [ 0.69919922  0.24085218  0.35758148  0.78347304]\n",
      " [ 0.28203509  0.55435599  0.13021908  0.91469453]\n",
      " [ 0.837591    0.37752619  0.91300986  0.67143609]\n",
      " [ 0.04043275  0.91314149  0.15023585  0.95016559]\n",
      " [ 0.50059631  0.89229765  0.6381778   0.36165504]]\n",
      "   2017-01-01  2017-01-02  2017-01-03  2017-01-04  2017-01-05  2017-01-06\n",
      "A    0.251886    0.699199    0.282035    0.837591    0.040433    0.500596\n",
      "B    0.365267    0.240852    0.554356    0.377526    0.913141    0.892298\n",
      "C    0.366815    0.357581    0.130219    0.913010    0.150236    0.638178\n",
      "D    0.797384    0.783473    0.914695    0.671436    0.950166    0.361655\n",
      "                   A         B         C         D\n",
      "2017-01-02  0.699199  0.240852  0.357581  0.783473\n",
      "2017-01-01  0.251886  0.365267  0.366815  0.797384\n",
      "2017-01-04  0.837591  0.377526  0.913010  0.671436\n",
      "2017-01-03  0.282035  0.554356  0.130219  0.914695\n",
      "2017-01-06  0.500596  0.892298  0.638178  0.361655\n",
      "2017-01-05  0.040433  0.913141  0.150236  0.950166\n"
     ]
    }
   ],
   "source": [
    "print data_1.dtypes\n",
    "print data_1\n",
    "data_1.head(3)\n",
    "data_1.tail(3)\n",
    "print data_2.index\n",
    "print data_2.columns\n",
    "print data_2.values\n",
    "data_2.describe()\n",
    "print data_2.T\n",
    "print data_2.sort_values(by='B')"
   ]
  },
  {
   "cell_type": "code",
   "execution_count": 18,
   "metadata": {
    "collapsed": false
   },
   "outputs": [
    {
     "data": {
      "text/plain": [
       "A    float32\n",
       "B    float32\n",
       "C    float32\n",
       "D    float32\n",
       "dtype: object"
      ]
     },
     "execution_count": 18,
     "metadata": {},
     "output_type": "execute_result"
    }
   ],
   "source": [
    "data_1.astype(np.float32).dtypes"
   ]
  },
  {
   "cell_type": "markdown",
   "metadata": {},
   "source": [
    "## Select data"
   ]
  },
  {
   "cell_type": "code",
   "execution_count": 22,
   "metadata": {
    "collapsed": false
   },
   "outputs": [
    {
     "name": "stdout",
     "output_type": "stream",
     "text": [
      "# Select column \"A\":\n",
      "0    0.434776\n",
      "1    0.652983\n",
      "2    0.096195\n",
      "3    0.999640\n",
      "4    0.324403\n",
      "5    0.254693\n",
      "Name: A, dtype: float64\n",
      "# Select two rows:\n",
      "          A         B         C         D\n",
      "1  0.652983  0.281068  0.702196  0.143714\n",
      "2  0.096195  0.679877  0.395507  0.273588\n",
      "# Select rows acording to index:\n",
      "                   A         B         C         D\n",
      "2017-01-02  0.699199  0.240852  0.357581  0.783473\n",
      "2017-01-03  0.282035  0.554356  0.130219  0.914695\n",
      "2017-01-04  0.837591  0.377526  0.913010  0.671436\n",
      "# Select rows acording to index:\n",
      "                   A         B         C         D\n",
      "2017-01-01  0.251886  0.365267  0.366815  0.797384\n",
      "2017-01-02  0.699199  0.240852  0.357581  0.783473\n",
      "2017-01-03  0.282035  0.554356  0.130219  0.914695\n",
      "# Select columns:\n",
      "                   B         C         D\n",
      "2017-01-01  0.365267  0.366815  0.797384\n",
      "2017-01-02  0.240852  0.357581  0.783473\n",
      "2017-01-03  0.554356  0.130219  0.914695\n",
      "2017-01-04  0.377526  0.913010  0.671436\n",
      "2017-01-05  0.913141  0.150236  0.950166\n",
      "2017-01-06  0.892298  0.638178  0.361655\n",
      "# Select rows and columns\n",
      "                   B         D\n",
      "2017-01-01  0.365267  0.797384\n",
      "2017-01-02  0.240852  0.783473\n",
      "2017-01-03  0.554356  0.914695\n",
      "# Select one row:\n",
      "A    0.251886\n",
      "B    0.365267\n",
      "C    0.366815\n",
      "D    0.797384\n",
      "Name: 2017-01-01 00:00:00, dtype: float64\n",
      "# Select one element:\n",
      "0.365266581005\n",
      "# Select one element:\n",
      "0.365266581005\n",
      "# Select one element:\n",
      "0.365266581005\n",
      "# Select one row:\n",
      "A    0.837591\n",
      "B    0.377526\n",
      "C    0.913010\n",
      "D    0.671436\n",
      "Name: 2017-01-04 00:00:00, dtype: float64\n",
      "# Select rows and cloumns not according to index and columns:\n",
      "                   B         C\n",
      "2017-01-04  0.377526  0.913010\n",
      "2017-01-05  0.913141  0.150236\n",
      "# Select rows and cloumns: \n",
      "                   B         D\n",
      "2017-01-02  0.240852  0.783473\n",
      "2017-01-03  0.554356  0.914695\n",
      "2017-01-06  0.892298  0.361655\n",
      "# Select rows: \n",
      "                   A         B         C         D\n",
      "2017-01-02  0.699199  0.240852  0.357581  0.783473\n",
      "2017-01-03  0.282035  0.554356  0.130219  0.914695\n",
      "# Select one element:\n",
      "0.24085218167\n",
      "# Select one element:\n",
      "0.24085218167\n"
     ]
    }
   ],
   "source": [
    "print '# Select column \"A\":\\n', data_1['A']\n",
    "print '# Select two rows:\\n', data_1[1:3]\n",
    "print '# Select rows acording to index:\\n', data_2['20170102':'20170104']\n",
    "print '# Select rows acording to index:\\n', data_2.loc[dates[0]:dates[2], :]\n",
    "print '# Select columns:\\n', data_2.loc[:, 'B':'D']\n",
    "print '# Select rows and columns\\n', data_2.loc[dates[0]:dates[2], ['B', 'D']]\n",
    "print '# Select one row:\\n', data_2.loc[dates[0]]\n",
    "print '# Select one element:\\n', data_2.loc[dates[0], 'B']\n",
    "print '# Select one element:\\n', data_2.at[dates[0], 'B']\n",
    "print '# Select one element:\\n', data_2.ix[dates[0], 'B']\n",
    "print '# Select one row:\\n', data_2.iloc[3] \n",
    "print '# Select rows and cloumns not according to index and columns:\\n', data_2.iloc[3:5, 1:3]\n",
    "print '# Select rows and cloumns: \\n', data_2.iloc[[1,2,5], [1,3]]\n",
    "print '# Select rows: \\n', data_2.iloc[1:3, :]\n",
    "print '# Select one element:\\n', data_2.iloc[1,1]\n",
    "print '# Select one element:\\n', data_2.iat[1,1]"
   ]
  },
  {
   "cell_type": "markdown",
   "metadata": {},
   "source": [
    "## Filter data"
   ]
  },
  {
   "cell_type": "code",
   "execution_count": 24,
   "metadata": {
    "collapsed": false
   },
   "outputs": [
    {
     "name": "stdout",
     "output_type": "stream",
     "text": [
      "# Filter data where column D >0: \n",
      "                   A         B         C         D\n",
      "2017-01-01  0.251886  0.365267  0.366815  0.797384\n",
      "2017-01-02  0.699199  0.240852  0.357581  0.783473\n",
      "2017-01-03  0.282035  0.554356  0.130219  0.914695\n",
      "2017-01-04  0.837591  0.377526  0.913010  0.671436\n",
      "2017-01-05  0.040433  0.913141  0.150236  0.950166\n",
      "# Filter data using &: \n",
      "                   A         B         C         D\n",
      "2017-01-06  0.500596  0.892298  0.638178  0.361655\n",
      "# Filter data using |: \n",
      "                   A         B         C         D\n",
      "2017-01-03  0.282035  0.554356  0.130219  0.914695\n",
      "2017-01-05  0.040433  0.913141  0.150236  0.950166\n",
      "2017-01-06  0.500596  0.892298  0.638178  0.361655\n",
      "# Filter the given columns in data using &: \n",
      "                   A         C\n",
      "2017-01-06  0.500596  0.638178\n",
      "# Filter data using a given list:\n",
      "2017-01-01    False\n",
      "2017-01-02    False\n",
      "2017-01-03    False\n",
      "2017-01-04    False\n",
      "2017-01-05    False\n",
      "2017-01-06    False\n",
      "Freq: D, Name: D, dtype: bool\n"
     ]
    }
   ],
   "source": [
    "print '# Filter data where column D >0: \\n', data_2[data_2.D>0.5]\n",
    "print '# Filter data using &: \\n', data_2[(data_2.B>0.5) & (data_2.D<0.5)]\n",
    "print '# Filter data using |: \\n', data_2[(data_2.B>0.5) | (data_2.D<0.5)]\n",
    "print '# Filter the given columns in data using &: \\n', data_2[['A','C']][(data_2.B>0.5) & (data_2.D<0.5)]\n",
    "values_list = np.random.rand(100)\n",
    "print '# Filter data using a given list:\\n', data_2.D.isin(values_list)"
   ]
  },
  {
   "cell_type": "markdown",
   "metadata": {},
   "source": [
    "## Insert and delete data"
   ]
  },
  {
   "cell_type": "code",
   "execution_count": 26,
   "metadata": {
    "collapsed": false
   },
   "outputs": [
    {
     "name": "stdout",
     "output_type": "stream",
     "text": [
      "# Insert a column called \"E\": \n",
      "2017-01-01    0.392935\n",
      "2017-01-02    0.772244\n",
      "2017-01-03    0.853136\n",
      "2017-01-04    0.291227\n",
      "2017-01-05    0.250760\n",
      "2017-01-06    0.567391\n",
      "Freq: D, Name: E, dtype: float64\n",
      "# Insert a column called \"a\" at a given position: \n",
      "                   A         a         B         C         D         E\n",
      "2017-01-01  0.251886  0.587031  0.365267  0.366815  0.797384  0.392935\n",
      "2017-01-02  0.699199  0.561689  0.240852  0.357581  0.783473  0.772244\n",
      "2017-01-03  0.282035  0.882629  0.554356  0.130219  0.914695  0.853136\n",
      "2017-01-04  0.837591  0.615141  0.377526  0.913010  0.671436  0.291227\n",
      "2017-01-05  0.040433  0.967767  0.913141  0.150236  0.950166  0.250760\n",
      "2017-01-06  0.500596  0.730060  0.892298  0.638178  0.361655  0.567391\n",
      "# Delete a column called \"a\": \n",
      "                   A         B         C         D         E\n",
      "2017-01-01  0.251886  0.365267  0.366815  0.797384  0.392935\n",
      "2017-01-02  0.699199  0.240852  0.357581  0.783473  0.772244\n",
      "2017-01-03  0.282035  0.554356  0.130219  0.914695  0.853136\n",
      "2017-01-04  0.837591  0.377526  0.913010  0.671436  0.291227\n",
      "2017-01-05  0.040433  0.913141  0.150236  0.950166  0.250760\n",
      "2017-01-06  0.500596  0.892298  0.638178  0.361655  0.567391\n",
      "# Delete a column called \"E\": \n",
      "                   A         B         C         D\n",
      "2017-01-01  0.251886  0.365267  0.366815  0.797384\n",
      "2017-01-02  0.699199  0.240852  0.357581  0.783473\n",
      "2017-01-03  0.282035  0.554356  0.130219  0.914695\n",
      "2017-01-04  0.837591  0.377526  0.913010  0.671436\n",
      "2017-01-05  0.040433  0.913141  0.150236  0.950166\n",
      "2017-01-06  0.500596  0.892298  0.638178  0.361655\n",
      "# data_2 did not change: \n",
      "                   A         B         C         D         E\n",
      "2017-01-01  0.251886  0.365267  0.366815  0.797384  0.392935\n",
      "2017-01-02  0.699199  0.240852  0.357581  0.783473  0.772244\n",
      "2017-01-03  0.282035  0.554356  0.130219  0.914695  0.853136\n",
      "2017-01-04  0.837591  0.377526  0.913010  0.671436  0.291227\n",
      "2017-01-05  0.040433  0.913141  0.150236  0.950166  0.250760\n",
      "2017-01-06  0.500596  0.892298  0.638178  0.361655  0.567391\n"
     ]
    }
   ],
   "source": [
    "data_2['E'] = pd.Series(np.random.rand(6), index=dates)\n",
    "print '# Insert a column called \"E\": \\n', data_2.E\n",
    "data_2.insert(1, 'a', np.random.rand(6))\n",
    "print '# Insert a column called \"a\" at a given position: \\n', data_2\n",
    "del data_2['a']\n",
    "print '# Delete a column called \"a\": \\n', data_2\n",
    "data_3 = data_2.drop(['E'], axis=1)\n",
    "print '# Delete a column called \"E\": \\n', data_3\n",
    "print '# data_2 did not change: \\n', data_2"
   ]
  },
  {
   "cell_type": "markdown",
   "metadata": {},
   "source": [
    "## Counting"
   ]
  },
  {
   "cell_type": "code",
   "execution_count": 28,
   "metadata": {
    "collapsed": false
   },
   "outputs": [
    {
     "name": "stdout",
     "output_type": "stream",
     "text": [
      "0.0    23218\n",
      "1.0      377\n",
      "Name: GO0004984, dtype: int64\n"
     ]
    }
   ],
   "source": [
    "fn = '../mtdnn/data/all_data_Y.csv'\n",
    "labels = pd.read_csv(fn, sep='\\t', header=0, index_col=0)\n",
    "label_count = labels.iloc[:, 0].value_counts()\n",
    "print label_count"
   ]
  },
  {
   "cell_type": "markdown",
   "metadata": {},
   "source": [
    "## Grouping\n",
    "need more examples!! agg"
   ]
  },
  {
   "cell_type": "code",
   "execution_count": 34,
   "metadata": {
    "collapsed": false
   },
   "outputs": [
    {
     "data": {
      "text/html": [
       "<div>\n",
       "<table border=\"1\" class=\"dataframe\">\n",
       "  <thead>\n",
       "    <tr style=\"text-align: right;\">\n",
       "      <th></th>\n",
       "      <th>GO0004930</th>\n",
       "      <th>GO0004888</th>\n",
       "      <th>GO0015079</th>\n",
       "      <th>GO0038023</th>\n",
       "      <th>GO0015293</th>\n",
       "      <th>GO0015075</th>\n",
       "      <th>GO0008514</th>\n",
       "      <th>GO0003823</th>\n",
       "      <th>GO0022890</th>\n",
       "      <th>GO0004872</th>\n",
       "      <th>...</th>\n",
       "      <th>GO0010608</th>\n",
       "      <th>GO0051716</th>\n",
       "      <th>GO0045860</th>\n",
       "      <th>GO0007420</th>\n",
       "      <th>GO0007283</th>\n",
       "      <th>GO0033993</th>\n",
       "      <th>GO0043066</th>\n",
       "      <th>GO0007417</th>\n",
       "      <th>GO0071902</th>\n",
       "      <th>GO0040008</th>\n",
       "    </tr>\n",
       "    <tr>\n",
       "      <th>GO0004984</th>\n",
       "      <th></th>\n",
       "      <th></th>\n",
       "      <th></th>\n",
       "      <th></th>\n",
       "      <th></th>\n",
       "      <th></th>\n",
       "      <th></th>\n",
       "      <th></th>\n",
       "      <th></th>\n",
       "      <th></th>\n",
       "      <th></th>\n",
       "      <th></th>\n",
       "      <th></th>\n",
       "      <th></th>\n",
       "      <th></th>\n",
       "      <th></th>\n",
       "      <th></th>\n",
       "      <th></th>\n",
       "      <th></th>\n",
       "      <th></th>\n",
       "      <th></th>\n",
       "    </tr>\n",
       "  </thead>\n",
       "  <tbody>\n",
       "    <tr>\n",
       "      <th>0.0</th>\n",
       "      <td>0.0</td>\n",
       "      <td>0.0</td>\n",
       "      <td>0.0</td>\n",
       "      <td>0.0</td>\n",
       "      <td>0.0</td>\n",
       "      <td>0.0</td>\n",
       "      <td>0.0</td>\n",
       "      <td>0.0</td>\n",
       "      <td>0.0</td>\n",
       "      <td>0.0</td>\n",
       "      <td>...</td>\n",
       "      <td>0.0</td>\n",
       "      <td>0.0</td>\n",
       "      <td>0.0</td>\n",
       "      <td>0.0</td>\n",
       "      <td>0.0</td>\n",
       "      <td>0.0</td>\n",
       "      <td>0.0</td>\n",
       "      <td>0.0</td>\n",
       "      <td>0.0</td>\n",
       "      <td>0.0</td>\n",
       "    </tr>\n",
       "    <tr>\n",
       "      <th>1.0</th>\n",
       "      <td>1.0</td>\n",
       "      <td>1.0</td>\n",
       "      <td>0.0</td>\n",
       "      <td>1.0</td>\n",
       "      <td>0.0</td>\n",
       "      <td>0.0</td>\n",
       "      <td>0.0</td>\n",
       "      <td>0.0</td>\n",
       "      <td>0.0</td>\n",
       "      <td>1.0</td>\n",
       "      <td>...</td>\n",
       "      <td>0.0</td>\n",
       "      <td>1.0</td>\n",
       "      <td>0.0</td>\n",
       "      <td>0.0</td>\n",
       "      <td>0.0</td>\n",
       "      <td>0.0</td>\n",
       "      <td>0.0</td>\n",
       "      <td>0.0</td>\n",
       "      <td>0.0</td>\n",
       "      <td>0.0</td>\n",
       "    </tr>\n",
       "  </tbody>\n",
       "</table>\n",
       "<p>2 rows × 867 columns</p>\n",
       "</div>"
      ],
      "text/plain": [
       "           GO0004930  GO0004888  GO0015079  GO0038023  GO0015293  GO0015075  \\\n",
       "GO0004984                                                                     \n",
       "0.0              0.0        0.0        0.0        0.0        0.0        0.0   \n",
       "1.0              1.0        1.0        0.0        1.0        0.0        0.0   \n",
       "\n",
       "           GO0008514  GO0003823  GO0022890  GO0004872    ...      GO0010608  \\\n",
       "GO0004984                                                ...                  \n",
       "0.0              0.0        0.0        0.0        0.0    ...            0.0   \n",
       "1.0              0.0        0.0        0.0        1.0    ...            0.0   \n",
       "\n",
       "           GO0051716  GO0045860  GO0007420  GO0007283  GO0033993  GO0043066  \\\n",
       "GO0004984                                                                     \n",
       "0.0              0.0        0.0        0.0        0.0        0.0        0.0   \n",
       "1.0              1.0        0.0        0.0        0.0        0.0        0.0   \n",
       "\n",
       "           GO0007417  GO0071902  GO0040008  \n",
       "GO0004984                                   \n",
       "0.0              0.0        0.0        0.0  \n",
       "1.0              0.0        0.0        0.0  \n",
       "\n",
       "[2 rows x 867 columns]"
      ]
     },
     "execution_count": 34,
     "metadata": {},
     "output_type": "execute_result"
    }
   ],
   "source": [
    "group_1 = labels.groupby('GO0004984')\n",
    "group_1.first().head(3)"
   ]
  },
  {
   "cell_type": "code",
   "execution_count": 39,
   "metadata": {
    "collapsed": false
   },
   "outputs": [
    {
     "data": {
      "text/html": [
       "<div>\n",
       "<table border=\"1\" class=\"dataframe\">\n",
       "  <thead>\n",
       "    <tr style=\"text-align: right;\">\n",
       "      <th></th>\n",
       "      <th></th>\n",
       "      <th>GO0004930</th>\n",
       "      <th>GO0004888</th>\n",
       "      <th>GO0015079</th>\n",
       "      <th>GO0015293</th>\n",
       "      <th>GO0015075</th>\n",
       "      <th>GO0008514</th>\n",
       "      <th>GO0003823</th>\n",
       "      <th>GO0022890</th>\n",
       "      <th>GO0004872</th>\n",
       "      <th>GO0008509</th>\n",
       "      <th>...</th>\n",
       "      <th>GO0010608</th>\n",
       "      <th>GO0051716</th>\n",
       "      <th>GO0045860</th>\n",
       "      <th>GO0007420</th>\n",
       "      <th>GO0007283</th>\n",
       "      <th>GO0033993</th>\n",
       "      <th>GO0043066</th>\n",
       "      <th>GO0007417</th>\n",
       "      <th>GO0071902</th>\n",
       "      <th>GO0040008</th>\n",
       "    </tr>\n",
       "    <tr>\n",
       "      <th>GO0004984</th>\n",
       "      <th>GO0038023</th>\n",
       "      <th></th>\n",
       "      <th></th>\n",
       "      <th></th>\n",
       "      <th></th>\n",
       "      <th></th>\n",
       "      <th></th>\n",
       "      <th></th>\n",
       "      <th></th>\n",
       "      <th></th>\n",
       "      <th></th>\n",
       "      <th></th>\n",
       "      <th></th>\n",
       "      <th></th>\n",
       "      <th></th>\n",
       "      <th></th>\n",
       "      <th></th>\n",
       "      <th></th>\n",
       "      <th></th>\n",
       "      <th></th>\n",
       "      <th></th>\n",
       "      <th></th>\n",
       "    </tr>\n",
       "  </thead>\n",
       "  <tbody>\n",
       "    <tr>\n",
       "      <th rowspan=\"2\" valign=\"top\">0.0</th>\n",
       "      <th>0.0</th>\n",
       "      <td>0.0</td>\n",
       "      <td>0.0</td>\n",
       "      <td>142.0</td>\n",
       "      <td>158.0</td>\n",
       "      <td>891.0</td>\n",
       "      <td>159.0</td>\n",
       "      <td>177.0</td>\n",
       "      <td>582.0</td>\n",
       "      <td>237.0</td>\n",
       "      <td>292.0</td>\n",
       "      <td>...</td>\n",
       "      <td>436.0</td>\n",
       "      <td>3875.0</td>\n",
       "      <td>383.0</td>\n",
       "      <td>492.0</td>\n",
       "      <td>391.0</td>\n",
       "      <td>503.0</td>\n",
       "      <td>672.0</td>\n",
       "      <td>658.0</td>\n",
       "      <td>206.0</td>\n",
       "      <td>479.0</td>\n",
       "    </tr>\n",
       "    <tr>\n",
       "      <th>1.0</th>\n",
       "      <td>480.0</td>\n",
       "      <td>883.0</td>\n",
       "      <td>11.0</td>\n",
       "      <td>0.0</td>\n",
       "      <td>86.0</td>\n",
       "      <td>0.0</td>\n",
       "      <td>15.0</td>\n",
       "      <td>20.0</td>\n",
       "      <td>996.0</td>\n",
       "      <td>19.0</td>\n",
       "      <td>...</td>\n",
       "      <td>10.0</td>\n",
       "      <td>827.0</td>\n",
       "      <td>68.0</td>\n",
       "      <td>75.0</td>\n",
       "      <td>22.0</td>\n",
       "      <td>169.0</td>\n",
       "      <td>75.0</td>\n",
       "      <td>91.0</td>\n",
       "      <td>48.0</td>\n",
       "      <td>52.0</td>\n",
       "    </tr>\n",
       "    <tr>\n",
       "      <th>1.0</th>\n",
       "      <th>1.0</th>\n",
       "      <td>377.0</td>\n",
       "      <td>377.0</td>\n",
       "      <td>0.0</td>\n",
       "      <td>0.0</td>\n",
       "      <td>0.0</td>\n",
       "      <td>0.0</td>\n",
       "      <td>0.0</td>\n",
       "      <td>0.0</td>\n",
       "      <td>377.0</td>\n",
       "      <td>0.0</td>\n",
       "      <td>...</td>\n",
       "      <td>0.0</td>\n",
       "      <td>298.0</td>\n",
       "      <td>0.0</td>\n",
       "      <td>0.0</td>\n",
       "      <td>1.0</td>\n",
       "      <td>1.0</td>\n",
       "      <td>0.0</td>\n",
       "      <td>0.0</td>\n",
       "      <td>0.0</td>\n",
       "      <td>0.0</td>\n",
       "    </tr>\n",
       "  </tbody>\n",
       "</table>\n",
       "<p>3 rows × 866 columns</p>\n",
       "</div>"
      ],
      "text/plain": [
       "                     GO0004930  GO0004888  GO0015079  GO0015293  GO0015075  \\\n",
       "GO0004984 GO0038023                                                          \n",
       "0.0       0.0              0.0        0.0      142.0      158.0      891.0   \n",
       "          1.0            480.0      883.0       11.0        0.0       86.0   \n",
       "1.0       1.0            377.0      377.0        0.0        0.0        0.0   \n",
       "\n",
       "                     GO0008514  GO0003823  GO0022890  GO0004872  GO0008509  \\\n",
       "GO0004984 GO0038023                                                          \n",
       "0.0       0.0            159.0      177.0      582.0      237.0      292.0   \n",
       "          1.0              0.0       15.0       20.0      996.0       19.0   \n",
       "1.0       1.0              0.0        0.0        0.0      377.0        0.0   \n",
       "\n",
       "                       ...      GO0010608  GO0051716  GO0045860  GO0007420  \\\n",
       "GO0004984 GO0038023    ...                                                   \n",
       "0.0       0.0          ...          436.0     3875.0      383.0      492.0   \n",
       "          1.0          ...           10.0      827.0       68.0       75.0   \n",
       "1.0       1.0          ...            0.0      298.0        0.0        0.0   \n",
       "\n",
       "                     GO0007283  GO0033993  GO0043066  GO0007417  GO0071902  \\\n",
       "GO0004984 GO0038023                                                          \n",
       "0.0       0.0            391.0      503.0      672.0      658.0      206.0   \n",
       "          1.0             22.0      169.0       75.0       91.0       48.0   \n",
       "1.0       1.0              1.0        1.0        0.0        0.0        0.0   \n",
       "\n",
       "                     GO0040008  \n",
       "GO0004984 GO0038023             \n",
       "0.0       0.0            479.0  \n",
       "          1.0             52.0  \n",
       "1.0       1.0              0.0  \n",
       "\n",
       "[3 rows x 866 columns]"
      ]
     },
     "execution_count": 39,
     "metadata": {},
     "output_type": "execute_result"
    }
   ],
   "source": [
    "group_2 = labels.groupby(['GO0004984', 'GO0038023'])\n",
    "group_2.aggregate(np.sum)"
   ]
  },
  {
   "cell_type": "markdown",
   "metadata": {
    "collapsed": false
   },
   "source": [
    "## Dealing with missing values"
   ]
  },
  {
   "cell_type": "code",
   "execution_count": 43,
   "metadata": {
    "collapsed": false
   },
   "outputs": [
    {
     "name": "stdout",
     "output_type": "stream",
     "text": [
      "          1         2         3\n",
      "a -0.608639 -0.022846 -0.009094\n",
      "b       NaN       NaN       NaN\n",
      "c  1.416742  1.842729       NaN\n",
      "d -0.661590 -0.144069 -0.823007\n",
      "# Fill the missing values with a given value: \n",
      "          1         2         3\n",
      "a -0.608639 -0.022846 -0.009094\n",
      "b  0.000000  0.000000  0.000000\n",
      "c  1.416742  1.842729  0.000000\n",
      "d -0.661590 -0.144069 -0.823007\n",
      "# Fill the missing values with a given string: \n",
      "          1          2           3\n",
      "a -0.608639 -0.0228462 -0.00909372\n",
      "b   missing    missing     missing\n",
      "c   1.41674    1.84273     missing\n",
      "d  -0.66159  -0.144069   -0.823007\n",
      "# Fill the missing values with the previous value \n",
      "          1         2         3\n",
      "a -0.608639 -0.022846 -0.009094\n",
      "b -0.608639 -0.022846 -0.009094\n",
      "c  1.416742  1.842729 -0.009094\n",
      "d -0.661590 -0.144069 -0.823007\n",
      "# Fill the missing values with the next value \n",
      "          1         2         3\n",
      "a -0.608639 -0.022846 -0.009094\n",
      "b  1.416742  1.842729 -0.823007\n",
      "c  1.416742  1.842729 -0.823007\n",
      "d -0.661590 -0.144069 -0.823007\n",
      "# Fill the missing values with limit \n",
      "          1         2         3\n",
      "a -0.608639 -0.022846 -0.009094\n",
      "b  1.416742  1.842729       NaN\n",
      "c  1.416742  1.842729 -0.823007\n",
      "d -0.661590 -0.144069 -0.823007\n",
      "# Fill the missing values with the mean \n",
      "          1         2         3\n",
      "a -0.608639 -0.022846 -0.009094\n",
      "b  0.048838  0.558605 -0.416050\n",
      "c  1.416742  1.842729 -0.416050\n",
      "d -0.661590 -0.144069 -0.823007\n",
      "# Fill the missing values in the given columns with the mean \n",
      "          1         2         3\n",
      "a -0.608639 -0.022846 -0.009094\n",
      "b  0.048838  0.558605       NaN\n",
      "c  1.416742  1.842729       NaN\n",
      "d -0.661590 -0.144069 -0.823007\n",
      "# Interpolate \n",
      "          1         2         3\n",
      "a -0.608639 -0.022846 -0.009094\n",
      "b  0.404051  0.909942 -0.280398\n",
      "c  1.416742  1.842729 -0.551703\n",
      "d -0.661590 -0.144069 -0.823007\n",
      "# Drop the missing values horizontally: \n",
      "          1         2         3\n",
      "a -0.608639 -0.022846 -0.009094\n",
      "d -0.661590 -0.144069 -0.823007\n",
      "# Drop the missing values vertically: \n",
      "Empty DataFrame\n",
      "Columns: []\n",
      "Index: [a, b, c, d]\n",
      "# Replace values\n",
      "          1         2         3\n",
      "a -0.608639 -0.022846 -0.009094\n",
      "b  1.000000  1.000000  1.000000\n",
      "c  1.416742  1.842729  1.000000\n",
      "d -0.661590 -0.144069 -0.823007\n"
     ]
    }
   ],
   "source": [
    "data_5 = pd.DataFrame(np.random.randn(4,3), index=list('abcd'), columns=list('123'))\n",
    "data_5.ix[1,:-1] = np.nan\n",
    "data_5.ix[1:-1,2] = np.nan\n",
    "print data_5\n",
    "\n",
    "print '# Fill the missing values with a given value: \\n', data_5.fillna(0)\n",
    "print '# Fill the missing values with a given string: \\n', data_5.fillna('missing')\n",
    "print '# Fill the missing values with the previous value \\n', data_5.fillna(method='pad')\n",
    "print '# Fill the missing values with the next value \\n', data_5.fillna(method='bfill')\n",
    "print '# Fill the missing values with limit \\n', data_5.fillna(method='bfill', limit=1)\n",
    "print '# Fill the missing values with the mean \\n', data_5.fillna(data_5.mean())\n",
    "print '# Fill the missing values in the given columns with the mean \\n', data_5.fillna(data_5.mean()['1':'2'])\n",
    "print '# Interpolate \\n', data_5.interpolate()\n",
    "print '# Drop the missing values horizontally: \\n', data_5.dropna(axis=0)\n",
    "print '# Drop the missing values vertically: \\n', data_5.dropna(axis=1)\n",
    "print '# Replace values\\n', data_5.replace({np.nan:1})"
   ]
  },
  {
   "cell_type": "markdown",
   "metadata": {},
   "source": [
    "## Merging data\n",
    "merge and concat"
   ]
  },
  {
   "cell_type": "code",
   "execution_count": 44,
   "metadata": {
    "collapsed": false
   },
   "outputs": [
    {
     "name": "stdout",
     "output_type": "stream",
     "text": [
      "# Merge two dataframes based on ID:\n",
      "          A         B         C         D         E  ID         1         2  \\\n",
      "0  0.699199  0.240852  0.357581  0.783473  0.772244   2 -0.608639 -0.022846   \n",
      "1  0.282035  0.554356  0.130219  0.914695  0.853136   3       NaN       NaN   \n",
      "2  0.040433  0.913141  0.150236  0.950166  0.250760   5  1.416742  1.842729   \n",
      "3  0.500596  0.892298  0.638178  0.361655  0.567391   6 -0.661590 -0.144069   \n",
      "\n",
      "          3  \n",
      "0 -0.009094  \n",
      "1       NaN  \n",
      "2       NaN  \n",
      "3 -0.823007  \n"
     ]
    }
   ],
   "source": [
    "data_2['ID'] = [1, 2, 3, 4, 5, 6]\n",
    "data_5['ID'] = [2,3, 5, 6]\n",
    "print '# Merge two dataframes based on ID:\\n', data_2.merge(data_5, how='right', on='ID')"
   ]
  },
  {
   "cell_type": "code",
   "execution_count": 54,
   "metadata": {
    "collapsed": false
   },
   "outputs": [
    {
     "name": "stdout",
     "output_type": "stream",
     "text": [
      "          A         A\n",
      "0  0.434776  0.699199\n",
      "1  0.652983  0.282035\n",
      "2  0.096195  0.040433\n",
      "3  0.999640  0.500596\n",
      "4  0.324403       NaN\n",
      "5  0.254693       NaN\n"
     ]
    }
   ],
   "source": [
    "data_6 = data_2.merge(data_5, how='right', on='ID')\n",
    "data_7 = pd.concat([data_1, data_6], axis=1)\n",
    "print data_7.A"
   ]
  },
  {
   "cell_type": "markdown",
   "metadata": {},
   "source": [
    "#### `pd.merge(left, right, how='inner', on=None, left_on=None, right_on=None, left_index=False, right_index=False, sort = False)`"
   ]
  },
  {
   "cell_type": "code",
   "execution_count": 156,
   "metadata": {
    "collapsed": false
   },
   "outputs": [
    {
     "name": "stdout",
     "output_type": "stream",
     "text": [
      "   A  B\n",
      "a  1  2\n",
      "b  3  4\n",
      "   B  C\n",
      "b  2  3\n",
      "d  5  8\n"
     ]
    }
   ],
   "source": [
    "df1 = pd.DataFrame([[1,2],[3,4]], index = ['a','b'],columns = ['A','B'])\n",
    "df2 = pd.DataFrame([[2,3],[5,8]], index = ['b','d'],columns = ['B','C'])\n",
    "print df1\n",
    "print df2"
   ]
  },
  {
   "cell_type": "code",
   "execution_count": 152,
   "metadata": {
    "collapsed": false
   },
   "outputs": [
    {
     "data": {
      "text/html": [
       "<div>\n",
       "<table border=\"1\" class=\"dataframe\">\n",
       "  <thead>\n",
       "    <tr style=\"text-align: right;\">\n",
       "      <th></th>\n",
       "      <th>A</th>\n",
       "      <th>B_x</th>\n",
       "      <th>B_y</th>\n",
       "      <th>C</th>\n",
       "    </tr>\n",
       "  </thead>\n",
       "  <tbody>\n",
       "    <tr>\n",
       "      <th>b</th>\n",
       "      <td>3.0</td>\n",
       "      <td>4.0</td>\n",
       "      <td>4</td>\n",
       "      <td>3</td>\n",
       "    </tr>\n",
       "    <tr>\n",
       "      <th>d</th>\n",
       "      <td>NaN</td>\n",
       "      <td>NaN</td>\n",
       "      <td>5</td>\n",
       "      <td>8</td>\n",
       "    </tr>\n",
       "  </tbody>\n",
       "</table>\n",
       "</div>"
      ],
      "text/plain": [
       "     A  B_x  B_y  C\n",
       "b  3.0  4.0    4  3\n",
       "d  NaN  NaN    5  8"
      ]
     },
     "execution_count": 152,
     "metadata": {},
     "output_type": "execute_result"
    }
   ],
   "source": [
    "pd.merge(left=df1, right=df2, how='right', left_index=True, right_index=True)"
   ]
  },
  {
   "cell_type": "code",
   "execution_count": 144,
   "metadata": {
    "collapsed": false
   },
   "outputs": [
    {
     "data": {
      "text/html": [
       "<div>\n",
       "<table border=\"1\" class=\"dataframe\">\n",
       "  <thead>\n",
       "    <tr style=\"text-align: right;\">\n",
       "      <th></th>\n",
       "      <th>A</th>\n",
       "      <th>B</th>\n",
       "      <th>B</th>\n",
       "      <th>C</th>\n",
       "    </tr>\n",
       "  </thead>\n",
       "  <tbody>\n",
       "    <tr>\n",
       "      <th>b</th>\n",
       "      <td>3</td>\n",
       "      <td>4</td>\n",
       "      <td>4</td>\n",
       "      <td>3</td>\n",
       "    </tr>\n",
       "  </tbody>\n",
       "</table>\n",
       "</div>"
      ],
      "text/plain": [
       "   A  B  B  C\n",
       "b  3  4  4  3"
      ]
     },
     "execution_count": 144,
     "metadata": {},
     "output_type": "execute_result"
    }
   ],
   "source": [
    "pd.concat([df1,df2], join='inner',axis=1)"
   ]
  },
  {
   "cell_type": "code",
   "execution_count": 161,
   "metadata": {
    "collapsed": false
   },
   "outputs": [
    {
     "data": {
      "text/html": [
       "<div>\n",
       "<table border=\"1\" class=\"dataframe\">\n",
       "  <thead>\n",
       "    <tr style=\"text-align: right;\">\n",
       "      <th></th>\n",
       "      <th>A</th>\n",
       "      <th>B</th>\n",
       "      <th>C</th>\n",
       "    </tr>\n",
       "  </thead>\n",
       "  <tbody>\n",
       "    <tr>\n",
       "      <th>0</th>\n",
       "      <td>1.0</td>\n",
       "      <td>2.0</td>\n",
       "      <td>3</td>\n",
       "    </tr>\n",
       "    <tr>\n",
       "      <th>1</th>\n",
       "      <td>NaN</td>\n",
       "      <td>5.0</td>\n",
       "      <td>8</td>\n",
       "    </tr>\n",
       "  </tbody>\n",
       "</table>\n",
       "</div>"
      ],
      "text/plain": [
       "     A    B  C\n",
       "0  1.0  2.0  3\n",
       "1  NaN  5.0  8"
      ]
     },
     "execution_count": 161,
     "metadata": {},
     "output_type": "execute_result"
    }
   ],
   "source": [
    "pd.merge(left=df1, right=df2, how='right', on=['B'])"
   ]
  },
  {
   "cell_type": "markdown",
   "metadata": {},
   "source": [
    "## Visualising the data"
   ]
  },
  {
   "cell_type": "code",
   "execution_count": 57,
   "metadata": {
    "collapsed": true
   },
   "outputs": [],
   "source": [
    "import matplotlib.pyplot as plt\n",
    "% matplotlib inline"
   ]
  },
  {
   "cell_type": "code",
   "execution_count": 58,
   "metadata": {
    "collapsed": false
   },
   "outputs": [
    {
     "data": {
      "image/png": "[encoded data removed]",
      "text/plain": [
       "<matplotlib.figure.Figure at 0x7fcdeca42690>"
      ]
     },
     "metadata": {},
     "output_type": "display_data"
    }
   ],
   "source": [
    "plt = data_2.plot(kind='scatter', x='A', y='B').get_figure()\n",
    "plt.show()"
   ]
  },
  {
   "cell_type": "code",
   "execution_count": 62,
   "metadata": {
    "collapsed": false
   },
   "outputs": [
    {
     "data": {
      "image/png": "[encoded data removed]",
      "text/plain": [
       "<matplotlib.figure.Figure at 0x7fcde8efae50>"
      ]
     },
     "metadata": {},
     "output_type": "display_data"
    }
   ],
   "source": [
    "plot = data_2[['A', 'B', 'E']].plot(kind='bar').get_figure()\n",
    "plt.show()"
   ]
  },
  {
   "cell_type": "code",
   "execution_count": 70,
   "metadata": {
    "collapsed": false
   },
   "outputs": [
    {
     "data": {
      "image/png": "[encoded data removed]",
      "text/plain": [
       "<matplotlib.figure.Figure at 0x7fcde8957490>"
      ]
     },
     "metadata": {},
     "output_type": "display_data"
    }
   ],
   "source": [
    "plot = data_2[['A', 'B', 'E']].plot(kind='barh', stacked=True).get_figure()\n",
    "plt.show()"
   ]
  },
  {
   "cell_type": "code",
   "execution_count": 103,
   "metadata": {
    "collapsed": false
   },
   "outputs": [
    {
     "data": {
      "image/png": "[encoded data removed]",
      "text/plain": [
       "<matplotlib.figure.Figure at 0x7fcde892f950>"
      ]
     },
     "metadata": {},
     "output_type": "display_data"
    }
   ],
   "source": [
    "import matplotlib\n",
    "import matplotlib.pyplot as plt\n",
    "matplotlib.style.use('seaborn-white')\n",
    "plt.rcParams['font.family'] = 'serif'\n",
    "plt.rcParams['font.serif'] = 'Ubuntu'\n",
    "plt.rcParams['font.monospace'] = 'Ubuntu Mono'\n",
    "plt.rcParams['font.size'] = 10\n",
    "plt.rcParams['axes.labelsize'] = 20\n",
    "plt.rcParams['axes.labelweight'] = 'bold'\n",
    "plt.rcParams['xtick.labelsize'] = 16\n",
    "plt.rcParams['ytick.labelsize'] = 16\n",
    "plt.rcParams['legend.fontsize'] = 10\n",
    "plt.rcParams['figure.titlesize'] = 12\n",
    "plot = data_2[['A', 'B', 'E']].plot.box()\n",
    "\n"
   ]
  },
  {
   "cell_type": "code",
   "execution_count": 76,
   "metadata": {
    "collapsed": false
   },
   "outputs": [
    {
     "data": {
      "text/plain": [
       "[u'seaborn-darkgrid',\n",
       " u'seaborn-notebook',\n",
       " u'classic',\n",
       " u'seaborn-ticks',\n",
       " u'grayscale',\n",
       " u'bmh',\n",
       " u'seaborn-talk',\n",
       " u'dark_background',\n",
       " u'ggplot',\n",
       " u'fivethirtyeight',\n",
       " u'seaborn-colorblind',\n",
       " u'seaborn-deep',\n",
       " u'seaborn-whitegrid',\n",
       " u'seaborn-bright',\n",
       " u'seaborn-poster',\n",
       " u'seaborn-muted',\n",
       " u'seaborn-paper',\n",
       " u'seaborn-white',\n",
       " u'seaborn-pastel',\n",
       " u'seaborn-dark',\n",
       " u'seaborn-dark-palette']"
      ]
     },
     "execution_count": 76,
     "metadata": {},
     "output_type": "execute_result"
    }
   ],
   "source": [
    "matplotlib.style.available"
   ]
  },
  {
   "cell_type": "markdown",
   "metadata": {},
   "source": [
    "## String operation"
   ]
  },
  {
   "cell_type": "code",
   "execution_count": 105,
   "metadata": {
    "collapsed": false
   },
   "outputs": [
    {
     "data": {
      "text/plain": [
       "0    a\n",
       "1    b\n",
       "2    c\n",
       "3    f\n",
       "dtype: object"
      ]
     },
     "execution_count": 105,
     "metadata": {},
     "output_type": "execute_result"
    }
   ],
   "source": [
    "s = pd.Series(list('ABCF'))\n",
    "s.str.lower()"
   ]
  },
  {
   "cell_type": "markdown",
   "metadata": {},
   "source": [
    "## Connect Database"
   ]
  },
  {
   "cell_type": "code",
   "execution_count": 106,
   "metadata": {
    "collapsed": true
   },
   "outputs": [],
   "source": [
    "from pymongo import MongoClient"
   ]
  },
  {
   "cell_type": "code",
   "execution_count": 109,
   "metadata": {
    "collapsed": true
   },
   "outputs": [],
   "source": [
    "def _connect_mongo(host, port, username, password, db):\n",
    "    \"\"\" A util for making a connection to mongo \"\"\"\n",
    "\n",
    "    if username and password:\n",
    "        mongo_uri = 'mongodb://%s:%s@%s:%s/%s' % (username, password, host, port, db)\n",
    "        conn = MongoClient(mongo_uri)\n",
    "    else:\n",
    "        conn = MongoClient(host, port)\n",
    "\n",
    "\n",
    "    return conn[db]\n",
    "\n",
    "\n",
    "def read_mongo(db, collection, query={}, host='localhost', port=27017, username=None, password=None, no_id=True):\n",
    "    \"\"\" Read from Mongo and Store into DataFrame \"\"\"\n",
    "\n",
    "    # Connect to MongoDB\n",
    "    db = _connect_mongo(host=host, port=port, username=username, password=password, db=db)\n",
    "\n",
    "    # Make a query to the specific DB and Collection\n",
    "    cursor = db[collection].find(query)\n",
    "\n",
    "    # Expand the cursor and construct the DataFrame\n",
    "    df =  pd.DataFrame(list(cursor))\n",
    "\n",
    "    # Delete the _id\n",
    "#     if no_id:\n",
    "#         del df['_id']\n",
    "\n",
    "    return df"
   ]
  },
  {
   "cell_type": "code",
   "execution_count": 115,
   "metadata": {
    "collapsed": false
   },
   "outputs": [],
   "source": [
    "a = read_mongo('test', 'restaurants')"
   ]
  },
  {
   "cell_type": "code",
   "execution_count": 121,
   "metadata": {
    "collapsed": false
   },
   "outputs": [
    {
     "name": "stdout",
     "output_type": "stream",
     "text": [
      "(76077, 6)\n"
     ]
    }
   ],
   "source": [
    "print a.shape"
   ]
  },
  {
   "cell_type": "code",
   "execution_count": 122,
   "metadata": {
    "collapsed": false
   },
   "outputs": [
    {
     "data": {
      "text/plain": [
       "a    1\n",
       "b    2\n",
       "c    3\n",
       "dtype: int64"
      ]
     },
     "execution_count": 122,
     "metadata": {},
     "output_type": "execute_result"
    }
   ],
   "source": [
    "data = [1,2,3]\n",
    "index = ['a','b','c']\n",
    "s = pd.Series(data=data, index=index)\n",
    "s"
   ]
  },
  {
   "cell_type": "code",
   "execution_count": 123,
   "metadata": {
    "collapsed": false
   },
   "outputs": [
    {
     "data": {
      "text/plain": [
       "a    2\n",
       "b    2\n",
       "c    3\n",
       "dtype: int64"
      ]
     },
     "execution_count": 123,
     "metadata": {},
     "output_type": "execute_result"
    }
   ],
   "source": [
    "s['a'] = 2\n",
    "s"
   ]
  },
  {
   "cell_type": "code",
   "execution_count": 124,
   "metadata": {
    "collapsed": false
   },
   "outputs": [
    {
     "data": {
      "text/plain": [
       "a    2\n",
       "b    2\n",
       "c    3\n",
       "d    5\n",
       "dtype: int64"
      ]
     },
     "execution_count": 124,
     "metadata": {},
     "output_type": "execute_result"
    }
   ],
   "source": [
    "s['d'] = 5\n",
    "s"
   ]
  },
  {
   "cell_type": "markdown",
   "metadata": {
    "collapsed": false
   },
   "source": [
    "# Examples"
   ]
  },
  {
   "cell_type": "code",
   "execution_count": 163,
   "metadata": {
    "collapsed": true
   },
   "outputs": [],
   "source": [
    "import pandas as pd"
   ]
  },
  {
   "cell_type": "code",
   "execution_count": 164,
   "metadata": {
    "collapsed": false
   },
   "outputs": [
    {
     "name": "stdout",
     "output_type": "stream",
     "text": [
      "PassengerId,Survived,Pclass,Name,Sex,Age,SibSp,Parch,Ticket,Fare,Cabin,Embarked\r",
      "\r\n",
      "1,0,3,\"Braund, Mr. Owen Harris\",male,22,1,0,A/5 21171,7.25,,S\r",
      "\r\n",
      "2,1,1,\"Cumings, Mrs. John Bradley (Florence Briggs Thayer)\",female,38,1,0,PC 17599,71.2833,C85,C\r",
      "\r\n",
      "3,1,3,\"Heikkinen, Miss. Laina\",female,26,0,0,STON/O2. 3101282,7.925,,S\r",
      "\r\n",
      "4,1,1,\"Futrelle, Mrs. Jacques Heath (Lily May Peel)\",female,35,1,0,113803,53.1,C123,S\r",
      "\r\n",
      "5,0,3,\"Allen, Mr. William Henry\",male,35,0,0,373450,8.05,,S\r",
      "\r\n",
      "6,0,3,\"Moran, Mr. James\",male,,0,0,330877,8.4583,,Q\r",
      "\r\n",
      "7,0,1,\"McCarthy, Mr. Timothy J\",male,54,0,0,17463,51.8625,E46,S\r",
      "\r\n",
      "8,0,3,\"Palsson, Master. Gosta Leonard\",male,2,3,1,349909,21.075,,S\r",
      "\r\n",
      "9,1,3,\"Johnson, Mrs. Oscar W (Elisabeth Vilhelmina Berg)\",female,27,0,2,347742,11.1333,,S\r",
      "\r\n"
     ]
    }
   ],
   "source": [
    "!head  data/titanic/train.csv"
   ]
  },
  {
   "cell_type": "code",
   "execution_count": 168,
   "metadata": {
    "collapsed": true
   },
   "outputs": [],
   "source": [
    "titanic = pd.read_csv('data/titanic/train.csv', header=0, index_col=None)"
   ]
  },
  {
   "cell_type": "code",
   "execution_count": 174,
   "metadata": {
    "collapsed": false
   },
   "outputs": [
    {
     "name": "stdout",
     "output_type": "stream",
     "text": [
      "<class 'pandas.core.frame.DataFrame'>\n",
      "RangeIndex: 891 entries, 0 to 890\n",
      "Data columns (total 12 columns):\n",
      "PassengerId    891 non-null int64\n",
      "Survived       891 non-null int64\n",
      "Pclass         891 non-null int64\n",
      "Name           891 non-null object\n",
      "Sex            891 non-null object\n",
      "Age            714 non-null float64\n",
      "SibSp          891 non-null int64\n",
      "Parch          891 non-null int64\n",
      "Ticket         891 non-null object\n",
      "Fare           891 non-null float64\n",
      "Cabin          204 non-null object\n",
      "Embarked       889 non-null object\n",
      "dtypes: float64(2), int64(5), object(5)\n",
      "memory usage: 83.6+ KB\n"
     ]
    }
   ],
   "source": [
    "titanic.info()"
   ]
  },
  {
   "cell_type": "code",
   "execution_count": null,
   "metadata": {
    "collapsed": true
   },
   "outputs": [],
   "source": []
  }
 ],
 "metadata": {
  "anaconda-cloud": {},
  "kernelspec": {
   "display_name": "Python [conda root]",
   "language": "python",
   "name": "conda-root-py"
  },
  "language_info": {
   "codemirror_mode": {
    "name": "ipython",
    "version": 2
   },
   "file_extension": ".py",
   "mimetype": "text/x-python",
   "name": "python",
   "nbconvert_exporter": "python",
   "pygments_lexer": "ipython2",
   "version": "2.7.12"
  }
 },
 "nbformat": 4,
 "nbformat_minor": 1
}
