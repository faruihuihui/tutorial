{
 "cells": [
  {
   "cell_type": "markdown",
   "metadata": {},
   "source": [
    "# Tensorflow Tutorial"
   ]
  },
  {
   "cell_type": "markdown",
   "metadata": {},
   "source": [
    "In this file, I will follow the Tensorflow official tutorial to learn Tensorflow. The examples are from https://www.tensorflow.org/get_started/, https://www.tensorflow.org/tutorials/, and https://github.com/aymericdamien/TensorFlow-Examples. In the meantime, I probably will have my own small projects using Tensorflow. "
   ]
  },
  {
   "cell_type": "markdown",
   "metadata": {},
   "source": [
    "## Getting Started"
   ]
  },
  {
   "cell_type": "code",
   "execution_count": 1,
   "metadata": {
    "collapsed": true
   },
   "outputs": [],
   "source": [
    "import tensorflow as tf"
   ]
  },
  {
   "cell_type": "markdown",
   "metadata": {},
   "source": [
    "The computational graph: Tensorflow Core programs consist of two discrete sections\n",
    "\n",
    "1) Building the comptational graph\n",
    "\n",
    "2) Ruing the computational graph\n",
    "\n",
    "Computational graph is a series Tensorflow operations arranged into a graph of nodes. Let's build a simple computational graph. Each node takes zero or more tensors as inputs and produces a tensor as an output. "
   ]
  },
  {
   "cell_type": "markdown",
   "metadata": {},
   "source": [
    "There are several ways to generate tensors in tensorflow:\n",
    "\n",
    "1) Create zero filled tensor\n",
    "\n",
    "2) Create one filled tensor\n",
    "\n",
    "3) Create a constant filled tensor\n",
    "\n",
    "4) Create a tensor out of existing constant"
   ]
  },
  {
   "cell_type": "code",
   "execution_count": 4,
   "metadata": {
    "collapsed": false
   },
   "outputs": [
    {
     "name": "stdout",
     "output_type": "stream",
     "text": [
      "Tensor(\"zeros_2:0\", shape=(5, 4), dtype=float32)\n",
      "Tensor(\"ones_2:0\", shape=(5, 4), dtype=float32)\n",
      "0\n"
     ]
    }
   ],
   "source": [
    "row_dim = 5\n",
    "col_dim = 4\n",
    "zero_tsr = tf.zeros([row_dim, col_dim])\n",
    "one_tsr = tf.ones([row_dim, col_dim])\n",
    "filled_tsr = tf.fill([row_dim, col_dim], 30)\n",
    "print zero_tsr\n",
    "print one_tsr\n",
    "print filled_tsr.value_index"
   ]
  },
  {
   "cell_type": "code",
   "execution_count": 26,
   "metadata": {
    "collapsed": false
   },
   "outputs": [
    {
     "name": "stdout",
     "output_type": "stream",
     "text": [
      "Tensor(\"Const_1:0\", shape=(), dtype=float32) Tensor(\"Const_2:0\", shape=(), dtype=float32) Tensor(\"Const_3:0\", shape=(), dtype=float32)\n"
     ]
    }
   ],
   "source": [
    "node1 = tf.constant(3.0, dtype=tf.float32)\n",
    "node2 = tf.constant(4.0)\n",
    "node3 = tf.constant(5.0)\n",
    "print node1, node2, node3"
   ]
  },
  {
   "cell_type": "markdown",
   "metadata": {},
   "source": [
    "We also can initialize tensors with the same size as constant tensors"
   ]
  },
  {
   "cell_type": "code",
   "execution_count": 6,
   "metadata": {
    "collapsed": false
   },
   "outputs": [
    {
     "name": "stdout",
     "output_type": "stream",
     "text": [
      "Tensor(\"zeros_like_1:0\", shape=(5, 4), dtype=float32)\n",
      "Tensor(\"ones_like_1:0\", shape=(5, 4), dtype=float32)\n"
     ]
    }
   ],
   "source": [
    "zeros_similar = tf.zeros_like(filled_tsr, dtype=tf.float32)\n",
    "ones_similar = tf.ones_like(filled_tsr, dtype=tf.float32)\n",
    "print zeros_similar\n",
    "print ones_similar"
   ]
  },
  {
   "cell_type": "markdown",
   "metadata": {},
   "source": [
    "Sequence tensor:\n",
    "\n",
    "1) tensor that contains defined intervals, linspace\n",
    "\n",
    "2) range, has no stop value, no larger than the limit"
   ]
  },
  {
   "cell_type": "code",
   "execution_count": 18,
   "metadata": {
    "collapsed": false
   },
   "outputs": [],
   "source": [
    "lin_tsr = tf.linspace(start=0.0, stop=1.0, num=4)\n",
    "seq_tsr = tf.range(start=6, limit=15, delta=4)"
   ]
  },
  {
   "cell_type": "code",
   "execution_count": 19,
   "metadata": {
    "collapsed": false
   },
   "outputs": [
    {
     "name": "stdout",
     "output_type": "stream",
     "text": [
      "Tensor(\"LinSpace_5:0\", shape=(4,), dtype=float32)\n",
      "[ 0.          0.33333334  0.66666669  1.        ]\n",
      "[ 6 10 14]\n"
     ]
    }
   ],
   "source": [
    "print lin_tsr\n",
    "session = tf.Session()\n",
    "print session.run(lin_tsr)\n",
    "print session.run(seq_tsr)"
   ]
  },
  {
   "cell_type": "markdown",
   "metadata": {},
   "source": [
    "Random tensors\n",
    "\n",
    "1) generate random numbers from uniform distribution, uniform distribution draws from interval that includes the minval but not maxval (minval <= x < maxval), tf.random_uniform\n",
    "\n",
    "2) generate random numbers from normal distribution,  tf.random_normal\n",
    "\n",
    "3) generate normal dstributed random number within certain bounds\n",
    "\n",
    "4) many other distributions, tf.random_gamma, tf.random_poisson\n",
    "\n",
    "5) randomize entries of tensor and random crop"
   ]
  },
  {
   "cell_type": "code",
   "execution_count": 22,
   "metadata": {
    "collapsed": false
   },
   "outputs": [],
   "source": [
    "randunif_tsr = tf.random_uniform([row_dim, col_dim], minval=0, maxval=1)\n",
    "randnorm_tsr = tf.random_normal([row_dim, col_dim], mean=0.0, stddev=1.0)\n",
    "truncnorm_tsr = tf.truncated_normal([row_dim, col_dim], mean=0.0, stddev=1.0)\n",
    "shuffled_output = tf.random_shuffle(lin_tsr)\n",
    "crop_output = tf.random_crop(truncnorm_tsr, [2, 2])"
   ]
  },
  {
   "cell_type": "markdown",
   "metadata": {},
   "source": [
    "We also can convert any numpy array to a python list or tensor using convert_to_tensor()"
   ]
  },
  {
   "cell_type": "code",
   "execution_count": 24,
   "metadata": {
    "collapsed": true
   },
   "outputs": [],
   "source": [
    "import numpy as np\n",
    "nparry_tsr = tf.convert_to_tensor(np.zeros([row_dim, col_dim]), dtype=tf.float32)"
   ]
  },
  {
   "cell_type": "markdown",
   "metadata": {},
   "source": [
    "To actually evaluate the nodes, we must run the computational graph within a session. A session encapsulates the control and state of the Tensorflow runtime. Create a Session object, and invoke its run method to run enough of the computational graph to evaluate. "
   ]
  },
  {
   "cell_type": "code",
   "execution_count": 27,
   "metadata": {
    "collapsed": false
   },
   "outputs": [
    {
     "name": "stdout",
     "output_type": "stream",
     "text": [
      "7.0\n",
      "[3.0, 4.0]\n",
      "[ 0.          0.33333334  0.66666669  1.        ]\n",
      "[[ 0.  0.  0.  0.]\n",
      " [ 0.  0.  0.  0.]\n",
      " [ 0.  0.  0.  0.]\n",
      " [ 0.  0.  0.  0.]\n",
      " [ 0.  0.  0.  0.]]\n"
     ]
    }
   ],
   "source": [
    "session = tf.Session()\n",
    "print session.run(node1 + node2)\n",
    "print session.run([node1, node2])\n",
    "print session.run(lin_tsr)\n",
    "print session.run(nparry_tsr)"
   ]
  },
  {
   "cell_type": "code",
   "execution_count": 23,
   "metadata": {
    "collapsed": false
   },
   "outputs": [
    {
     "name": "stdout",
     "output_type": "stream",
     "text": [
      "[[ 0.67220521  0.88252997  0.87040091  0.5287745 ]\n",
      " [ 0.01216948  0.39213681  0.12264264  0.61807251]\n",
      " [ 0.47416461  0.63431585  0.89741337  0.63506961]\n",
      " [ 0.13163936  0.95943093  0.30579436  0.50374854]\n",
      " [ 0.81866848  0.52330542  0.75306237  0.66046357]]\n",
      "[[-1.26903236  0.0409077   0.80711061  0.51042491]\n",
      " [-1.13441634  0.20801598 -0.80274862 -0.52731907]\n",
      " [-1.1306833  -0.86152422 -0.42604628 -0.61735725]\n",
      " [-0.41518149  1.1687783   0.01400948 -2.51262808]\n",
      " [-0.81262809 -0.55688095 -0.15244453 -1.63101518]]\n",
      "[[ 0.7241556   0.80209208 -0.49260613  0.0902128 ]\n",
      " [-0.74980783 -0.0526879   1.04567277  0.25060332]\n",
      " [-1.07460296  0.36734149 -1.48375738 -1.20853388]\n",
      " [-1.2501483  -0.10820613 -1.01182163  0.61372709]\n",
      " [ 0.11127156  0.76218736  0.68518704 -0.45744935]]\n",
      "[ 0.33333334  1.          0.66666669  0.        ]\n",
      "[[ 0.4480513  -0.11688936]\n",
      " [ 1.27591336 -0.57860464]]\n"
     ]
    }
   ],
   "source": [
    "session = tf.Session()\n",
    "print session.run(randunif_tsr)\n",
    "print session.run(randnorm_tsr)\n",
    "print session.run(truncnorm_tsr)\n",
    "print session.run(shuffled_output)\n",
    "print session.run(crop_output)"
   ]
  },
  {
   "cell_type": "markdown",
   "metadata": {},
   "source": [
    "We can build more complicated computation by combining tensor nodes with operations."
   ]
  },
  {
   "cell_type": "code",
   "execution_count": 7,
   "metadata": {
    "collapsed": false
   },
   "outputs": [
    {
     "name": "stdout",
     "output_type": "stream",
     "text": [
      "node4: Tensor(\"Add:0\", shape=(), dtype=float32)\n",
      "session.run(node4) 7.0\n"
     ]
    }
   ],
   "source": [
    "node4 = tf.add(node1, node2)\n",
    "print \"node4:\", node4\n",
    "print \"session.run(node4)\", session.run(node4)"
   ]
  },
  {
   "cell_type": "markdown",
   "metadata": {},
   "source": [
    "A graph can be parameterized to accept external inputs, known as placeholders. A placeholder is a promise to provide a value later"
   ]
  },
  {
   "cell_type": "code",
   "execution_count": 8,
   "metadata": {
    "collapsed": false
   },
   "outputs": [
    {
     "name": "stdout",
     "output_type": "stream",
     "text": [
      "7.5\n",
      "[ 3.  7.]\n"
     ]
    }
   ],
   "source": [
    "a = tf.placeholder(tf.float32)\n",
    "b = tf.placeholder(tf.float32)\n",
    "adder_note = a + b\n",
    "print session.run(adder_note, {a: 3, b: 4.5})\n",
    "print session.run(adder_note, {a: [1, 3], b: [2, 4]})"
   ]
  },
  {
   "cell_type": "markdown",
   "metadata": {},
   "source": [
    "and then even more complex:"
   ]
  },
  {
   "cell_type": "code",
   "execution_count": 9,
   "metadata": {
    "collapsed": false
   },
   "outputs": [
    {
     "name": "stdout",
     "output_type": "stream",
     "text": [
      "22.5\n"
     ]
    }
   ],
   "source": [
    "add_and_triple = adder_note * 3\n",
    "print session.run(add_and_triple, {a: 3, b: 4.5})"
   ]
  },
  {
   "cell_type": "markdown",
   "metadata": {},
   "source": [
    "Placeholders and Viarables are key tools for using computational graphs in TensorFlow. Placeholders are objects that allow us to feed in data of a specific type and shape; Variables are parameters of the algorithms and TensorFlow keeps track of how to change them to optimize the algorithm. \n",
    "\n",
    "To make machine learning model trainable, we need to be able to modify the graph to get new outputs with the same input. Variables allow us to add trainable parameters to graph. Variables are not initialised when we call tf.Variable. To initialize all variables in a Tensorflow programe, we have to explicitly call a special operation tf.global_variables_initializer(), or initialize individual variable"
   ]
  },
  {
   "cell_type": "code",
   "execution_count": 28,
   "metadata": {
    "collapsed": false
   },
   "outputs": [
    {
     "name": "stdout",
     "output_type": "stream",
     "text": [
      "[ 0.60000002  0.90000004  1.20000005  1.5       ]\n"
     ]
    }
   ],
   "source": [
    "W = tf.Variable([.3], dtype=tf.float32)\n",
    "b = tf.Variable([.3], dtype=tf.float32)\n",
    "x = tf.placeholder(tf.float32)\n",
    "linear_model = W * x + b\n",
    "init = tf.global_variables_initializer()\n",
    "session.run(init)\n",
    "print session.run(linear_model, {x:[1,2,3,4]})"
   ]
  },
  {
   "cell_type": "code",
   "execution_count": 29,
   "metadata": {
    "collapsed": false
   },
   "outputs": [
    {
     "name": "stdout",
     "output_type": "stream",
     "text": [
      "[[ 0.  0.  0.]\n",
      " [ 0.  0.  0.]]\n"
     ]
    }
   ],
   "source": [
    "first_var = tf.Variable(tf.zeros([2,3]))\n",
    "session.run(first_var.initializer)\n",
    "print session.run(first_var)"
   ]
  },
  {
   "cell_type": "code",
   "execution_count": 13,
   "metadata": {
    "collapsed": false
   },
   "outputs": [
    {
     "name": "stdout",
     "output_type": "stream",
     "text": [
      "34.46\n"
     ]
    }
   ],
   "source": [
    "y = tf.placeholder(tf.float32)\n",
    "squared_delta = tf.square(linear_model - y)\n",
    "loss = tf.reduce_sum(squared_delta)\n",
    "print session.run(loss, {x:[1,2,3,4], y:[0,-1,-2,-3]})"
   ]
  },
  {
   "cell_type": "markdown",
   "metadata": {},
   "source": [
    "### Working with Tensors (Matrices)\n",
    "\n",
    "Operations:\n",
    "\n",
    "1) substraction and addition\n",
    "\n",
    "2) multiplication\n",
    "\n",
    "3) transpose\n",
    "\n",
    "4) determinant\n",
    "\n",
    "5) inverse\n",
    "\n",
    "6) Cholesky decomposition\n",
    "\n",
    "7) Eig decomposotion"
   ]
  },
  {
   "cell_type": "code",
   "execution_count": 57,
   "metadata": {
    "collapsed": false
   },
   "outputs": [],
   "source": [
    "# Create tensor\n",
    "A = tf.truncated_normal([row_dim, row_dim], dtype=tf.float32)\n",
    "B = tf.random_uniform([row_dim, row_dim], minval=0.0, maxval=1.0, dtype=tf.float32)\n",
    "I = tf.diag([1.0, 1.0, 1.0, 1.0, 1.0])\n",
    "C = tf.constant([[4.0, 12.0, -16.0], [12.0, 37.0, -43.0], [-16.0, -43.0, 98]])"
   ]
  },
  {
   "cell_type": "code",
   "execution_count": 58,
   "metadata": {
    "collapsed": false
   },
   "outputs": [
    {
     "name": "stdout",
     "output_type": "stream",
     "text": [
      "[[ 0.28835264  0.85202426  0.14663243  0.04965334 -1.18171   ]\n",
      " [ 0.80420637 -0.50151879 -1.79141188  0.65549242  0.90004534]\n",
      " [ 0.79576313  0.06557913  1.75209534 -0.62952816  1.04075789]\n",
      " [-1.89137471  1.2208569  -1.4202323  -0.32099271  0.99774897]\n",
      " [ 0.29169032  1.17481732 -0.58979344  0.14824314 -0.37730548]]\n",
      "[[ 0.93575859  0.57335174  0.60193658  0.62509537  0.62586379]\n",
      " [ 0.21421337  0.75724685  0.72821462  0.14992893  0.46883202]\n",
      " [ 0.08926964  0.18311167  0.23098516  0.96413124  0.03732681]\n",
      " [ 0.01663625  0.63220632  0.77189016  0.16132581  0.49116576]\n",
      " [ 0.70933104  0.20932198  0.41680527  0.96290016  0.29307556]]\n",
      "[[ 1.  0.  0.  0.  0.]\n",
      " [ 0.  1.  0.  0.  0.]\n",
      " [ 0.  0.  1.  0.  0.]\n",
      " [ 0.  0.  0.  1.  0.]\n",
      " [ 0.  0.  0.  0.  1.]]\n",
      "[[ 1.35256076  0.33575031  0.21167386 -1.35801697  0.70224404]\n",
      " [-0.716102    1.8844744  -0.68451655  0.37460348  1.19382465]\n",
      " [ 1.88630247 -0.44183975  0.70136338  1.07921016  1.49334764]\n",
      " [-0.21656865  1.41611254  0.27470335 -0.04084647  2.16279745]\n",
      " [ 1.5483048   0.19108868  0.19195603  1.10441053 -1.35644722]]\n",
      "[[-1.43129492 -0.3132253   0.10797875  0.76176852 -0.48171654]\n",
      " [-0.38368082  0.15965383  0.44954887 -0.3360984   0.046692  ]\n",
      " [ 1.39329302  1.79911137  0.3215577   0.08374828  0.77492124]\n",
      " [ 0.65927726  1.28641963 -0.21260025 -0.6001991   0.35309601]\n",
      " [ 0.08354628  0.18019637 -0.16502206  0.35208407  1.88684547]]\n",
      "[[ 0.6869064   0.07685823 -0.04090012 -0.03234731  0.04124409]\n",
      " [ 0.1072779  -0.77647853  0.69913149  1.06255579 -0.38698578]\n",
      " [ 0.46885207 -0.57307279 -0.19796062 -0.4790951   0.09243964]\n",
      " [ 0.02605472  0.19036229  0.96203834 -1.5532223  -0.02505311]\n",
      " [ 0.63156688  0.31677663  0.17731905  0.40194815 -0.23381959]]\n",
      "[[-1.04599869 -0.39804336 -1.36632836 -0.25520569 -0.41570246]\n",
      " [-1.38592517  0.17220534  0.39293632 -1.73425794  0.13180733]\n",
      " [ 1.0827955   0.40973207 -1.67910099  0.42230114 -1.14677835]\n",
      " [ 0.66895753  0.24113962  0.40959617 -1.27731252 -0.78368491]\n",
      " [-0.26870424 -0.36427981  0.09432453 -0.49189052  0.54616296]]\n",
      "0.086909\n",
      "[[ 2.0950284   0.03655725 -0.81403595 -0.86085677 -0.14842072]\n",
      " [ 1.13211393  1.99678659 -0.95411569  1.21323359  1.61451828]\n",
      " [-0.61964947  0.82254004  1.88437986 -0.71071345  0.89044237]\n",
      " [ 0.16086848 -0.50939369  0.39081678  0.06233251  0.19491296]\n",
      " [-1.17716014  0.10325513  0.19397593 -0.28729299  2.54114723]]\n",
      "[[  4.  12. -16.]\n",
      " [ 12.  37. -43.]\n",
      " [-16. -43.  98.]]\n"
     ]
    }
   ],
   "source": [
    "print session.run(A)\n",
    "print session.run(B)\n",
    "print session.run(I)\n",
    "print session.run(A + B)\n",
    "print session.run(tf.matmul(A, I))\n",
    "print session.run(A * B)\n",
    "print session.run(tf.transpose(A))\n",
    "print session.run(tf.matrix_determinant(A))\n",
    "print session.run(A + I)\n",
    "print session.run(C)"
   ]
  },
  {
   "cell_type": "code",
   "execution_count": 63,
   "metadata": {
    "collapsed": false
   },
   "outputs": [
    {
     "name": "stdout",
     "output_type": "stream",
     "text": [
      "[[ 0.61088479 -0.3788543   0.40556699  0.20249388  1.53914201]\n",
      " [-0.72652572  1.12742352 -0.56908506  0.06942733 -2.99128628]\n",
      " [ 0.2317276   0.08472069 -0.17366321 -1.28366911 -2.18164802]\n",
      " [-1.37309873  0.96186256 -0.79974335  1.30925131 -2.23302913]\n",
      " [-0.48274976  0.28136587 -1.65196383  0.82243121 -1.02588248]]\n",
      "[[ 2.  0.  0.]\n",
      " [ 6.  1.  0.]\n",
      " [-8.  5.  3.]]\n",
      "(array([  1.88096873e-02,   1.55039663e+01,   1.23477234e+02], dtype=float32), array([[ 0.96341878,  0.21272728,  0.16300693],\n",
      "       [-0.26483005,  0.84895217,  0.45732397],\n",
      "       [ 0.04109978,  0.48376369, -0.87423301]], dtype=float32))\n"
     ]
    }
   ],
   "source": [
    "print session.run(tf.matrix_inverse(A + I))\n",
    "print session.run(tf.cholesky(C))\n",
    "print session.run(tf.self_adjoint_eig(C))"
   ]
  },
  {
   "cell_type": "markdown",
   "metadata": {},
   "source": [
    "### Activation Functions\n",
    "\n",
    "The activation functions are in the nueral networks (nn) package in TensorFlow.\n",
    "\n",
    "1) relu\n",
    "2) relu6\n",
    "3) sigmoid\n",
    "4) tanh\n",
    "5) softsign\n",
    "6) softplus\n",
    "7) softmax\n",
    "8) exponential linear unit (elu)"
   ]
  },
  {
   "cell_type": "code",
   "execution_count": 66,
   "metadata": {
    "collapsed": false
   },
   "outputs": [
    {
     "name": "stdout",
     "output_type": "stream",
     "text": [
      "[ 0.          0.69999999  0.1       ]\n",
      "[ 0.19193467  0.52173251  0.28633291]\n",
      "[ 0.42555749  0.66818774  0.52497917]\n",
      "[ 0.19193467  0.52173251  0.28633291]\n",
      "[-0.29131261  0.60436779  0.09966799]\n",
      "[-0.23076925  0.41176468  0.09090909]\n",
      "[ 0.55435526  1.10318601  0.74439669]\n",
      "[-0.2591818   0.69999999  0.1       ]\n"
     ]
    }
   ],
   "source": [
    "print session.run(tf.nn.relu([-0.3, 0.7, 0.1]))\n",
    "print session.run(tf.nn.softmax([-0.3, 0.7, 0.1]))\n",
    "print session.run(tf.nn.sigmoid([-0.3, 0.7, 0.1]))\n",
    "print session.run(tf.nn.softmax([-0.3, 0.7, 0.1]))\n",
    "print session.run(tf.nn.tanh([-0.3, 0.7, 0.1]))\n",
    "print session.run(tf.nn.softsign([-0.3, 0.7, 0.1]))\n",
    "print session.run(tf.nn.softplus([-0.3, 0.7, 0.1]))\n",
    "print session.run(tf.nn.elu([-0.3, 0.7, 0.1]))"
   ]
  },
  {
   "cell_type": "markdown",
   "metadata": {},
   "source": [
    "### Data sources\n",
    "There are some widely used datasets avaible for benchmarking"
   ]
  },
  {
   "cell_type": "code",
   "execution_count": 69,
   "metadata": {
    "collapsed": false
   },
   "outputs": [
    {
     "name": "stdout",
     "output_type": "stream",
     "text": [
      "['setosa' 'versicolor' 'virginica']\n",
      "['sepal length (cm)', 'sepal width (cm)', 'petal length (cm)', 'petal width (cm)']\n",
      "(150, 4)\n"
     ]
    }
   ],
   "source": [
    "# Iris data\n",
    "from sklearn import datasets\n",
    "iris = datasets.load_iris()\n",
    "print iris.target_names\n",
    "print iris.feature_names\n",
    "print iris.data.shape"
   ]
  },
  {
   "cell_type": "code",
   "execution_count": 83,
   "metadata": {
    "collapsed": false
   },
   "outputs": [
    {
     "name": "stdout",
     "output_type": "stream",
     "text": [
      "Index([u'id', u'lbw', u'age', u'lwt', u'race', u'smoke', u'ptl', u'hyper',\n",
      "       u'urirr', u'pvft', u'weight', u'agecat', u'wcat', u'anyptl',\n",
      "       u'newpvft'],\n",
      "      dtype='object')\n",
      "(189, 15)\n"
     ]
    }
   ],
   "source": [
    "# Birth weight data\n",
    "import pandas as pd\n",
    "birthdata_url = 'http://courses.washington.edu/b513/datasets/lowbwt.dta'\n",
    "birth_data = pd.read_stata(birthdata_url)\n",
    "print birth_data.columns\n",
    "print birth_data.shape"
   ]
  },
  {
   "cell_type": "code",
   "execution_count": 92,
   "metadata": {
    "collapsed": false
   },
   "outputs": [
    {
     "name": "stdout",
     "output_type": "stream",
     "text": [
      "      CRIM    ZN  INDUS  CHAS    NOX     RM   AGE     DIS  RAD    TAX  \\\n",
      "0  0.00632  18.0   2.31   0.0  0.538  6.575  65.2  4.0900  1.0  296.0   \n",
      "1  0.02731   0.0   7.07   0.0  0.469  6.421  78.9  4.9671  2.0  242.0   \n",
      "2  0.02729   0.0   7.07   0.0  0.469  7.185  61.1  4.9671  2.0  242.0   \n",
      "3  0.03237   0.0   2.18   0.0  0.458  6.998  45.8  6.0622  3.0  222.0   \n",
      "4  0.06905   0.0   2.18   0.0  0.458  7.147  54.2  6.0622  3.0  222.0   \n",
      "\n",
      "   PTRATIO       B  LSTAT  MEDV0  \n",
      "0     15.3  396.90   4.98   24.0  \n",
      "1     17.8  396.90   9.14   21.6  \n",
      "2     17.8  392.83   4.03   34.7  \n",
      "3     18.7  394.63   2.94   33.4  \n",
      "4     18.7  396.90   5.33   36.2  \n"
     ]
    }
   ],
   "source": [
    "# Boston housing data\n",
    "import requests\n",
    "housing_url = 'https://archive.ics.uci.edu/ml/machine-learning-databases/housing/housing.data'\n",
    "housing_header = ['CRIM', 'ZN', 'INDUS', 'CHAS', 'NOX', 'RM', 'AGE', 'DIS', \n",
    "                  'RAD', 'TAX', 'PTRATIO', 'B', 'LSTAT', 'MEDV0']\n",
    "housing_file = requests.get(housing_url)\n",
    "housing_data = [[float(x) for x in y.split(' ') if len(x)>=1] for y in housing_file.text.split('\\n') if len(y)>=1]\n",
    "print pd.DataFrame(housing_data, columns=housing_header).head()"
   ]
  },
  {
   "cell_type": "code",
   "execution_count": 94,
   "metadata": {
    "collapsed": false
   },
   "outputs": [
    {
     "name": "stdout",
     "output_type": "stream",
     "text": [
      "Extracting MNIST_data/train-images-idx3-ubyte.gz\n",
      "Extracting MNIST_data/train-labels-idx1-ubyte.gz\n",
      "Extracting MNIST_data/t10k-images-idx3-ubyte.gz\n",
      "Extracting MNIST_data/t10k-labels-idx1-ubyte.gz\n"
     ]
    }
   ],
   "source": [
    "# MNIST handwriting data\n",
    "from tensorflow.examples.tutorials.mnist import input_data\n",
    "mnist = input_data.read_data_sets(\"MNIST_data/\", one_hot=True)"
   ]
  },
  {
   "cell_type": "code",
   "execution_count": 31,
   "metadata": {
    "collapsed": false
   },
   "outputs": [
    {
     "name": "stdout",
     "output_type": "stream",
     "text": [
      "5574\n"
     ]
    }
   ],
   "source": [
    "# Spam-ham text data\n",
    "import requests\n",
    "import io\n",
    "from zipfile import ZipFile\n",
    "zip_url = 'http://archive.ics.uci.edu/ml/machine-learning-databases/00228/smsspamcollection.zip'\n",
    "r = requests.get(zip_url)\n",
    "z = ZipFile(io.BytesIO(r.content))\n",
    "title_file = z.read('SMSSpamCollection')\n",
    "text_data = title_file.decode('utf-8')\n",
    "text_data = text_data.encode('ascii',errors='ignore')\n",
    "text_data = text_data.decode().split('\\n')\n",
    "text_data = [x.split('\\t') for x in text_data if len(x)>=1]\n",
    "[text_data_target, text_data_train] = [list(x) for x in zip(*text_data)]\n",
    "print len(text_data_train)"
   ]
  },
  {
   "cell_type": "code",
   "execution_count": 33,
   "metadata": {
    "collapsed": false
   },
   "outputs": [
    {
     "name": "stdout",
     "output_type": "stream",
     "text": [
      "5331\n",
      "5331\n",
      "simplistic , silly and tedious . \n",
      "\n"
     ]
    }
   ],
   "source": [
    "# Movie review data\n",
    "import requests\n",
    "import io\n",
    "import tarfile\n",
    "movie_data_url = 'http://www.cs.cornell.edu/people/pabo/movie-review-data/rt-polaritydata.tar.gz'\n",
    "r = requests.get(movie_data_url)\n",
    "# Stream data into temp object\n",
    "stream_data = io.BytesIO(r.content)\n",
    "tmp = io.BytesIO()\n",
    "while True:\n",
    "    s = stream_data.read(16384)\n",
    "    if not s:\n",
    "        break\n",
    "    tmp.write(s)\n",
    "stream_data.close()\n",
    "tmp.seek(0)\n",
    "# Extract tar file\n",
    "tar_file = tarfile.open(fileobj=tmp, mode=\"r:gz\")\n",
    "pos = tar_file.extractfile('rt-polaritydata/rt-polarity.pos')\n",
    "neg = tar_file.extractfile('rt-polaritydata/rt-polarity.neg')\n",
    "# Save pos/neg reviews (Also deal with encoding)\n",
    "pos_data = []\n",
    "for line in pos:\n",
    "    pos_data.append(line.decode('ISO-8859-1').encode('ascii',errors='ignore').decode())\n",
    "neg_data = []\n",
    "for line in neg:\n",
    "    neg_data.append(line.decode('ISO-8859-1').encode('ascii',errors='ignore').decode())\n",
    "tar_file.close()\n",
    "print(len(pos_data))\n",
    "print(len(neg_data))\n",
    "# Print out first negative review\n",
    "print(neg_data[0])\n"
   ]
  },
  {
   "cell_type": "code",
   "execution_count": 41,
   "metadata": {
    "collapsed": false
   },
   "outputs": [
    {
     "name": "stdout",
     "output_type": "stream",
     "text": [
      "(10000, 3072) 10000\n"
     ]
    }
   ],
   "source": [
    "# CIFAR-10 image data\n",
    "def unpickle(file):\n",
    "    import cPickle\n",
    "    with open(file, 'rb') as fo:\n",
    "        dict = cPickle.load(fo)\n",
    "    return dict\n",
    "data = unpickle('../../Datasets/DataScience/cifar-10/data_batch_1')\n",
    "print data['data'].shape, len(data['labels'])"
   ]
  },
  {
   "cell_type": "code",
   "execution_count": 1,
   "metadata": {
    "collapsed": false
   },
   "outputs": [
    {
     "name": "stdout",
     "output_type": "stream",
     "text": [
      "5582212\n"
     ]
    }
   ],
   "source": [
    "# Shakespear text data\n",
    "import requests\n",
    "shakespeare_url = 'http://www.gutenberg.org/cache/epub/100/pg100.txt'\n",
    "# Get Shakespeare text\n",
    "response = requests.get(shakespeare_url)\n",
    "shakespeare_file = response.content\n",
    "# Decode binary into string\n",
    "shakespeare_text = shakespeare_file.decode('utf-8')\n",
    "# Drop first few descriptive paragraphs.\n",
    "shakespeare_text = shakespeare_text[7675:]\n",
    "print(len(shakespeare_text)) # Number of characters"
   ]
  },
  {
   "cell_type": "code",
   "execution_count": 30,
   "metadata": {
    "collapsed": false
   },
   "outputs": [
    {
     "name": "stdout",
     "output_type": "stream",
     "text": [
      "152557\n"
     ]
    }
   ],
   "source": [
    "\n",
    "# Englis-German translation\n",
    "import requests\n",
    "import io\n",
    "from zipfile import ZipFile\n",
    "sentence_url = 'http://www.manythings.org/anki/deu-eng.zip'\n",
    "r = requests.get(sentence_url)\n",
    "z = ZipFile(io.BytesIO(r.content))\n",
    "file = z.read('deu.txt''')\n",
    "# eng_ger_data = file.split('\\n')\n",
    "# eng_ger_data = [x.split('\\t') for x in eng_ger_data if len(x)>=1]\n",
    "# [english_sentence, german_sentence] = [list(x) for x in zip(*eng_ger_data)]\n",
    "# print(len(english_sentence))\n",
    "# Format Data\n",
    "eng_ger_data = file.decode('utf-8')\n",
    "eng_ger_data = eng_ger_data.encode('ascii''',errors='ignore''')\n",
    "eng_ger_data = eng_ger_data.decode().split('\\n')\n",
    "eng_ger_data = [x.split('\\t') for x in eng_ger_data if len(x)>=1]\n",
    "[english_sentence, german_sentence] = [list(x) for x in zip(*eng_ger_data)]\n",
    "print(len(english_sentence))"
   ]
  },
  {
   "cell_type": "markdown",
   "metadata": {},
   "source": [
    "## Key Components\n",
    "### Operations in a computational graph"
   ]
  },
  {
   "cell_type": "code",
   "execution_count": 43,
   "metadata": {
    "collapsed": false
   },
   "outputs": [
    {
     "name": "stdout",
     "output_type": "stream",
     "text": [
      "3.0\n",
      "9.0\n",
      "15.0\n",
      "21.0\n",
      "27.0\n"
     ]
    }
   ],
   "source": [
    "import tensorflow as tf\n",
    "import numpy as np\n",
    "sess = tf.Session()\n",
    "x_vals = np.array([1., 3., 5., 7., 9.])\n",
    "x_data = tf.placeholder(tf.float32)\n",
    "m_const = tf.constant(3.)\n",
    "prod = tf.multiply(x_data, m_const)\n",
    "for x in x_vals:\n",
    "    print sess.run(prod, {x_data:x})"
   ]
  },
  {
   "cell_type": "markdown",
   "metadata": {},
   "source": [
    "### Layering Nested Operations"
   ]
  },
  {
   "cell_type": "code",
   "execution_count": 52,
   "metadata": {
    "collapsed": false
   },
   "outputs": [
    {
     "name": "stdout",
     "output_type": "stream",
     "text": [
      "[[ 102.]\n",
      " [  66.]\n",
      " [  58.]]\n",
      "[[ 114.]\n",
      " [  78.]\n",
      " [  70.]]\n"
     ]
    }
   ],
   "source": [
    "array_1 = np.array([[1., 3., 5., 7., 9.], [-2., 0., 2., 4., 6.], [-6., -3., 0., 3., 6.]])\n",
    "array_2 = np.array([array_1, array_1 + 1.])\n",
    "x_data = tf.placeholder(dtype=tf.float32, shape=(3,None))\n",
    "m1 = tf.constant([[1.],[0.],[-1.],[2.],[4.]])\n",
    "m2 = tf.constant([[2.]])\n",
    "m3 = tf.constant([[10.]])\n",
    "prod_1 = tf.matmul(x_data, m1)\n",
    "prod_2 = tf.matmul(prod_1, m2)\n",
    "add_1 = tf.add(prod_2, m3)\n",
    "\n",
    "for x in array_2:\n",
    "    print sess.run(add_1, feed_dict={x_data:x})"
   ]
  },
  {
   "cell_type": "markdown",
   "metadata": {},
   "source": [
    "### Loss Functions"
   ]
  },
  {
   "cell_type": "code",
   "execution_count": 58,
   "metadata": {
    "collapsed": false
   },
   "outputs": [
    {
     "name": "stdout",
     "output_type": "stream",
     "text": [
      "[ 1.16012561]\n",
      "[ 0.00012564]\n"
     ]
    },
    {
     "data": {
      "image/png": "[encoded data removed]",
      "text/plain": [
       "<matplotlib.figure.Figure at 0x7fb84507f9d0>"
      ]
     },
     "metadata": {},
     "output_type": "display_data"
    },
    {
     "data": {
      "image/png": "[encoded data removed]",
      "text/plain": [
       "<matplotlib.figure.Figure at 0x7fb844f83290>"
      ]
     },
     "metadata": {},
     "output_type": "display_data"
    }
   ],
   "source": [
    "import matplotlib.pyplot as plt\n",
    "import tensorflow as tf\n",
    "x_vals = tf.linspace(-1., 1., 500)\n",
    "target = tf.constant(0.)\n",
    "\n",
    "# 1, L2 Norm loss also known as Euclidean loss function\n",
    "l2_y_vals = tf.square(target - x_vals)\n",
    "l2_y_out = sess.run(l2_y_vals)\n",
    "\n",
    "# 2, L1 Norm loss \n",
    "l1_y_vals = tf.abs(target -  x_vals)\n",
    "l1_y_out = sess.run(l1_y_vals)\n",
    "\n",
    "# 3, Pseudo-Huber loss\n",
    "delta1 = tf.constant(0.25)\n",
    "delta2 = tf.constant(5.)\n",
    "phuber1_y_vals = tf.multiply(tf.square(delta1), (tf.square(1. + tf.square((target - x_vals)/delta1)) - 1.))\n",
    "phuber1_y_out = sess.run(phuber1_y_vals)\n",
    "phuber2_y_vals = tf.multiply(tf.square(delta2), (tf.square(1. + tf.square((target - x_vals)/delta2)) - 1.))\n",
    "phuber2_y_out = sess.run(phuber2_y_vals)\n",
    "\n",
    "\n",
    "x_vals = tf.linspace(-3., 5., 500)\n",
    "target = tf.constant(1.)\n",
    "targets = tf.fill([500,], 1.)\n",
    "\n",
    "# 4, hinge loss\n",
    "hinge_y_vals = tf.maximum(0., 1. - tf.multiply(target, x_vals))\n",
    "hinge_y_out = sess.run(hinge_y_vals)\n",
    "\n",
    "# 5, cross entropy loss\n",
    "xentropy_y_vals = - tf.multiply(target, tf.log(x_vals)) - tf.multiply(1. - target, tf.log(1. - x_vals))\n",
    "xentropy_y_out = sess.run(xentropy_y_vals)\n",
    "\n",
    "# 6, sigmoid cross entropy loss\n",
    "xentropy_sigmoid_y_vals = tf.nn.sigmoid_cross_entropy_with_logits(logits=x_vals, labels=targets)\n",
    "xentropy_sigmoid_y_out = sess.run(xentropy_sigmoid_y_vals)\n",
    "\n",
    "# 7, Weighted cross entropy loss \n",
    "weight = tf.constant(0.5)\n",
    "xentropy_weighted_y_vals = tf.nn.weighted_cross_entropy_with_logits(x_vals, targets, weight)\n",
    "xentropy_weighted_y_out = sess.run(xentropy_weighted_y_vals)\n",
    "\n",
    "# 8, Softmax cross-entropy loss\n",
    "unscaled_logits = tf.constant([[1., -3., 10.]])\n",
    "target_dist = tf.constant([[0.1, 0.02, 0.88]])\n",
    "softmax_xentropy = tf.nn.softmax_cross_entropy_with_logits(logits=unscaled_logits, labels=target_dist)\n",
    "print sess.run(softmax_xentropy)\n",
    "\n",
    "# 9, Sparse softmax cross-entropy loss\n",
    "unscaled_logits = tf.constant([[1., -3., 10.]])\n",
    "sparse_target_dist = tf.constant([2])\n",
    "sparse_xentropy = tf.nn.sparse_softmax_cross_entropy_with_logits(logits=unscaled_logits, labels=sparse_target_dist)\n",
    "print(sess.run(sparse_xentropy))\n",
    "\n",
    "x_array = sess.run(x_vals)\n",
    "plt.plot(x_array, l2_y_out, 'b-', label='L2 Loss')\n",
    "plt.plot(x_array, l1_y_out, 'r--', label='L1 Loss')\n",
    "plt.plot(x_array, phuber1_y_out, 'k-.', label='P-Huber Loss (0.25)')\n",
    "plt.plot(x_array, phuber2_y_out, 'g:', label='P-Huber Loss (5.0)')\n",
    "plt.ylim(-0.2, 0.4)\n",
    "plt.legend(loc='lower right', prop={'size': 11})\n",
    "plt.show()\n",
    "         \n",
    "x_array = sess.run(x_vals)\n",
    "plt.plot(x_array, hinge_y_out, 'b-', label='Hinge Loss')\n",
    "plt.plot(x_array, xentropy_y_out, 'r--', label='Cross Entropy Loss')\n",
    "plt.plot(x_array, xentropy_sigmoid_y_out, 'k-.', label='Cross Entropy Sigmoid Loss')\n",
    "plt.plot(x_array, xentropy_weighted_y_out, 'g:', label='Weighted Cross Enropy Loss (x0.5)')\n",
    "plt.ylim(-1.5, 3)\n",
    "plt.legend(loc='lower right', prop={'size': 11})\n",
    "plt.show()\n",
    "\n"
   ]
  },
  {
   "cell_type": "markdown",
   "metadata": {},
   "source": [
    "### Back Propagation\n",
    "Tensorflow provides optimizers that slowly change each variable in order to minimize the loss function. The simplest optimizer is gradient descent. it modifies each variable according to the magnitude of the derivatives of loss with respect to that variable. Tensorflow can automatically produce deritives given only a description of the model using function tf.gradients.  "
   ]
  },
  {
   "cell_type": "code",
   "execution_count": 61,
   "metadata": {
    "collapsed": false
   },
   "outputs": [
    {
     "name": "stdout",
     "output_type": "stream",
     "text": [
      "[array([-0.99999791], dtype=float32), array([ 0.99999392], dtype=float32)]\n",
      "2.52847e-11\n"
     ]
    }
   ],
   "source": [
    "import tensorflow as tf\n",
    "\n",
    "W = tf.Variable([.3], dtype=tf.float32)\n",
    "b = tf.Variable([.3], dtype=tf.float32)\n",
    "x = tf.placeholder(tf.float32)\n",
    "linear_model = W * x + b\n",
    "init = tf.global_variables_initializer()\n",
    "y = tf.placeholder(tf.float32)\n",
    "squared_delta = tf.square(linear_model - y)\n",
    "loss = tf.reduce_sum(squared_delta)\n",
    "optimizer = tf.train.GradientDescentOptimizer(0.01)\n",
    "train = optimizer.minimize(loss)\n",
    "sess = tf.Session()\n",
    "sess.run(init)\n",
    "for i in range(1000):\n",
    "    sess.run(train, {x:[1,2,3,4], y:[0,-1,-2,-3]})\n",
    "    \n",
    "print(sess.run([W, b]))\n",
    "print(sess.run(loss, {x:[1,2,3,4], y:[0,-1,-2,-3]}))"
   ]
  },
  {
   "cell_type": "markdown",
   "metadata": {},
   "source": [
    "### Batch and stochastic training "
   ]
  },
  {
   "cell_type": "code",
   "execution_count": 80,
   "metadata": {
    "collapsed": false
   },
   "outputs": [],
   "source": [
    "\n",
    "import numpy as np\n",
    "import tensorflow as tf\n",
    "sess = tf.Session()\n",
    "batch_size = 20\n",
    "x_vals = np.random.normal(1, 0.1, 100)\n",
    "y_vals = np.repeat(10., 100)\n",
    "x_data = tf.placeholder(shape=[None, 1], dtype=tf.float32)\n",
    "y_target = tf.placeholder(shape=[None, 1], dtype=tf.float32)\n",
    "A = tf.Variable(tf.random_normal(shape=[1,1]))\n",
    "my_output = tf.matmul(x_data, A)\n",
    "loss = tf.reduce_mean(tf.square(my_output - y_target))\n",
    "my_opt = tf.train.GradientDescentOptimizer(0.02)\n",
    "train_step = my_opt.minimize(loss)\n",
    "init = tf.global_variables_initializer()\n",
    "sess.run(init)\n"
   ]
  },
  {
   "cell_type": "code",
   "execution_count": 79,
   "metadata": {
    "collapsed": false
   },
   "outputs": [
    {
     "name": "stdout",
     "output_type": "stream",
     "text": [
      "Step #5 A = [[ 1.99626088]]\n",
      "Loss = 64.1249\n",
      "Step #10 A = [[ 3.49261308]]\n",
      "Loss = 40.866\n",
      "Step #15 A = [[ 4.68950939]]\n",
      "Loss = 29.3438\n",
      "Step #20 A = [[ 5.66176271]]\n",
      "Loss = 18.2803\n",
      "Step #25 A = [[ 6.45234728]]\n",
      "Loss = 13.5158\n",
      "Step #30 A = [[ 7.0991807]]\n",
      "Loss = 8.95487\n",
      "Step #35 A = [[ 7.61376762]]\n",
      "Loss = 6.5578\n",
      "Step #40 A = [[ 8.03359699]]\n",
      "Loss = 3.59243\n",
      "Step #45 A = [[ 8.36335659]]\n",
      "Loss = 3.51681\n",
      "Step #50 A = [[ 8.61612797]]\n",
      "Loss = 2.32376\n",
      "Step #55 A = [[ 8.8303318]]\n",
      "Loss = 1.53192\n",
      "Step #60 A = [[ 9.01692677]]\n",
      "Loss = 2.04913\n",
      "Step #65 A = [[ 9.20790768]]\n",
      "Loss = 2.07864\n",
      "Step #70 A = [[ 9.33077145]]\n",
      "Loss = 1.1014\n",
      "Step #75 A = [[ 9.43239689]]\n",
      "Loss = 1.34036\n",
      "Step #80 A = [[ 9.4919014]]\n",
      "Loss = 1.00239\n",
      "Step #85 A = [[ 9.54374313]]\n",
      "Loss = 1.14466\n",
      "Step #90 A = [[ 9.60393238]]\n",
      "Loss = 0.998372\n",
      "Step #95 A = [[ 9.61843204]]\n",
      "Loss = 0.943095\n",
      "Step #100 A = [[ 9.66773129]]\n",
      "Loss = 1.30747\n"
     ]
    }
   ],
   "source": [
    "loss_batch = []\n",
    "for i in range(100):\n",
    "    rand_index = np.random.choice(100, size=batch_size)\n",
    "    rand_x = np.transpose([x_vals[rand_index]])\n",
    "    rand_y = np.transpose([y_vals[rand_index]])\n",
    "    sess.run(train_step, feed_dict={x_data: rand_x, y_target:rand_y})\n",
    "    if (i+1)%5==0: \n",
    "        print('Step #' + str(i+1) + ' A = ' + str(sess.run(A)))\n",
    "        temp_loss = sess.run(loss, feed_dict={x_data: rand_x, y_target: rand_y})\n",
    "        print('Loss = ' + str(temp_loss))\n",
    "        loss_batch.append(temp_loss)"
   ]
  },
  {
   "cell_type": "code",
   "execution_count": 81,
   "metadata": {
    "collapsed": false
   },
   "outputs": [
    {
     "name": "stdout",
     "output_type": "stream",
     "text": [
      "Step #5 A = [[ 2.10739279]]\n",
      "Loss = 62.119\n",
      "Step #10 A = [[ 3.5604713]]\n",
      "Loss = 41.8913\n",
      "Step #15 A = [[ 4.74361324]]\n",
      "Loss = 26.6776\n",
      "Step #20 A = [[ 5.70292997]]\n",
      "Loss = 17.848\n",
      "Step #25 A = [[ 6.48119593]]\n",
      "Loss = 12.3767\n",
      "Step #30 A = [[ 7.11774778]]\n",
      "Loss = 9.2537\n",
      "Step #35 A = [[ 7.63358498]]\n",
      "Loss = 5.86062\n",
      "Step #40 A = [[ 8.03398132]]\n",
      "Loss = 3.83404\n",
      "Step #45 A = [[ 8.36007309]]\n",
      "Loss = 2.37239\n",
      "Step #50 A = [[ 8.64226246]]\n",
      "Loss = 2.22664\n",
      "Step #55 A = [[ 8.85687923]]\n",
      "Loss = 1.93679\n",
      "Step #60 A = [[ 9.02501297]]\n",
      "Loss = 1.47379\n",
      "Step #65 A = [[ 9.17415524]]\n",
      "Loss = 1.63364\n",
      "Step #70 A = [[ 9.28565121]]\n",
      "Loss = 1.3478\n",
      "Step #75 A = [[ 9.37216282]]\n",
      "Loss = 1.58021\n",
      "Step #80 A = [[ 9.46166801]]\n",
      "Loss = 1.48554\n",
      "Step #85 A = [[ 9.53729057]]\n",
      "Loss = 0.941603\n",
      "Step #90 A = [[ 9.59429455]]\n",
      "Loss = 1.2342\n",
      "Step #95 A = [[ 9.63478184]]\n",
      "Loss = 1.03325\n",
      "Step #100 A = [[ 9.66355133]]\n",
      "Loss = 0.945652\n"
     ]
    }
   ],
   "source": [
    "loss_stochastic = []\n",
    "for i in range(100):\n",
    "    rand_index = np.random.choice(100, size=100)\n",
    "    rand_x = np.transpose([x_vals[rand_index]])\n",
    "    rand_y = np.transpose([y_vals[rand_index]])\n",
    "    sess.run(train_step, feed_dict={x_data: rand_x, y_target: rand_y})\n",
    "    if (i+1)%5==0:\n",
    "        print('Step #' + str(i+1) + ' A = ' + str(sess.run(A)))\n",
    "        temp_loss = sess.run(loss, feed_dict={x_data: rand_x, y_target: rand_y})\n",
    "        print('Loss = ' + str(temp_loss))\n",
    "        loss_stochastic.append(temp_loss)\n"
   ]
  },
  {
   "cell_type": "code",
   "execution_count": 82,
   "metadata": {
    "collapsed": false
   },
   "outputs": [
    {
     "data": {
      "image/png": "[encoded data removed]",
      "text/plain": [
       "<matplotlib.figure.Figure at 0x7fb83d6e9d10>"
      ]
     },
     "metadata": {},
     "output_type": "display_data"
    }
   ],
   "source": [
    "import matplotlib.pyplot as plt\n",
    "%matplotlib inline\n",
    "plt.plot(range(0, 100, 5), loss_stochastic, 'b-', label='Stochastic Loss')\n",
    "plt.plot(range(0, 100, 5), loss_batch, 'r--', label='Batch Loss, size=20')\n",
    "plt.legend(loc='upper right', prop={'size': 11})\n",
    "plt.show()"
   ]
  },
  {
   "cell_type": "markdown",
   "metadata": {},
   "source": [
    "### Example\n",
    "Using a simple example, we can combine what we learned above together. In this example, we will build a linear model for iris data."
   ]
  },
  {
   "cell_type": "code",
   "execution_count": 139,
   "metadata": {
    "collapsed": false
   },
   "outputs": [
    {
     "name": "stdout",
     "output_type": "stream",
     "text": [
      "Step #150 W = [[-0.84128398]\n",
      " [-0.25092167]], b = [[ 1.63704216]]\n",
      "Loss:  0.216522\n",
      "Step #150 W = [[-1.02338815]\n",
      " [-0.69344664]], b = [[ 2.70842767]]\n",
      "Loss:  0.129016\n",
      "Step #150 W = [[-1.1757592 ]\n",
      " [-0.99183577]], b = [[ 3.42844009]]\n",
      "Loss:  0.0883954\n",
      "Step #150 W = [[-1.29702044]\n",
      " [-1.21324623]], b = [[ 3.95529079]]\n",
      "Loss:  0.0501888\n",
      "Step #150 W = [[-1.39665067]\n",
      " [-1.39374089]], b = [[ 4.37458849]]\n",
      "Loss:  0.0630145\n"
     ]
    }
   ],
   "source": [
    "# import all packages needed\n",
    "import matplotlib.pyplot as plt\n",
    "import numpy as np\n",
    "from sklearn import datasets\n",
    "import tensorflow as tf\n",
    "sess = tf.Session()\n",
    "\n",
    "# load data\n",
    "iris = datasets.load_iris()\n",
    "# Because iris data has three classes, for a binary model, we need to transfor the target data to 0 and 1\n",
    "# In this case, if the target is 0, i.e. setosa, the label is 1, otherwise the label is 0 \n",
    "binary_target = np.array([1. if x == 0 else 0. for x in iris.target])\n",
    "iris_2d = np.array([[x[2], x[3]] for x in iris.data])\n",
    "# Batch size\n",
    "batch_size = 20\n",
    "# 2 placeholders for input and output\n",
    "x_data = tf.placeholder(dtype=tf.float32, shape=[None, 2])\n",
    "y_label = tf.placeholder(dtype=tf.float32, shape=[None, 1])\n",
    "# Variable for the model\n",
    "W = tf.Variable(tf.random_normal(shape=[2, 1]))\n",
    "b = tf.Variable(tf.random_normal(shape=[1, 1]))\n",
    "# linear model y_hat = Wx + b\n",
    "y_hat = tf.add(tf.matmul(x_data, W), b)\n",
    "# loss is sigmoid cross entropy\n",
    "loss = tf.reduce_mean(tf.nn.sigmoid_cross_entropy_with_logits(logits=y_hat, labels=y_label))\n",
    "# Optimizer SGD\n",
    "optimizer = tf.train.GradientDescentOptimizer(0.08)\n",
    "train = optimizer.minimize(loss)\n",
    "# Initialization\n",
    "init = tf.global_variables_initializer()\n",
    "sess.run(init)\n",
    "#print 'Loss: ', sess.run(y_hat)\n",
    "# training\n",
    "for epoch in range(1000):\n",
    "    rand_index = np.random.choice(len(iris_2d), size=batch_size)\n",
    "    rand_x = iris_2d[rand_index]\n",
    "    rand_y = np.array([[y] for y in binary_target[rand_index]])\n",
    "    sess.run(train, feed_dict={x_data: rand_x, y_label: rand_y})\n",
    "    if (epoch+1)%200==0:\n",
    "        print('Step #' + str(i+1) + ' W = ' + str(sess.run(W)) +', b = ' + str(sess.run(b)))\n",
    "        print 'Loss: ', sess.run(loss, feed_dict={x_data: rand_x, y_label: rand_y})\n",
    "\n"
   ]
  },
  {
   "cell_type": "code",
   "execution_count": 140,
   "metadata": {
    "collapsed": false
   },
   "outputs": [
    {
     "data": {
      "image/png": "[encoded data removed]",
      "text/plain": [
       "<matplotlib.figure.Figure at 0x7fb7ef25aed0>"
      ]
     },
     "metadata": {},
     "output_type": "display_data"
    }
   ],
   "source": [
    "A = sess.run(W)\n",
    "B = sess.run(b)\n",
    "x = np.linspace(0, 3, num=50)\n",
    "ablineValues = []\n",
    "for i in x:\n",
    "    ablineValues.append((-B - A[1]*i)/A[0])\n",
    "ablineValues = [v[0][0] for v in ablineValues]\n",
    "setosa_x = [a[1] for i,a in enumerate(iris_2d) if binary_target[i]==1]\n",
    "setosa_y = [a[0] for i,a in enumerate(iris_2d) if binary_target[i]==1]\n",
    "non_setosa_x = [a[1] for i,a in enumerate(iris_2d) if binary_target[i]==0]\n",
    "non_setosa_y = [a[0] for i,a in enumerate(iris_2d) if binary_target[i]==0]\n",
    "plt.plot(setosa_x, setosa_y, 'rx', ms=10, mew=2, label='setosa')\n",
    "plt.plot(non_setosa_x, non_setosa_y, 'ro', label='Non-setosa')\n",
    "plt.plot(x, ablineValues, 'b-')\n",
    "plt.xlim([0.0, 2.7])\n",
    "plt.ylim([0.0, 7.1])\n",
    "plt.suptitle('Linear Separator For I.setosa', fontsize=20)\n",
    "plt.xlabel('Petal Length')\n",
    "plt.ylabel('Petal Width')\n",
    "plt.legend(loc='lower right')\n",
    "plt.show()\n"
   ]
  },
  {
   "cell_type": "markdown",
   "metadata": {},
   "source": [
    "### Evaluate models"
   ]
  },
  {
   "cell_type": "code",
   "execution_count": null,
   "metadata": {
    "collapsed": true
   },
   "outputs": [],
   "source": [
    "tf.get_variable"
   ]
  },
  {
   "cell_type": "markdown",
   "metadata": {},
   "source": [
    "tf.contrib.learn is a high-level Tensorflow library that simplifies the mechanisms of machine learning, including \n",
    "\n",
    "1) running training loops \n",
    "\n",
    "2) running evaluation loops, \n",
    "\n",
    "3) managing data sets, \n",
    "\n",
    "4) managing feeding.\n",
    "\n",
    "Basic useage: a much simpler linear regression program"
   ]
  },
  {
   "cell_type": "code",
   "execution_count": 168,
   "metadata": {
    "collapsed": false
   },
   "outputs": [
    {
     "name": "stdout",
     "output_type": "stream",
     "text": [
      "train loss: {'loss': 1.0086203e-06, 'global_step': 1000}\n",
      "evaluation loss: {'loss': 0.0026156974, 'global_step': 1000}\n"
     ]
    }
   ],
   "source": [
    "import tensorflow as tf\n",
    "import numpy as np\n",
    "features = [tf.contrib.layers.real_valued_column(\"x\", dimension=1)]\n",
    "estimator = tf.contrib.learn.LinearRegressor(feature_columns=features)\n",
    "x_train = np.array([1., 2., 3., 4.])\n",
    "y_train = np.array([0., -1., -2., -3.])\n",
    "x_eval = np.array([2., 5., 8., 1.])\n",
    "y_eval = np.array([-1.01, -4.1, -7, 0.])\n",
    "input_fn = tf.contrib.learn.io.numpy_input_fn({\"x\":x_train}, y_train, batch_size=4, num_epochs=1000)\n",
    "eval_input_fn = tf.contrib.learn.io.numpy_input_fn({\"x\":x_eval}, y_eval, batch_size=4, num_epochs=1000)\n",
    "estimator.fit(input_fn=input_fn, steps=1000)\n",
    "train_loss = estimator.evaluate(input_fn=input_fn)\n",
    "eval_loss = estimator.evaluate(input_fn=eval_input_fn)\n",
    "init = tf.global_variables_initializer()\n",
    "sess = tf.Session()\n",
    "sess.run(init)\n",
    "print \"train loss: %r\" % train_loss\n",
    "print \"evaluation loss: %r\" % eval_loss"
   ]
  },
  {
   "cell_type": "markdown",
   "metadata": {},
   "source": [
    "A custom model:"
   ]
  },
  {
   "cell_type": "code",
   "execution_count": 23,
   "metadata": {
    "collapsed": true
   },
   "outputs": [],
   "source": [
    "tf.logging.set_verbosity(tf.logging.ERROR) # turn off warning"
   ]
  },
  {
   "cell_type": "code",
   "execution_count": 24,
   "metadata": {
    "collapsed": false
   },
   "outputs": [
    {
     "name": "stdout",
     "output_type": "stream",
     "text": [
      "train loss: {'loss': 2.4748615e-11, 'global_step': 1000}\n",
      "evaluation loss: {'loss': 0.010100762, 'global_step': 1000}\n"
     ]
    }
   ],
   "source": [
    "import tensorflow as tf\n",
    "import numpy as np\n",
    "\n",
    "def model(features, labels, mode):\n",
    "    W = tf.get_variable(\"W\", [1], dtype=tf.float64)\n",
    "    b = tf.get_variable(\"b\", [1], dtype=tf.float64)\n",
    "    y = W * features['x'] + b\n",
    "    loss = tf.reduce_sum(tf.square(y - labels))\n",
    "    globe_step = tf.train.get_global_step()\n",
    "    optimizer = tf.train.GradientDescentOptimizer(0.01)\n",
    "    train = tf.group(optimizer.minimize(loss),\n",
    "                     tf.assign_add(globe_step, 1))\n",
    "    return tf.contrib.learn.ModelFnOps(mode=mode, predictions=y, loss=loss, train_op=train)\n",
    "\n",
    "estimator = tf.contrib.learn.Estimator(model_fn=model)\n",
    "x_train = np.array([1., 2., 3., 4.])\n",
    "y_train = np.array([0., -1., -2., -3.])\n",
    "x_eval = np.array([2., 5., 8., 1.])\n",
    "y_eval = np.array([-1.01, -4.1, -7, 0.])\n",
    "input_fn = tf.contrib.learn.io.numpy_input_fn({\"x\":x_train}, y_train, 4, num_epochs=1000)\n",
    "eval_input_fn = tf.contrib.learn.io.numpy_input_fn({\"x\":x_eval}, y_eval, batch_size=4, num_epochs=1000)\n",
    "estimator.fit(input_fn=input_fn, steps=1000)\n",
    "train_loss = estimator.evaluate(input_fn=input_fn)\n",
    "eval_loss = estimator.evaluate(input_fn=eval_input_fn)\n",
    "print \"train loss: %r\" % train_loss\n",
    "print \"evaluation loss: %r\" % eval_loss"
   ]
  },
  {
   "cell_type": "markdown",
   "metadata": {},
   "source": [
    "## Basic Models\n",
    "### MNIST Example "
   ]
  },
  {
   "cell_type": "markdown",
   "metadata": {},
   "source": [
    "Read data"
   ]
  },
  {
   "cell_type": "code",
   "execution_count": 25,
   "metadata": {
    "collapsed": false
   },
   "outputs": [
    {
     "name": "stdout",
     "output_type": "stream",
     "text": [
      "Successfully downloaded train-images-idx3-ubyte.gz 9912422 bytes.\n",
      "Extracting MNIST_data/train-images-idx3-ubyte.gz\n",
      "Successfully downloaded train-labels-idx1-ubyte.gz 28881 bytes.\n",
      "Extracting MNIST_data/train-labels-idx1-ubyte.gz\n",
      "Successfully downloaded t10k-images-idx3-ubyte.gz 1648877 bytes.\n",
      "Extracting MNIST_data/t10k-images-idx3-ubyte.gz\n",
      "Successfully downloaded t10k-labels-idx1-ubyte.gz 4542 bytes.\n",
      "Extracting MNIST_data/t10k-labels-idx1-ubyte.gz\n"
     ]
    }
   ],
   "source": [
    "from tensorflow.examples.tutorials.mnist import input_data\n",
    "mnist = input_data.read_data_sets(\"MNIST_data/\", one_hot=True)"
   ]
  },
  {
   "cell_type": "markdown",
   "metadata": {},
   "source": [
    "### Nearest neighbour model\n",
    "Some basic models:\n",
    "The first model, nearest neighbour model"
   ]
  },
  {
   "cell_type": "code",
   "execution_count": 179,
   "metadata": {
    "collapsed": false
   },
   "outputs": [
    {
     "name": "stdout",
     "output_type": "stream",
     "text": [
      "Done! Accuracy: 0.952000\n"
     ]
    }
   ],
   "source": [
    "# build the graph\n",
    "x_train, y_train = mnist.train.next_batch(20000)\n",
    "x_test, y_test = mnist.test.next_batch(2000)\n",
    "\n",
    "xtr_v = tf.placeholder(\"float\", [None, 784])\n",
    "xte_v = tf.placeholder(\"float\", [784])\n",
    "\n",
    "distance = tf.reduce_sum(tf.abs(tf.add(xtr_v, tf.negative(xte_v))), reduction_indices=1)\n",
    "pred = tf.arg_min(distance, 0)\n",
    "accuracy = 0.\n",
    "init = tf.global_variables_initializer()\n",
    "\n",
    "# launch the graph\n",
    "with tf.Session() as sess:\n",
    "    sess.run(init)    \n",
    "    for i in range(x_test.shape[0]):\n",
    "        nn_index =  sess.run(pred, feed_dict={xtr_v:x_train, xte_v: x_test[i, :]})\n",
    "        # print \"Test\", i, \"Prediction:\", np.argmax(y_train[nn_index]), \"True Class:\", np.argmax(y_test[i])\n",
    "        if np.argmax(y_train[nn_index]) == np.argmax(y_test[i]):\n",
    "            accuracy += 1./x_test.shape[0]\n",
    "print \"Done! Accuracy: %f\" % accuracy"
   ]
  },
  {
   "cell_type": "code",
   "execution_count": 37,
   "metadata": {
    "collapsed": false
   },
   "outputs": [
    {
     "data": {
      "text/plain": [
       "array([ 129.21961975,  131.29019165,  136.71372986, ...,  120.22745514,\n",
       "        142.92156982,  138.54508972], dtype=float32)"
      ]
     },
     "execution_count": 37,
     "metadata": {},
     "output_type": "execute_result"
    }
   ],
   "source": [
    "session.run(distance, {xtr_v:x_train, xte_v: x_test[i, :]})"
   ]
  },
  {
   "cell_type": "markdown",
   "metadata": {},
   "source": [
    "### Linear regression\n",
    "### House price prediction in Boston area"
   ]
  },
  {
   "cell_type": "markdown",
   "metadata": {},
   "source": [
    "\n",
    "The second model: Linear regression, example house price prediction in Boston area"
   ]
  },
  {
   "cell_type": "code",
   "execution_count": 44,
   "metadata": {
    "collapsed": false
   },
   "outputs": [],
   "source": [
    "import matplotlib.pyplot as plt\n",
    "%matplotlib inline\n",
    "import tensorflow as tf\n",
    "import numpy as np\n",
    "\n",
    "from numpy import genfromtxt\n",
    "from sklearn.datasets import load_boston\n",
    "\n",
    "# load data\n",
    "def read_dataset(filePath,delimiter=','):\n",
    "    return genfromtxt(filePath, delimiter=delimiter)\n",
    "\n",
    "def read_boston_data():\n",
    "    boston = load_boston()\n",
    "    features = np.array(boston.data)\n",
    "    labels = np.array(boston.target)\n",
    "    return features, labels\n",
    "\n",
    "def feature_normalize(dataset):\n",
    "    mu = np.mean(dataset,axis=0)\n",
    "    sigma = np.std(dataset,axis=0)\n",
    "    return (dataset - mu)/sigma\n",
    "\n",
    "def append_bias_reshape(features,labels):\n",
    "    n_training_samples = features.shape[0]\n",
    "    n_dim = features.shape[1]\n",
    "    f = np.reshape(np.c_[np.ones(n_training_samples),features],[n_training_samples,n_dim + 1])\n",
    "    l = np.reshape(labels,[n_training_samples,1])\n",
    "    return f, l\n",
    "\n",
    "features,labels = read_boston_data()\n",
    "normalized_features = feature_normalize(features)\n",
    "f, l = append_bias_reshape(normalized_features,labels)\n",
    "n_dim = f.shape[1]\n",
    "\n",
    "rnd_indices = np.random.rand(len(f)) < 0.80\n",
    "\n",
    "train_x = f[rnd_indices]\n",
    "train_y = l[rnd_indices]\n",
    "test_x = f[~rnd_indices]\n",
    "test_y = l[~rnd_indices]\n"
   ]
  },
  {
   "cell_type": "code",
   "execution_count": 164,
   "metadata": {
    "collapsed": false
   },
   "outputs": [
    {
     "data": {
      "image/png": "[encoded data removed]",
      "text/plain": [
       "<matplotlib.figure.Figure at 0x7f4fb004ba90>"
      ]
     },
     "metadata": {},
     "output_type": "display_data"
    }
   ],
   "source": [
    "learning_rate = 0.01\n",
    "training_epochs = 1000\n",
    "rng = np.random\n",
    "cost_history = np.empty(shape=[1],dtype=np.float32)\n",
    "X = tf.placeholder(tf.float32,[None,n_dim])\n",
    "Y = tf.placeholder(tf.float32,[None,1])\n",
    "W = tf.Variable(rng.randn(n_dim, 1), name=\"weight\", dtype=tf.float32)\n",
    "b = tf.Variable(rng.randn(), name=\"bias\", dtype=tf.float32)\n",
    "\n",
    "y_ = tf.matmul(X, W) + b\n",
    "cost = tf.reduce_mean(tf.square(y_ - Y))\n",
    "training_step = tf.train.GradientDescentOptimizer(learning_rate).minimize(cost)\n",
    "init = tf.initialize_all_variables()\n",
    "sess = tf.Session()\n",
    "sess.run(init)\n",
    "\n",
    "for epoch in range(training_epochs):\n",
    "    sess.run(training_step,feed_dict={X:train_x,Y:train_y})\n",
    "    cost_history = np.append(cost_history,sess.run(cost,feed_dict={X: train_x,Y: train_y}))\n",
    "    \n",
    "plt.plot(range(len(cost_history)),cost_history)\n",
    "plt.axis([0,training_epochs,0,np.max(cost_history)])\n",
    "plt.show()"
   ]
  },
  {
   "cell_type": "code",
   "execution_count": 165,
   "metadata": {
    "collapsed": false
   },
   "outputs": [
    {
     "name": "stdout",
     "output_type": "stream",
     "text": [
      "MSE: 19.7016\n"
     ]
    },
    {
     "data": {
      "image/png": "[encoded data removed]",
      "text/plain": [
       "<matplotlib.figure.Figure at 0x7f4f8d545090>"
      ]
     },
     "metadata": {},
     "output_type": "display_data"
    }
   ],
   "source": [
    "pred_y = sess.run(y_, feed_dict={X: test_x})\n",
    "mse = tf.reduce_mean(tf.square(pred_y - test_y))\n",
    "print(\"MSE: %.4f\" % sess.run(mse)) \n",
    "\n",
    "fig, ax = plt.subplots()\n",
    "ax.scatter(test_y, pred_y)\n",
    "ax.plot([test_y.min(), test_y.max()], [test_y.min(), test_y.max()], 'k--', lw=3)\n",
    "ax.set_xlabel('Measured')\n",
    "ax.set_ylabel('Predicted')\n",
    "plt.show()"
   ]
  },
  {
   "cell_type": "markdown",
   "metadata": {},
   "source": [
    "Goodness-of-fit: a common way to summarize how well a linear regression model fits the data is via the coefficient of determination or R^2. This is calculated as the square of correlation between the observed y values and the predicted value y_hat. Best possible score is 1.0 and it can be negative (because the model can be arbitrarily worse). A constant model that always predicts the expected value of y, disregarding the input features, would get a R^2 score of 0.0."
   ]
  },
  {
   "cell_type": "code",
   "execution_count": 166,
   "metadata": {
    "collapsed": false
   },
   "outputs": [
    {
     "name": "stdout",
     "output_type": "stream",
     "text": [
      "R2 score: 0.774475\n"
     ]
    }
   ],
   "source": [
    "from sklearn.metrics import r2_score\n",
    "print \"R2 score: %f\" % r2_score(test_y, pred_y)"
   ]
  },
  {
   "cell_type": "markdown",
   "metadata": {},
   "source": [
    "### Nonlinear regression\n",
    "use an one hidden layer neural network as a regression model "
   ]
  },
  {
   "cell_type": "code",
   "execution_count": 157,
   "metadata": {
    "collapsed": false
   },
   "outputs": [
    {
     "data": {
      "image/png": "[encoded data removed]",
      "text/plain": [
       "<matplotlib.figure.Figure at 0x7f4f8ddd9c10>"
      ]
     },
     "metadata": {},
     "output_type": "display_data"
    }
   ],
   "source": [
    "learning_rate = 0.05\n",
    "momentum = 0.9\n",
    "training_epochs = 1000\n",
    "hidden = 9\n",
    "cost_history = np.empty(shape=[1],dtype=float)\n",
    "X = tf.placeholder(tf.float32,[None, n_dim])\n",
    "Y = tf.placeholder(tf.float32,[None, 1])\n",
    "W1 = tf.Variable(rng.randn(n_dim, hidden), name=\"weight\", dtype=tf.float32)\n",
    "b1 = tf.Variable(rng.randn(hidden), name=\"bias\", dtype=tf.float32)\n",
    "W2 = tf.Variable(rng.randn(hidden, 1), name=\"weight\", dtype=tf.float32)\n",
    "b2 = tf.Variable(rng.randn(), name=\"bias\", dtype=tf.float32)\n",
    "h1 = tf.nn.sigmoid(tf.matmul(X, W1) + b1)\n",
    "y_ = tf.matmul(h1, W2) + b2\n",
    "cost = tf.reduce_mean(tf.square(y_ - Y))\n",
    "# training_step = tf.train.AdagradDAOptimizer(learning_rate).minimize(cost)\n",
    "training_step = tf.train.GradientDescentOptimizer(learning_rate).minimize(cost)\n",
    "# training_step = tf.train.RMSPropOptimizer(learning_rate).minimize(cost)\n",
    "# training_step = tf.train.MomentumOptimizer(learning_rate, momentum, use_nesterov=True).minimize(cost)\n",
    "sess = tf.Session()\n",
    "init = tf.initialize_all_variables()\n",
    "sess.run(init)\n",
    "for epoch in range(training_epochs):\n",
    "    sess.run(training_step,feed_dict={X:train_x,Y:train_y})\n",
    "    cost_history = np.append(cost_history,sess.run(cost,feed_dict={X: train_x,Y: train_y}))\n",
    "    \n",
    "plt.plot(range(len(cost_history)),cost_history)\n",
    "plt.axis([0,training_epochs,0,np.max(cost_history)])\n",
    "plt.show()"
   ]
  },
  {
   "cell_type": "code",
   "execution_count": 158,
   "metadata": {
    "collapsed": false
   },
   "outputs": [
    {
     "name": "stdout",
     "output_type": "stream",
     "text": [
      "MSE: 7.5087\n"
     ]
    },
    {
     "data": {
      "image/png": "[encoded data removed]",
      "text/plain": [
       "<matplotlib.figure.Figure at 0x7f4fc4195690>"
      ]
     },
     "metadata": {},
     "output_type": "display_data"
    }
   ],
   "source": [
    "pred_y = sess.run(y_, feed_dict={X: test_x})\n",
    "mse = tf.reduce_mean(tf.square(pred_y - test_y))\n",
    "print(\"MSE: %.4f\" % sess.run(mse)) \n",
    "\n",
    "fig, ax = plt.subplots()\n",
    "ax.scatter(test_y, pred_y)\n",
    "ax.plot([test_y.min(), test_y.max()], [test_y.min(), test_y.max()], 'k--', lw=3)\n",
    "ax.set_xlabel('Measured')\n",
    "ax.set_ylabel('Predicted')\n",
    "plt.show()"
   ]
  },
  {
   "cell_type": "code",
   "execution_count": 159,
   "metadata": {
    "collapsed": false
   },
   "outputs": [
    {
     "name": "stdout",
     "output_type": "stream",
     "text": [
      "R2 score: 0.914047\n"
     ]
    }
   ],
   "source": [
    "from sklearn.metrics import r2_score\n",
    "print \"R2 score: %f\" % r2_score(test_y, pred_y)"
   ]
  },
  {
   "cell_type": "markdown",
   "metadata": {},
   "source": [
    "Nonlinear regression: use an one hidden layer neural network as a regression model (tensorflow layer implementation)"
   ]
  },
  {
   "cell_type": "code",
   "execution_count": 161,
   "metadata": {
    "collapsed": false
   },
   "outputs": [
    {
     "data": {
      "image/png": "[encoded data removed]",
      "text/plain": [
       "<matplotlib.figure.Figure at 0x7f4f8d91ee50>"
      ]
     },
     "metadata": {},
     "output_type": "display_data"
    }
   ],
   "source": [
    "learning_rate = 0.05\n",
    "momentum = 0.9\n",
    "training_epochs = 1000\n",
    "hidden = 9\n",
    "\n",
    "X = tf.placeholder(tf.float32,[None, n_dim])\n",
    "Y = tf.placeholder(tf.float32,[None, 1])\n",
    "cost_history = np.empty(shape=[1],dtype=np.float32)\n",
    "layer1 = tf.layers.dense(X, hidden, activation=tf.nn.sigmoid)\n",
    "Wo = tf.Variable(rng.randn(hidden, 1), name=\"weight\", dtype=tf.float32)\n",
    "bo = tf.Variable(rng.randn(), dtype=tf.float32)\n",
    "y_ = tf.matmul(layer1, Wo) + bo\n",
    "\n",
    "cost = tf.reduce_mean(tf.square(y_ - Y))\n",
    "# training_step = tf.train.AdagradDAOptimizer(learning_rate).minimize(cost)\n",
    "training_step = tf.train.GradientDescentOptimizer(learning_rate).minimize(cost)\n",
    "# training_step = tf.train.RMSPropOptimizer(learning_rate).minimize(cost)\n",
    "# training_step = tf.train.MomentumOptimizer(learning_rate, momentum, use_nesterov=True).minimize(cost)\n",
    "sess = tf.Session()\n",
    "init = tf.initialize_all_variables()\n",
    "sess.run(init)\n",
    "for epoch in range(training_epochs):\n",
    "    sess.run(training_step,feed_dict={X:train_x,Y:train_y})\n",
    "    cost_history = np.append(cost_history,sess.run(cost,feed_dict={X: train_x,Y: train_y}))\n",
    "    \n",
    "plt.plot(range(len(cost_history)),cost_history)\n",
    "plt.axis([0,training_epochs,0,np.max(cost_history)])\n",
    "plt.show()"
   ]
  },
  {
   "cell_type": "code",
   "execution_count": 162,
   "metadata": {
    "collapsed": false
   },
   "outputs": [
    {
     "name": "stdout",
     "output_type": "stream",
     "text": [
      "MSE: 8.3247\n"
     ]
    },
    {
     "data": {
      "image/png": "[encoded data removed]",
      "text/plain": [
       "<matplotlib.figure.Figure at 0x7f4fcc03ff10>"
      ]
     },
     "metadata": {},
     "output_type": "display_data"
    }
   ],
   "source": [
    "pred_y = sess.run(y_, feed_dict={X: test_x})\n",
    "mse = tf.reduce_mean(tf.square(pred_y - test_y))\n",
    "print(\"MSE: %.4f\" % sess.run(mse)) \n",
    "\n",
    "fig, ax = plt.subplots()\n",
    "ax.scatter(test_y, pred_y)\n",
    "ax.plot([test_y.min(), test_y.max()], [test_y.min(), test_y.max()], 'k--', lw=3)\n",
    "ax.set_xlabel('Measured')\n",
    "ax.set_ylabel('Predicted')\n",
    "plt.show()"
   ]
  },
  {
   "cell_type": "code",
   "execution_count": 163,
   "metadata": {
    "collapsed": false
   },
   "outputs": [
    {
     "name": "stdout",
     "output_type": "stream",
     "text": [
      "R2 score: 0.904707\n"
     ]
    }
   ],
   "source": [
    "from sklearn.metrics import r2_score\n",
    "print \"R2 score: %f\" % r2_score(test_y, pred_y)"
   ]
  },
  {
   "cell_type": "markdown",
   "metadata": {},
   "source": [
    "### Logistic regression\n",
    "Using MNIST data"
   ]
  },
  {
   "cell_type": "code",
   "execution_count": 177,
   "metadata": {
    "collapsed": false
   },
   "outputs": [
    {
     "name": "stdout",
     "output_type": "stream",
     "text": [
      " Epoch: 0010 cost= 1.293231719\n",
      "Epoch: 0020 cost= 0.928310808\n",
      "Epoch: 0030 cost= 0.790747981\n",
      "Epoch: 0040 cost= 0.713607731\n",
      "Epoch: 0050 cost= 0.655491050\n",
      "Epoch: 0060 cost= 0.619245792\n",
      "Epoch: 0070 cost= 0.588894196\n",
      "Epoch: 0080 cost= 0.563403022\n",
      "Epoch: 0090 cost= 0.540182225\n",
      "Epoch: 0100 cost= 0.519066210\n",
      "Accuracy: 0.883667\n"
     ]
    },
    {
     "data": {
      "image/png": "[encoded data removed]",
      "text/plain": [
       "<matplotlib.figure.Figure at 0x7f4f8d8794d0>"
      ]
     },
     "metadata": {},
     "output_type": "display_data"
    }
   ],
   "source": [
    "import tensorflow as tf\n",
    "import numpy as np\n",
    "learning_rate = 0.01\n",
    "training_epoch = 100\n",
    "batch_size = 100\n",
    "display_step = 10\n",
    "ndim = 784\n",
    "nclass = 10\n",
    "rng = np.random\n",
    "cost_history = np.empty(shape=[1],dtype=float)\n",
    "\n",
    "x = tf.placeholder(tf.float32, [None, ndim])\n",
    "y = tf.placeholder(tf.float32, [None, nclass])\n",
    "\n",
    "W = tf.Variable(rng.randn(ndim, nclass), name='weights', dtype=tf.float32)\n",
    "b = tf.Variable(rng.randn(nclass), name='bias', dtype=tf.float32)\n",
    "y_ = tf.nn.softmax(tf.matmul(x, W) + b)\n",
    "# minimizing cross entropy\n",
    "# y_ = tf.nn.softmax(tf.matmul(x, W) + b)\n",
    "# cost = tf.reduce_mean(-tf.reduce_sum(y*tf.log(y_), reduction_indices=1))\n",
    "\n",
    "# directly use tf.nn.softmax_cross_entropy_with_logits\n",
    "cost = tf.reduce_mean(tf.nn.softmax_cross_entropy_with_logits(logits=tf.matmul(x, W) + b, labels=y))\n",
    "\n",
    "optimizer = tf.train.GradientDescentOptimizer(learning_rate).minimize(cost)\n",
    "\n",
    "init = tf.global_variables_initializer()\n",
    "sess = tf.Session()\n",
    "sess.run(init)\n",
    "\n",
    "for epoch in xrange(training_epoch):\n",
    "    total_batch = int(mnist.train.num_examples/batch_size)\n",
    "    avg_cost = 0.\n",
    "    for i in range(total_batch):\n",
    "        batch_xs, batch_ys = mnist.train.next_batch(batch_size)\n",
    "        _, c = sess.run([optimizer, cost], feed_dict={x:batch_xs, y:batch_ys})\n",
    "        avg_cost += c / total_batch        \n",
    "    if (epoch+1) % display_step == 0:\n",
    "            print \"Epoch:\", '%04d' % (epoch+1), \"cost=\", \"{:.9f}\".format(avg_cost)    \n",
    "    cost_history = np.append(cost_history,avg_cost)\n",
    "    \n",
    "# Test model\n",
    "correct_prediction = tf.equal(tf.argmax(y_, 1), tf.argmax(y, 1))\n",
    "# Calculate accuracy for 3000 examples\n",
    "accuracy = tf.reduce_mean(tf.cast(correct_prediction, tf.float32))\n",
    "print \"Accuracy:\", accuracy.eval(session=sess, feed_dict={x: mnist.test.images[:3000], \n",
    "                                                          y: mnist.test.labels[:3000]})\n",
    "\n",
    "plt.plot(range(len(cost_history)),cost_history)\n",
    "plt.axis([0,training_epoch,0,np.max(cost_history)])\n",
    "plt.show()"
   ]
  },
  {
   "cell_type": "markdown",
   "metadata": {},
   "source": [
    "### Deep Neural Networks\n",
    "Build a Multilayer Convolutional Network"
   ]
  },
  {
   "cell_type": "code",
   "execution_count": null,
   "metadata": {
    "collapsed": false
   },
   "outputs": [
    {
     "name": "stdout",
     "output_type": "stream",
     "text": [
      "Epoch:  10 cost=0.04679 accuracy=0.98533\n",
      "Epoch:  20 cost=0.03488 accuracy=0.99000\n",
      "Epoch:  30 cost=0.03121 accuracy=0.99000\n"
     ]
    }
   ],
   "source": [
    "import tensorflow as tf\n",
    "ndim = 784\n",
    "n_classes = 10\n",
    "num_epochs = 100\n",
    "cost_history = np.empty(shape=[1],dtype=float)\n",
    "batch_size = 100\n",
    "learning_rate = 0.01\n",
    "# initialize variable\n",
    "def weight_variable(shape):\n",
    "    initial = tf.truncated_normal(shape, stddev=0.1)\n",
    "    return tf.Variable(initial)\n",
    "\n",
    "def bias_variable(shape):\n",
    "    initial = tf.constant(0.1, shape=shape)\n",
    "    return tf.Variable(initial)\n",
    "\n",
    "# Convolution and Pooling\n",
    "def conv2d(x, W, b, strides=1):\n",
    "    x = tf.nn.conv2d(x, W, strides=[1, strides, strides, 1], padding='SAME')\n",
    "    x = tf.nn.bias_add(x, b)\n",
    "    return tf.nn.relu(x)\n",
    "\n",
    "def maxpool2d(x, k=2):\n",
    "    return tf.nn.max_pool(x, ksize=[1, k, k, 1], strides=[1, k, k, 1],\n",
    "                          padding='SAME')\n",
    "\n",
    "# weights and bias\n",
    "weights = {\n",
    "    # 5x5 conv, 1 input, 32 outputs\n",
    "    'wc1': weight_variable([5, 5, 1, 32]),\n",
    "    # 5x5 conv, 32 inputs, 64 outputs\n",
    "    'wc2': weight_variable([5, 5, 32, 64]),\n",
    "    # fully connected, 7*7*64 inputs, 1024 outputs\n",
    "    'wd1': weight_variable([7*7*64, 1024]),\n",
    "    # 1024 inputs, 10 outputs (class prediction)\n",
    "    'out': weight_variable([1024, n_classes])\n",
    "}\n",
    "\n",
    "biases = {\n",
    "    'bc1': bias_variable([32]),\n",
    "    'bc2': bias_variable([64]),\n",
    "    'bd1': bias_variable([1024]),\n",
    "    'out': bias_variable([n_classes])\n",
    "}\n",
    "\n",
    "# input and labels\n",
    "x = tf.placeholder(tf.float32, [None, ndim])\n",
    "y = tf.placeholder(tf.float32, [None, n_classes])\n",
    "dropout = tf.placeholder(tf.float32)\n",
    "\n",
    "# create model\n",
    "# def conv_net(x, weights, bias, dropout):\n",
    "input_x = tf.reshape(x, shape=[-1, 28, 28, 1])\n",
    "conv1 = conv2d(input_x, weights['wc1'], biases['bc1'])\n",
    "conv1 = maxpool2d(conv1, k=2) # downsampling\n",
    "\n",
    "conv2 = conv2d(conv1, weights['wc2'], biases['bc2'])\n",
    "conv2 = maxpool2d(conv2, k=2)\n",
    "\n",
    "# fully connected\n",
    "\n",
    "fc1 = tf.reshape(conv2, [-1, weights['wd1'].get_shape().as_list()[0]])\n",
    "fc1 = tf.matmul(fc1, weights['wd1']) + biases['bd1']\n",
    "# batch normalization\n",
    "fc1 = tf.contrib.layers.batch_norm(fc1, center=True, scale=True)\n",
    "fc1 = tf.nn.relu(fc1)\n",
    "\n",
    "# Apply Dropout\n",
    "fc1 = tf.nn.dropout(fc1, dropout)\n",
    "\n",
    "y_ = tf.nn.softmax(tf.matmul(fc1, weights['out']) + biases['out'])\n",
    "cost = tf.reduce_mean(-tf.reduce_sum(y*tf.log(y_), reduction_indices=1))\n",
    "optimizer = tf.train.GradientDescentOptimizer(learning_rate).minimize(cost)\n",
    "\n",
    "correct_pred = tf.equal(tf.argmax(y_, 1), tf.argmax(y, 1))\n",
    "accuracy = tf.reduce_mean(tf.cast(correct_pred, tf.float32))\n",
    "\n",
    "init = tf.global_variables_initializer()\n",
    "with tf.Session() as sess:\n",
    "    sess.run(init)\n",
    "    for epoch in xrange(num_epochs):\n",
    "        total_batch = int(mnist.train.num_examples/batch_size)\n",
    "        avg_cost = 0.\n",
    "        for i in range(total_batch):\n",
    "            batch_xs, batch_ys = mnist.train.next_batch(batch_size)\n",
    "            _, c = sess.run([optimizer, cost], feed_dict={x:batch_xs, y:batch_ys,\n",
    "                                                          dropout:0.75})\n",
    "            avg_cost += c / total_batch\n",
    "            \n",
    "        if (epoch+1) % display_step == 0:\n",
    "            loss, acc = sess.run([cost, accuracy], feed_dict={x: mnist.test.images[3000:6000],\n",
    "                                                              y: mnist.test.labels[3000:6000],\n",
    "                                                              dropout: 1.})\n",
    "            print \"Epoch:\", '%3d' % (epoch+1), \"cost=%.5f\" % loss, \"accuracy=%.5f\" % acc \n",
    "        cost_history = np.append(cost_history,avg_cost)\n",
    "        \n",
    "correct_prediction = tf.equal(tf.argmax(y_, 1), tf.argmax(y, 1))\n",
    "# Calculate accuracy for 3000 examples\n",
    "accuracy = tf.reduce_mean(tf.cast(correct_prediction, tf.float32))\n",
    "print \"Accuracy:\", accuracy.eval(session=sess, feed_dict={x: mnist.test.images[:3000], \n",
    "                                                          y: mnist.test.labels[:3000],\n",
    "                                                          dropout: 1.})\n",
    "\n",
    "plt.plot(range(len(cost_history)),cost_history)\n",
    "plt.axis([0,training_epoch,0,np.max(cost_history)])\n",
    "plt.show()"
   ]
  },
  {
   "cell_type": "markdown",
   "metadata": {},
   "source": [
    "### Tensorboard\n",
    "An exmample from https://github.com/aymericdamien/TensorFlow-Examples/. A flavour of what the tensorboard is."
   ]
  },
  {
   "cell_type": "code",
   "execution_count": 104,
   "metadata": {
    "collapsed": false
   },
   "outputs": [
    {
     "name": "stdout",
     "output_type": "stream",
     "text": [
      "Extracting /tmp/data/train-images-idx3-ubyte.gz\n",
      "Extracting /tmp/data/train-labels-idx1-ubyte.gz\n",
      "Extracting /tmp/data/t10k-images-idx3-ubyte.gz\n",
      "Extracting /tmp/data/t10k-labels-idx1-ubyte.gz\n",
      "Epoch: 0001 cost= 1.184309467\n",
      "Epoch: 0002 cost= 0.665512222\n",
      "Epoch: 0003 cost= 0.552870828\n",
      "Epoch: 0004 cost= 0.498710604\n",
      "Epoch: 0005 cost= 0.465487670\n",
      "Epoch: 0006 cost= 0.442603394\n",
      "Epoch: 0007 cost= 0.425554566\n",
      "Epoch: 0008 cost= 0.412210876\n",
      "Epoch: 0009 cost= 0.401467893\n",
      "Epoch: 0010 cost= 0.392385557\n",
      "Epoch: 0011 cost= 0.384804990\n",
      "Epoch: 0012 cost= 0.378227886\n",
      "Epoch: 0013 cost= 0.372386400\n",
      "Epoch: 0014 cost= 0.367294912\n",
      "Epoch: 0015 cost= 0.362723750\n",
      "Epoch: 0016 cost= 0.358602526\n",
      "Epoch: 0017 cost= 0.354894461\n",
      "Epoch: 0018 cost= 0.351470449\n",
      "Epoch: 0019 cost= 0.348331863\n",
      "Epoch: 0020 cost= 0.345435497\n",
      "Epoch: 0021 cost= 0.342790451\n",
      "Epoch: 0022 cost= 0.340312141\n",
      "Epoch: 0023 cost= 0.337969097\n",
      "Epoch: 0024 cost= 0.335756481\n",
      "Epoch: 0025 cost= 0.333714418\n",
      "Optimization Finished!\n",
      "Accuracy: 0.9142\n",
      "Run the command line:\n",
      "--> tensorboard --logdir=/tmp/tensorflow_logs \n",
      "Then open http://0.0.0.0:6006/ into your web browser\n"
     ]
    }
   ],
   "source": [
    "from __future__ import print_function\n",
    "\n",
    "import tensorflow as tf\n",
    "\n",
    "# Import MNIST data\n",
    "from tensorflow.examples.tutorials.mnist import input_data\n",
    "mnist = input_data.read_data_sets(\"/tmp/data/\", one_hot=True)\n",
    "\n",
    "# Parameters\n",
    "learning_rate = 0.01\n",
    "training_epochs = 25\n",
    "batch_size = 100\n",
    "display_step = 1\n",
    "logs_path = '/tmp/tensorflow_logs/example'\n",
    "\n",
    "# tf Graph Input\n",
    "# mnist data image of shape 28*28=784\n",
    "x = tf.placeholder(tf.float32, [None, 784], name='InputData')\n",
    "# 0-9 digits recognition => 10 classes\n",
    "y = tf.placeholder(tf.float32, [None, 10], name='LabelData')\n",
    "\n",
    "# Set model weights\n",
    "W = tf.Variable(tf.zeros([784, 10]), name='Weights')\n",
    "b = tf.Variable(tf.zeros([10]), name='Bias')\n",
    "\n",
    "# Construct model and encapsulating all ops into scopes, making\n",
    "# Tensorboard's Graph visualization more convenient\n",
    "with tf.name_scope('Model'):\n",
    "    # Model\n",
    "    pred = tf.nn.softmax(tf.matmul(x, W) + b) # Softmax\n",
    "with tf.name_scope('Loss'):\n",
    "    # Minimize error using cross entropy\n",
    "    cost = tf.reduce_mean(-tf.reduce_sum(y*tf.log(pred), reduction_indices=1))\n",
    "with tf.name_scope('SGD'):\n",
    "    # Gradient Descent\n",
    "    optimizer = tf.train.GradientDescentOptimizer(learning_rate).minimize(cost)\n",
    "with tf.name_scope('Accuracy'):\n",
    "    # Accuracy\n",
    "    acc = tf.equal(tf.argmax(pred, 1), tf.argmax(y, 1))\n",
    "    acc = tf.reduce_mean(tf.cast(acc, tf.float32))\n",
    "\n",
    "# Initializing the variables\n",
    "init = tf.global_variables_initializer()\n",
    "\n",
    "#====================================These lines are added for tensorboard summary\n",
    "# Create a summary to monitor cost tensor\n",
    "tf.summary.scalar(\"loss\", cost)\n",
    "# Create a summary to monitor accuracy tensor\n",
    "tf.summary.scalar(\"accuracy\", acc)\n",
    "# Merge all summaries into a single op\n",
    "merged_summary_op = tf.summary.merge_all()\n",
    "\n",
    "# Launch the graph\n",
    "with tf.Session() as sess:\n",
    "    sess.run(init)\n",
    "\n",
    "    # op to write logs to Tensorboard\n",
    "    summary_writer = tf.summary.FileWriter(logs_path, graph=tf.get_default_graph())\n",
    "\n",
    "    # Training cycle\n",
    "    for epoch in range(training_epochs):\n",
    "        avg_cost = 0.\n",
    "        total_batch = int(mnist.train.num_examples/batch_size)\n",
    "        # Loop over all batches\n",
    "        for i in range(total_batch):\n",
    "            batch_xs, batch_ys = mnist.train.next_batch(batch_size)\n",
    "            # Run optimization op (backprop), cost op (to get loss value)\n",
    "            # and summary nodes\n",
    "            _, c, summary = sess.run([optimizer, cost, merged_summary_op],\n",
    "                                     feed_dict={x: batch_xs, y: batch_ys})\n",
    "            # Write logs at every iteration\n",
    "            summary_writer.add_summary(summary, epoch * total_batch + i)\n",
    "            # Compute average loss\n",
    "            avg_cost += c / total_batch\n",
    "        # Display logs per epoch step\n",
    "        if (epoch+1) % display_step == 0:\n",
    "            print(\"Epoch:\", '%04d' % (epoch+1), \"cost=\", \"{:.9f}\".format(avg_cost))\n",
    "\n",
    "    print(\"Optimization Finished!\")\n",
    "\n",
    "    # Test model\n",
    "    # Calculate accuracy\n",
    "    print(\"Accuracy:\", acc.eval({x: mnist.test.images, y: mnist.test.labels}))\n",
    "\n",
    "    print(\"Run the command line:\\n\" \\\n",
    "          \"--> tensorboard --logdir=/tmp/tensorflow_logs \" \\\n",
    "          \"\\nThen open http://0.0.0.0:6006/ into your web browser\")"
   ]
  },
  {
   "cell_type": "code",
   "execution_count": 105,
   "metadata": {
    "collapsed": false
   },
   "outputs": [
    {
     "name": "stdout",
     "output_type": "stream",
     "text": [
      "Starting TensorBoard 54 at http://1f7kf62.thecrick.org:6006\n",
      "(Press CTRL+C to quit)\n",
      "^C\n"
     ]
    }
   ],
   "source": [
    "!tensorboard --logdir=/tmp/tensorflow_logs"
   ]
  },
  {
   "cell_type": "code",
   "execution_count": 119,
   "metadata": {
    "collapsed": false
   },
   "outputs": [],
   "source": [
    "tf.reset_default_graph()\n",
    "# tf.get_collection(tf.GraphKeys.LAYER_VARIABLES + '/dense_layer')"
   ]
  },
  {
   "cell_type": "markdown",
   "metadata": {
    "collapsed": false
   },
   "source": [
    "## Build my own model\n",
    "I will build a simple feedforw deep neural networks model"
   ]
  },
  {
   "cell_type": "code",
   "execution_count": 107,
   "metadata": {
    "collapsed": true
   },
   "outputs": [],
   "source": [
    "import tensorflow as tf\n",
    "\n",
    "''' customized collections\n",
    "'''\n",
    "# data input placeholders.\n",
    "tf.GraphKeys.INPUTS = 'inputs'\n",
    "\n",
    "# Collection for network targets. Used by `Trainer` class for retrieving all\n",
    "# targets (labels) placeholders.\n",
    "tf.GraphKeys.TARGETS = 'targets'\n",
    "\n",
    "# Collection for network train ops. Used by `Trainer` class for retrieving all\n",
    "# optimization processes.\n",
    "tf.GraphKeys.TRAIN_OPS = 'trainops'\n",
    "\n",
    "# Collection to retrieve layers variables. Variables are stored according to\n",
    "# the following pattern: /tf.GraphKeys.LAYER_VARIABLES/layer_name (so there\n",
    "# will have as many collections as layers with variables).\n",
    "tf.GraphKeys.LAYER_VARIABLES = 'layer_variables'\n",
    "\n",
    "# Collection to store all returned tensors for every layer\n",
    "tf.GraphKeys.LAYER_TENSOR = 'layer_tensor'\n",
    "\n",
    "# Collection to store all variables that will be restored\n",
    "tf.GraphKeys.EXCL_RESTORE_VARS = 'restore_variables'\n",
    "\n",
    "# Collection to store the default graph configuration\n",
    "tf.GraphKeys.GRAPH_CONFIG = 'graph_config'\n",
    "\n",
    "# Collection to store all input variable data preprocessing\n",
    "tf.GraphKeys.DATA_PREP = 'data_preprocessing'\n",
    "\n",
    "# Collection to store all input variable data preprocessing\n",
    "tf.GraphKeys.DATA_AUG = 'data_augmentation'\n",
    "\n",
    "# Collection to store all custom learning rate variable\n",
    "tf.GraphKeys.LR_VARIABLES = 'lr_variables'"
   ]
  },
  {
   "cell_type": "code",
   "execution_count": 151,
   "metadata": {
    "collapsed": false
   },
   "outputs": [],
   "source": [
    "import tensorflow as tf\n",
    "from tensorflow.python.framework import ops\n",
    "from tensorflow.python.ops import variable_scope\n",
    "import numpy as np\n",
    "import six\n",
    "\n",
    "# In the first place, define variable and layers\n",
    "def variable(name, shape=None, dtype=tf.float32, initializer=None,\n",
    "             regularizer=None, trainable=True, collections=None,\n",
    "             caching_device=None, validate_shape=True, device=None,\n",
    "             restore=True):\n",
    "    if isinstance(initializer, str):\n",
    "        initializer = get(initializer)()\n",
    "    # Remove shape param if initializer is a Tensor\n",
    "    if not callable(initializer) and isinstance(initializer, tf.Tensor):\n",
    "        shape = None\n",
    "\n",
    "    if isinstance(regularizer, str):\n",
    "        regularizer = get(regularizer)\n",
    "\n",
    "    collections = set(collections or [])\n",
    "    collections |= set([ops.GraphKeys.GLOBAL_VARIABLES,\n",
    "                        ops.GraphKeys.MODEL_VARIABLES])\n",
    "\n",
    "    with ops.device(device or ''):\n",
    "        var = variable_scope.get_variable(name, shape=shape, dtype=dtype,\n",
    "                                          initializer=initializer,\n",
    "                                          regularizer=regularizer,\n",
    "                                          trainable=trainable,\n",
    "                                          collections=collections,\n",
    "                                          caching_device=caching_device,\n",
    "                                          validate_shape=validate_shape)\n",
    "    if not restore:\n",
    "        tf.add_to_collection(tf.GraphKeys.EXCL_RESTORE_VARS, var)\n",
    "    return var\n",
    "\n",
    "\n",
    "def input_layer(shape=None, placeholder=None, dtype=tf.float32, \n",
    "                data_preprocessing=None, \n",
    "                data_augmentation=None,name='input_layer'):\n",
    "    if placeholder is None:\n",
    "        if shape is None:\n",
    "            raise Exception(\"Either a `shape` or `placeholder` argument is required to consruct an input layer.\")\n",
    "        if len(shape) > 1 and shape[0] is not None:\n",
    "            shape = list(shape)\n",
    "            shape = [None] + shape\n",
    "        with tf.name_scope(name):\n",
    "            placeholder = tf.placeholder(shape=shape, dtype=dtype, name=\"X\")\n",
    "    tf.add_to_collection(tf.GraphKeys.INPUTS, placeholder)\n",
    "    tf.add_to_collection(tf.GraphKeys.LAYER_TENSOR + '/' + name, placeholder)\n",
    "    tf.add_to_collection(tf.GraphKeys.DATA_PREP, data_preprocessing)\n",
    "    tf.add_to_collection(tf.GraphKeys.DATA_AUG, data_augmentation)\n",
    "    return placeholder    \n",
    "\n",
    "\n",
    "def dense_layer(incoming, n_units, activation='linear', bias=True,\n",
    "                weights_init='truncated_normal', bias_init='zeros',\n",
    "                regularizer=None, weight_decay=0.001, trainable=True,\n",
    "                restore=True, reuse=False, scope=None, name=\"dense_layer\"):\n",
    "    input_shape = get_incoming_shape(incoming)\n",
    "    assert len(input_shape) > 1, \"Incoming Tensor shape must be at least 2-D\"\n",
    "    n_inputs = int(np.prod(input_shape[1:]))\n",
    "\n",
    "    with tf.variable_scope(scope, default_name=name, values=[incoming], reuse=reuse) as scope:\n",
    "        name = scope.name\n",
    "\n",
    "        W_init = weights_init\n",
    "        if isinstance(weights_init, str):\n",
    "            W_init = get(weights_init)()\n",
    "        W_regul = None\n",
    "        if regularizer:\n",
    "            W_regul = lambda x: losses.get(regularizer)(x, weight_decay)\n",
    "        W = variable('W', shape=[n_inputs, n_units], regularizer=W_regul,\n",
    "                     initializer=W_init, trainable=trainable,\n",
    "                     restore=restore)\n",
    "        tf.add_to_collection(tf.GraphKeys.LAYER_VARIABLES + '/' + name, W)\n",
    "\n",
    "        b = None\n",
    "        if bias:\n",
    "            if isinstance(bias_init, str):\n",
    "                bias_init = get(bias_init)()\n",
    "            b = variable('b', shape=[n_units], initializer=bias_init,\n",
    "                         trainable=trainable, restore=restore)\n",
    "            tf.add_to_collection(tf.GraphKeys.LAYER_VARIABLES + '/' + name, b)\n",
    "\n",
    "        inference = incoming\n",
    "        # If input is not 2d, flatten it.\n",
    "        if len(input_shape) > 2:\n",
    "            inference = tf.reshape(inference, [-1, n_inputs])\n",
    "\n",
    "        inference = tf.matmul(inference, W)\n",
    "        if b: inference = tf.nn.bias_add(inference, b)\n",
    "        if activation:\n",
    "            if isinstance(activation, str):\n",
    "                inference = get(activation)(inference)\n",
    "            elif hasattr(activation, '__call__'):\n",
    "                inference = activation(inference)\n",
    "            else:\n",
    "                raise ValueError(\"Invalid Activation.\")\n",
    "\n",
    "        # Track activations.\n",
    "        tf.add_to_collection(tf.GraphKeys.ACTIVATIONS, inference)\n",
    "    inference.scope = scope\n",
    "    inference.W = W\n",
    "    inference.b = b\n",
    "\n",
    "    # Track output tensor.\n",
    "    tf.add_to_collection(tf.GraphKeys.LAYER_TENSOR + '/' + name, inference)\n",
    "    return inference\n",
    "\n",
    "\n",
    "def get_incoming_shape(incoming):\n",
    "    \"\"\" Returns the incoming data shape \"\"\"\n",
    "    if isinstance(incoming, tf.Tensor):\n",
    "        return incoming.get_shape().as_list()\n",
    "    elif type(incoming) in [np.array, np.ndarray, list, tuple]:\n",
    "        return np.shape(incoming)\n",
    "    else:\n",
    "        raise Exception(\"Invalid incoming layer.\")\n",
    "        \n",
    "        \n",
    "def get(identifier):\n",
    "    if hasattr(identifier, '__call__'):\n",
    "        return identifier\n",
    "    else:\n",
    "        return get_from_module(identifier, globals(), 'initialization')\n",
    "    \n",
    "    \n",
    "def get_from_module(identifier, module_params, module_name, instantiate=False, kwargs=None):\n",
    "    if isinstance(identifier, six.string_types):\n",
    "        res = module_params.get(identifier)\n",
    "        if not res:\n",
    "            res = module_params.get(identifier.lower())\n",
    "            if not res:\n",
    "                raise Exception('Invalid ' + str(module_name) + ': ' + str(identifier))\n",
    "        if instantiate and not kwargs:\n",
    "            return res()\n",
    "        elif instantiate and kwargs:\n",
    "            return res(**kwargs)\n",
    "        else:\n",
    "            return res\n",
    "    return identifier\n",
    "\n",
    "\n",
    "def truncated_normal(shape=None, mean=0.0, stddev=0.02, dtype=tf.float32,\n",
    "                     seed=None):\n",
    "    if shape:\n",
    "        return tf.truncated_normal(shape=shape, mean=mean, stddev=stddev,\n",
    "                                   seed=seed, dtype=dtype)\n",
    "    else:\n",
    "        return tf.truncated_normal_initializer(mean=mean, stddev=stddev,\n",
    "seed=seed, dtype=dtype)\n",
    "    \n",
    "    \n",
    "def zeros(shape=None, dtype=tf.float32, seed=None):\n",
    "    if shape:\n",
    "        return tf.zeros(shape, dtype=dtype)\n",
    "    else:\n",
    "        return tf.constant_initializer(0.)\n",
    "    \n",
    "    \n",
    "def linear(x):\n",
    "    return x\n",
    "\n",
    "def softmax(x):\n",
    "    return tf.nn.softmax(x)\n",
    "\n",
    "def relu(x):\n",
    "    return tf.nn.relu(x)"
   ]
  },
  {
   "cell_type": "code",
   "execution_count": 170,
   "metadata": {
    "collapsed": false
   },
   "outputs": [],
   "source": [
    "# dropout layer\n",
    "def dropout(incoming, keep_prob, noise_shape=None, name=\"Dropout\"):\n",
    "    with tf.name_scope(name) as scope:\n",
    "        inference = incoming\n",
    "        def apply_dropout():\n",
    "            if type(inference) in [list, np.array]:\n",
    "                for x in inference:\n",
    "                    x = tf.nn.dropout(x, keep_prob, noise_shape)\n",
    "                return inference\n",
    "            else:\n",
    "                return tf.nn.dropout(inference, keep_prob, noise_shape)\n",
    "\n",
    "        is_training = get_training_mode()\n",
    "        inference = tf.cond(is_training, apply_dropout, lambda: inference)\n",
    "\n",
    "    # Track output tensor.\n",
    "    tf.add_to_collection(tf.GraphKeys.LAYER_TENSOR + '/' + name, inference)\n",
    "    return inference\n",
    "\n",
    "def get_training_mode():\n",
    "    init_training_mode()\n",
    "    coll = tf.get_collection('is_training')\n",
    "    return coll[0]\n",
    "\n",
    "\n",
    "def is_training(is_training=False, session=None):\n",
    "    if not session:\n",
    "        session = tf.get_default_session()\n",
    "    init_training_mode()\n",
    "    if is_training:\n",
    "        tf.get_collection('is_training_ops')[0].eval(session=session)\n",
    "    else:\n",
    "        tf.get_collection('is_training_ops')[1].eval(session=session)    \n",
    "\n",
    "\n",
    "def init_training_mode():\n",
    "    # 'is_training' collection stores the training mode variable\n",
    "    coll = tf.get_collection('is_training')\n",
    "    if len(coll) == 0:\n",
    "        tr_var = variable(\n",
    "            \"is_training\", dtype=tf.bool, shape=[],\n",
    "            initializer=tf.constant_initializer(False),\n",
    "            trainable=False)\n",
    "        tf.add_to_collection('is_training', tr_var)\n",
    "        # 'is_training_ops' stores the ops to update training mode variable\n",
    "        a = tf.assign(tr_var, True)\n",
    "        b = tf.assign(tr_var, False)\n",
    "        tf.add_to_collection('is_training_ops', a)\n",
    "        tf.add_to_collection('is_training_ops', b)\n",
    "        \n",
    "        \n",
    "def batch_normalization(incoming, beta=0.0, gamma=1.0, epsilon=1e-5,\n",
    "                        decay=0.9, stddev=0.002, trainable=True,\n",
    "                        restore=True, reuse=False, scope=None,\n",
    "                        name=\"BatchNormalization\"):\n",
    "    input_shape = utils.get_incoming_shape(incoming)\n",
    "    input_ndim = len(input_shape)\n",
    "\n",
    "    gamma_init = tf.random_normal_initializer(mean=gamma, stddev=stddev)\n",
    "\n",
    "    with tf.variable_scope(scope, default_name=name, values=[incoming],\n",
    "                           reuse=reuse) as scope:\n",
    "        name = scope.name\n",
    "        beta = vs.variable('beta', shape=[input_shape[-1]],\n",
    "                           initializer=tf.constant_initializer(beta),\n",
    "                           trainable=trainable, restore=restore)\n",
    "        gamma = vs.variable('gamma', shape=[input_shape[-1]],\n",
    "                            initializer=gamma_init, trainable=trainable,\n",
    "                            restore=restore)\n",
    "        # Track per layer variables\n",
    "        tf.add_to_collection(tf.GraphKeys.LAYER_VARIABLES + '/' + name, beta)\n",
    "        tf.add_to_collection(tf.GraphKeys.LAYER_VARIABLES + '/' + name, gamma)\n",
    "        if not restore:\n",
    "            tf.add_to_collection(tf.GraphKeys.EXCL_RESTORE_VARS, beta)\n",
    "            tf.add_to_collection(tf.GraphKeys.EXCL_RESTORE_VARS, gamma)\n",
    "\n",
    "        axis = list(range(input_ndim - 1))\n",
    "\n",
    "        moving_mean = vs.variable('moving_mean', input_shape[-1:],\n",
    "                                  initializer=tf.zeros_initializer(),\n",
    "                                  trainable=False, restore=restore)\n",
    "        moving_variance = vs.variable('moving_variance',\n",
    "                                      input_shape[-1:],\n",
    "                                      initializer=tf.constant_initializer(1.),\n",
    "                                      trainable=False,\n",
    "                                      restore=restore)\n",
    "\n",
    "        # Define a function to update mean and variance\n",
    "        def update_mean_var():\n",
    "            mean, variance = tf.nn.moments(incoming, axis)\n",
    "\n",
    "            update_moving_mean = moving_averages.assign_moving_average(\n",
    "                moving_mean, mean, decay, zero_debias=False)\n",
    "            update_moving_variance = moving_averages.assign_moving_average(\n",
    "                moving_variance, variance, decay, zero_debias=False)\n",
    "\n",
    "            with tf.control_dependencies(\n",
    "                    [update_moving_mean, update_moving_variance]):\n",
    "                return tf.identity(mean), tf.identity(variance)\n",
    "\n",
    "        # Retrieve variable managing training mode\n",
    "        is_training = tflearn.get_training_mode()\n",
    "        mean, var = tf.cond(\n",
    "            is_training, update_mean_var, lambda: (moving_mean, moving_variance))\n",
    "\n",
    "        inference = tf.nn.batch_normalization(\n",
    "            incoming, mean, var, beta, gamma, epsilon)\n",
    "        inference.set_shape(input_shape)\n",
    "\n",
    "\n",
    "    # Add attributes for easy access\n",
    "    inference.scope = scope\n",
    "    inference.beta = beta\n",
    "    inference.gamma = gamma\n",
    "\n",
    "    # Track output tensor.\n",
    "    tf.add_to_collection(tf.GraphKeys.LAYER_TENSOR + '/' + name, inference)\n",
    "    return inference\n",
    "\n",
    "\n",
    "def dense_batch_relu(incoming, n_units, activation, scope, name, phase):\n",
    "    with tf.variable_scope(scope):\n",
    "        h1 = dense_layer(input, n_units=n_units, activation='linear', name=name)\n",
    "        h2 = tf.contrib.layers.batch_norm(h1, center=True, scale=True, \n",
    "                                          is_training=phase,\n",
    "                                          scope=name + '_bn')\n",
    "        return tf.nn.relu(h2, activation)\n",
    "            "
   ]
  },
  {
   "cell_type": "code",
   "execution_count": null,
   "metadata": {
    "collapsed": true
   },
   "outputs": [],
   "source": [
    "class dnn(object):\n",
    "    def __init__(self, network, tensorboard_verbose=0, tensorboard_dir=\"/tmp/tflearn_logs/\", \n",
    "                 session=None, best_val_accuracy=0.0):\n",
    "        assert isinstance(network, tf.Tensor), \"'network' arg is not a Tensor!\"\n",
    "        self.net = network\n",
    "        self.session = session\n",
    "        self.inputs = tf.get_collection(tf.GraphKeys.INPUTS)\n",
    "        self.targets = tf.get_collection(tf.GraphKeys.TARGETS)\n",
    "        self.predictor = Evaluator([self.net], session=self.session)\n",
    "\n",
    "        "
   ]
  },
  {
   "cell_type": "code",
   "execution_count": 152,
   "metadata": {
    "collapsed": false
   },
   "outputs": [],
   "source": [
    "tf.reset_default_graph()\n",
    "input = input_layer(shape=[None, 256])\n",
    "layer_1 = dense_batch_relu(input, n_units=150, activation='relu', scope='share', name='layer1', phase=True)\n",
    "dropout_1 = dropout(layer_1, 0.8)\n",
    "layer_2 = dense_batch_relu(dropout_1, n_units=150, activation='relu', scope='share', name='layer2', phase=True)\n",
    "layer_o = dense_layer(layer_2, n_units=2, activation='softmax', name='output')"
   ]
  },
  {
   "cell_type": "code",
   "execution_count": 169,
   "metadata": {
    "collapsed": false
   },
   "outputs": [
    {
     "name": "stdout",
     "output_type": "stream",
     "text": [
      "Tensor(\"Dropout/Assign:0\", shape=(), dtype=bool_ref)\n"
     ]
    }
   ],
   "source": [
    "coll = tf.get_collection('is_training_ops')\n",
    "print(coll[0])"
   ]
  },
  {
   "cell_type": "markdown",
   "metadata": {},
   "source": [
    "So we have successfully built an input layer, a fully connected dense layer, a dropout layer and a output layer."
   ]
  },
  {
   "cell_type": "code",
   "execution_count": null,
   "metadata": {
    "collapsed": false
   },
   "outputs": [
    {
     "name": "stdout",
     "output_type": "stream",
     "text": [
      "[<tf.Variable 'share/layer1/W:0' shape=(256, 150) dtype=float32_ref>, <tf.Variable 'share/layer1/b:0' shape=(150,) dtype=float32_ref>, <tf.Variable 'share/layer1_bn/beta:0' shape=(150,) dtype=float32_ref>, <tf.Variable 'share/layer1_bn/gamma:0' shape=(150,) dtype=float32_ref>, <tf.Variable 'share/layer1_bn/moving_mean:0' shape=(150,) dtype=float32_ref>, <tf.Variable 'share/layer1_bn/moving_variance:0' shape=(150,) dtype=float32_ref>, <tf.Variable 'is_training:0' shape=() dtype=bool_ref>, <tf.Variable 'share/layer2/W:0' shape=(256, 150) dtype=float32_ref>, <tf.Variable 'share/layer2/b:0' shape=(150,) dtype=float32_ref>, <tf.Variable 'share/layer2_bn/beta:0' shape=(150,) dtype=float32_ref>, <tf.Variable 'share/layer2_bn/gamma:0' shape=(150,) dtype=float32_ref>, <tf.Variable 'share/layer2_bn/moving_mean:0' shape=(150,) dtype=float32_ref>, <tf.Variable 'share/layer2_bn/moving_variance:0' shape=(150,) dtype=float32_ref>, <tf.Variable 'output/W:0' shape=(150, 2) dtype=float32_ref>, <tf.Variable 'output/b:0' shape=(2,) dtype=float32_ref>]\n",
      "layer_variables\n"
     ]
    }
   ],
   "source": [
    "print(tf.global_variables())\n",
    "print(tf.GraphKeys.LAYER_VARIABLES)"
   ]
  },
  {
   "cell_type": "code",
   "execution_count": 135,
   "metadata": {
    "collapsed": false
   },
   "outputs": [
    {
     "name": "stdout",
     "output_type": "stream",
     "text": [
      "<tf.Variable 'Shared/layer1/W:0' shape=(256, 150) dtype=float32_ref>\n"
     ]
    }
   ],
   "source": [
    "with tf.variable_scope('Shared') as scope:\n",
    "    scope.reuse_variables()\n",
    "    v = tf.get_variable('layer1/W')\n",
    "\n",
    "print(v)"
   ]
  }
 ],
 "metadata": {
  "anaconda-cloud": {},
  "kernelspec": {
   "display_name": "Python [conda root]",
   "language": "python",
   "name": "conda-root-py"
  },
  "language_info": {
   "codemirror_mode": {
    "name": "ipython",
    "version": 2
   },
   "file_extension": ".py",
   "mimetype": "text/x-python",
   "name": "python",
   "nbconvert_exporter": "python",
   "pygments_lexer": "ipython2",
   "version": "2.7.12"
  }
 },
 "nbformat": 4,
 "nbformat_minor": 1
}
